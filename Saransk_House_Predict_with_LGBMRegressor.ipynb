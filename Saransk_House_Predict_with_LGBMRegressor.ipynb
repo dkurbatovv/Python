{
  "nbformat": 4,
  "nbformat_minor": 0,
  "metadata": {
    "colab": {
      "name": "Saransk House Predict with  LGBMRegressor.ipynb",
      "private_outputs": true,
      "provenance": [],
      "authorship_tag": "ABX9TyNYStwKTv8VfWPNefrkTR3T",
      "include_colab_link": true
    },
    "kernelspec": {
      "name": "python3",
      "display_name": "Python 3"
    },
    "language_info": {
      "name": "python"
    }
  },
  "cells": [
    {
      "cell_type": "markdown",
      "metadata": {
        "id": "view-in-github",
        "colab_type": "text"
      },
      "source": [
        "<a href=\"https://colab.research.google.com/github/dkurbatovv/Python/blob/main/Saransk_House_Predict_with_LGBMRegressor.ipynb\" target=\"_parent\"><img src=\"https://colab.research.google.com/assets/colab-badge.svg\" alt=\"Open In Colab\"/></a>"
      ]
    },
    {
      "cell_type": "code",
      "execution_count": null,
      "metadata": {
        "id": "rdiEf6tzt0Z2"
      },
      "outputs": [],
      "source": [
        "! pip install pycaret"
      ]
    },
    {
      "cell_type": "code",
      "source": [
        "from pycaret.regression import *"
      ],
      "metadata": {
        "id": "_qljWJMgt6hA"
      },
      "execution_count": null,
      "outputs": []
    },
    {
      "cell_type": "code",
      "source": [
        "!pip install kaggle\n",
        "\n",
        "\n",
        "from google.colab import files\n",
        "\n",
        "uploaded = files.upload()\n",
        "\n",
        "for fn in uploaded.keys():\n",
        "  print('User uploaded file \"{name}\" with length {length} bytes'.format(\n",
        "      name=fn, length=len(uploaded[fn])))\n",
        "  \n",
        "\n",
        "\n",
        "!mkdir -p ~/.kaggle/\n",
        "! cp kaggle.json ~/.kaggle/\n",
        "! chmod 600 ~/.kaggle/kaggle.json"
      ],
      "metadata": {
        "id": "O0p2ceEcuR0x"
      },
      "execution_count": null,
      "outputs": []
    },
    {
      "cell_type": "code",
      "source": [
        "! kaggle datasets download -d mrdaniilak/russia-real-estate-2021"
      ],
      "metadata": {
        "id": "lvhxTlsluT2Y"
      },
      "execution_count": null,
      "outputs": []
    },
    {
      "cell_type": "code",
      "source": [
        "! unzip russia-real-estate-2021.zip"
      ],
      "metadata": {
        "id": "j5U23ZVQuh5-"
      },
      "execution_count": null,
      "outputs": []
    },
    {
      "cell_type": "code",
      "source": [
        "import numpy as np\n",
        "import pandas as pd\n",
        "import datetime\n",
        "import random\n",
        "\n",
        "# Plots\n",
        "import seaborn as sns\n",
        "import matplotlib.pyplot as plt\n",
        "\n",
        "# Models\n",
        "from sklearn.ensemble import RandomForestRegressor, GradientBoostingRegressor, AdaBoostRegressor, BaggingRegressor\n",
        "from sklearn.kernel_ridge import KernelRidge\n",
        "from sklearn.linear_model import Ridge, RidgeCV\n",
        "from sklearn.linear_model import ElasticNet, ElasticNetCV\n",
        "from sklearn.svm import SVR\n",
        "from mlxtend.regressor import StackingCVRegressor\n",
        "import lightgbm as lgb\n",
        "from lightgbm import LGBMRegressor\n",
        "from xgboost import XGBRegressor\n",
        "\n",
        "# Stats\n",
        "from scipy.stats import skew, norm\n",
        "from scipy.special import boxcox1p\n",
        "from scipy.stats import boxcox_normmax\n",
        "\n",
        "# Misc\n",
        "from sklearn.model_selection import GridSearchCV\n",
        "from sklearn.model_selection import KFold, cross_val_score\n",
        "from sklearn.metrics import mean_squared_error\n",
        "from sklearn.preprocessing import OneHotEncoder\n",
        "from sklearn.preprocessing import LabelEncoder\n",
        "from sklearn.pipeline import make_pipeline\n",
        "from sklearn.preprocessing import scale\n",
        "from sklearn.preprocessing import StandardScaler\n",
        "from sklearn.preprocessing import RobustScaler\n",
        "from sklearn.decomposition import PCA"
      ],
      "metadata": {
        "id": "OCoN9DSjvFt4"
      },
      "execution_count": null,
      "outputs": []
    },
    {
      "cell_type": "code",
      "source": [
        "df = pd.read_csv('/content/input_data.csv', sep=';')"
      ],
      "metadata": {
        "id": "h5IZdWaoukYD"
      },
      "execution_count": null,
      "outputs": []
    },
    {
      "cell_type": "code",
      "source": [
        "df.head()"
      ],
      "metadata": {
        "id": "-nDjgKPTurY1"
      },
      "execution_count": null,
      "outputs": []
    },
    {
      "cell_type": "code",
      "source": [
        "saransk_df = df.drop(df[df.id_region != 13].index)\n",
        "saransk_df.head()"
      ],
      "metadata": {
        "id": "XolvEP2XusDr"
      },
      "execution_count": null,
      "outputs": []
    },
    {
      "cell_type": "code",
      "source": [
        "saransk_df.index = np.arange(len(saransk_df))"
      ],
      "metadata": {
        "id": "fh76NyLSuyq5"
      },
      "execution_count": null,
      "outputs": []
    },
    {
      "cell_type": "code",
      "source": [
        "saransk_df.head()"
      ],
      "metadata": {
        "id": "kTjZJQWju0HC"
      },
      "execution_count": null,
      "outputs": []
    },
    {
      "cell_type": "code",
      "source": [
        "saransk_df.isnull().sum()"
      ],
      "metadata": {
        "id": "M0vhbPzlu1RY"
      },
      "execution_count": null,
      "outputs": []
    },
    {
      "cell_type": "code",
      "source": [
        "saransk_df = saransk_df.drop(['house_id', 'date', 'postal_code', 'street_id', 'id_region', 'house_id'], axis = 1)\n",
        "\n",
        "saransk_df = saransk_df.dropna()"
      ],
      "metadata": {
        "id": "jW_Xwpwnu2e5"
      },
      "execution_count": null,
      "outputs": []
    },
    {
      "cell_type": "code",
      "source": [
        "saransk_df.isnull().sum()"
      ],
      "metadata": {
        "id": "DTfM28u2u6Bw"
      },
      "execution_count": null,
      "outputs": []
    },
    {
      "cell_type": "code",
      "source": [
        "saransk_df.info()"
      ],
      "metadata": {
        "id": "slqH-sdTu7BC"
      },
      "execution_count": null,
      "outputs": []
    },
    {
      "cell_type": "code",
      "source": [
        "saransk_df.describe()"
      ],
      "metadata": {
        "id": "NNrwdWWTu8H2"
      },
      "execution_count": null,
      "outputs": []
    },
    {
      "cell_type": "code",
      "source": [
        "sns.set_style(\"white\")\n",
        "sns.set_color_codes(palette='deep')\n",
        "f, ax = plt.subplots(figsize=(8, 7))\n",
        "#Check the new distribution \n",
        "sns.distplot(saransk_df['price'], color=\"b\");\n",
        "ax.xaxis.grid(False)\n",
        "ax.set(ylabel=\"Frequency\")\n",
        "ax.set(xlabel=\"Price\")\n",
        "ax.set(title=\"Price distribution\")\n",
        "sns.despine(trim=True, left=True)\n",
        "plt.show()"
      ],
      "metadata": {
        "id": "yXVM9gOiu9oA"
      },
      "execution_count": null,
      "outputs": []
    },
    {
      "cell_type": "code",
      "source": [
        "saransk_df = saransk_df.drop(saransk_df[saransk_df.price > 1000000000].index)"
      ],
      "metadata": {
        "id": "QxsAGpaHu_Ef"
      },
      "execution_count": null,
      "outputs": []
    },
    {
      "cell_type": "code",
      "source": [
        "saransk_df = saransk_df.drop(saransk_df[saransk_df.price == 0].index)"
      ],
      "metadata": {
        "id": "lDV5fmp6JyeC"
      },
      "execution_count": null,
      "outputs": []
    },
    {
      "cell_type": "code",
      "source": [
        "sns.set_style(\"white\")\n",
        "sns.set_color_codes(palette='deep')\n",
        "f, ax = plt.subplots(figsize=(8, 7))\n",
        "#Check the new distribution \n",
        "sns.distplot(saransk_df['price'], color=\"b\");\n",
        "ax.xaxis.grid(False)\n",
        "ax.set(ylabel=\"Frequency\")\n",
        "ax.set(xlabel=\"Price\")\n",
        "ax.set(title=\"Price distribution\")\n",
        "sns.despine(trim=True, left=True)\n",
        "plt.show()"
      ],
      "metadata": {
        "id": "IcXPBxXxvJ-N"
      },
      "execution_count": null,
      "outputs": []
    },
    {
      "cell_type": "code",
      "source": [
        "saransk_df.describe()"
      ],
      "metadata": {
        "id": "R_XeLMwyvK99"
      },
      "execution_count": null,
      "outputs": []
    },
    {
      "cell_type": "code",
      "source": [
        "saransk_df = saransk_df.drop(saransk_df[saransk_df.kitchen_area < 0].index)\n",
        "saransk_df.describe()"
      ],
      "metadata": {
        "id": "NF34SoSuvNM5"
      },
      "execution_count": null,
      "outputs": []
    },
    {
      "cell_type": "code",
      "source": [
        "sns.heatmap(saransk_df.corr(), cmap = 'inferno', fmt = '.1f', annot = True)"
      ],
      "metadata": {
        "id": "7U2JUWucnH77"
      },
      "execution_count": null,
      "outputs": []
    },
    {
      "cell_type": "code",
      "source": [
        "saransk_df.head()"
      ],
      "metadata": {
        "id": "Mv0vR_f-gK6c"
      },
      "execution_count": null,
      "outputs": []
    },
    {
      "cell_type": "code",
      "source": [
        "features_cols = ['level',\t'levels',\t'rooms', 'building_type',\t'object_type']\n",
        "proba = pd.get_dummies(saransk_df, columns=features_cols)"
      ],
      "metadata": {
        "id": "EnRmhvmfDJaG"
      },
      "execution_count": null,
      "outputs": []
    },
    {
      "cell_type": "code",
      "source": [
        "proba.head()"
      ],
      "metadata": {
        "id": "MnZVy-yjDdhu"
      },
      "execution_count": null,
      "outputs": []
    },
    {
      "cell_type": "code",
      "source": [
        ""
      ],
      "metadata": {
        "id": "-YC2C8bhJppn"
      },
      "execution_count": null,
      "outputs": []
    },
    {
      "cell_type": "code",
      "source": [
        "X = proba.drop('price', axis = 1)\n",
        "y = proba.price"
      ],
      "metadata": {
        "id": "GL57BtBZDiYs"
      },
      "execution_count": null,
      "outputs": []
    },
    {
      "cell_type": "code",
      "source": [
        "y = np.log(y)"
      ],
      "metadata": {
        "id": "63vL2hOFG9d4"
      },
      "execution_count": null,
      "outputs": []
    },
    {
      "cell_type": "code",
      "source": [
        ""
      ],
      "metadata": {
        "id": "5VwgujqtHJ5U"
      },
      "execution_count": null,
      "outputs": []
    },
    {
      "cell_type": "code",
      "source": [
        "rc = RobustScaler()\n",
        "\n",
        "X = rc.fit_transform(X)"
      ],
      "metadata": {
        "id": "jg94Xa-4EEA1"
      },
      "execution_count": null,
      "outputs": []
    },
    {
      "cell_type": "code",
      "source": [
        "X"
      ],
      "metadata": {
        "id": "hOPiWAW0ELUm"
      },
      "execution_count": null,
      "outputs": []
    },
    {
      "cell_type": "code",
      "source": [
        "from sklearn.model_selection import train_test_split\n",
        "from sklearn.linear_model import LinearRegression\n",
        "\n",
        "X_train, X_test, y_train, y_test = train_test_split(X, y, test_size = 0.2)"
      ],
      "metadata": {
        "id": "BQ-Lbj8TD5PV"
      },
      "execution_count": null,
      "outputs": []
    },
    {
      "cell_type": "code",
      "source": [
        "lm = LinearRegression()\n",
        "lm.fit(X_train, y_train)"
      ],
      "metadata": {
        "id": "dux8wjALEQ2E"
      },
      "execution_count": null,
      "outputs": []
    },
    {
      "cell_type": "code",
      "source": [
        "y_pred = lm.predict(X_train)"
      ],
      "metadata": {
        "id": "Nm6jycrLEb_2"
      },
      "execution_count": null,
      "outputs": []
    },
    {
      "cell_type": "code",
      "source": [
        "from sklearn.metrics import r2_score, explained_variance_score, mean_absolute_error, mean_squared_error\n",
        "from math import sqrt\n",
        "\n",
        "print('The Accuracy  on the training dataset is: ', lm.score(X_train, y_train) )\n",
        "print('The Accuracy n2  on the training dataset is: ',r2_score(y_train,y_pred) )   \n",
        "\n",
        "print(\"\")\n",
        "# Model Accuracy on testing dataset\n",
        "print('The Accuracy  on the testing dataset is: ', lm.score(X_test, y_test) )\n",
        "\n",
        "print(\"\")\n",
        "# The Root Mean Squared Error (RMSE)\n",
        "print('The RMSE  on the training dataset is: ',sqrt(mean_squared_error(y_train,y_pred)))\n",
        "print('The RMSE  on the testing dataset is: ',sqrt(mean_squared_error(y_test,lm.predict(X_test))))\n",
        "\n",
        "print(\"\")\n",
        "# The Mean Absolute Error (MAE)\n",
        "print('The MAE  on the training dataset is: ',mean_absolute_error(y_train,y_pred))\n",
        "print('The MAE  on the testing dataset is: ',mean_absolute_error(y_test,lm.predict(X_test)))"
      ],
      "metadata": {
        "id": "iHAJapClEvNW"
      },
      "execution_count": null,
      "outputs": []
    },
    {
      "cell_type": "code",
      "source": [
        "lightgbm = LGBMRegressor(objective='regression', \n",
        "                       num_leaves=6,\n",
        "                       learning_rate=0.01, \n",
        "                       n_estimators=7000,\n",
        "                       max_bin=200, \n",
        "                       bagging_fraction=0.8,\n",
        "                       bagging_freq=4, \n",
        "                       bagging_seed=8,\n",
        "                       feature_fraction=0.2,\n",
        "                       feature_fraction_seed=8,\n",
        "                       min_sum_hessian_in_leaf = 11,\n",
        "                       verbose=-1,\n",
        "                       random_state=42)"
      ],
      "metadata": {
        "id": "ZpdlvKFfLGxr"
      },
      "execution_count": null,
      "outputs": []
    },
    {
      "cell_type": "code",
      "source": [
        "lightgbm.fit(X_train, y_train)"
      ],
      "metadata": {
        "id": "4w6EEkesLH74"
      },
      "execution_count": null,
      "outputs": []
    },
    {
      "cell_type": "code",
      "source": [
        "y_pred_lr = lightgbm.predict(X_train)"
      ],
      "metadata": {
        "id": "63oGisi-LSvx"
      },
      "execution_count": null,
      "outputs": []
    },
    {
      "cell_type": "code",
      "source": [
        "print('The Accuracy  on the training dataset is: ', lightgbm.score(X_train, y_train) )\n",
        "print('The Accuracy n2  on the training dataset is: ',r2_score(y_train,y_pred_lr) )   \n",
        "\n",
        "print(\"\")\n",
        "# Model Accuracy on testing dataset\n",
        "print('The Accuracy  on the testing dataset is: ', lightgbm.score(X_test, y_test) )\n",
        "\n",
        "print(\"\")\n",
        "# The Root Mean Squared Error (RMSE)\n",
        "print('The RMSE  on the training dataset is: ',sqrt(mean_squared_error(y_train,y_pred_lr)))\n",
        "print('The RMSE  on the testing dataset is: ',sqrt(mean_squared_error(y_test,lm.predict(X_test))))\n",
        "\n",
        "print(\"\")\n",
        "# The Mean Absolute Error (MAE)\n",
        "print('The MAE  on the training dataset is: ',mean_absolute_error(y_train,y_pred_lr))\n",
        "print('The MAE  on the testing dataset is: ',mean_absolute_error(y_test,lightgbm.predict(X_test)))"
      ],
      "metadata": {
        "id": "H7vu28dhLbiI"
      },
      "execution_count": null,
      "outputs": []
    },
    {
      "cell_type": "code",
      "source": [
        "plt.figure(figsize=(15,10))\n",
        "\n",
        "plt.scatter(y_train, y_pred_lr, c='green')\n",
        "plt.plot([y_train.min(), y_train.max()], [y_train.min(), y_train.max()], 'k--', c='red', lw=3)\n",
        "plt.xlabel('Actuals')\n",
        "plt.ylabel('Predicted Values')\n",
        "plt.title('Actuals Vs Predicted Values')"
      ],
      "metadata": {
        "id": "vFc78uGxFA9S"
      },
      "execution_count": null,
      "outputs": []
    },
    {
      "cell_type": "code",
      "source": [
        "model = setup(data = saransk_df, \n",
        "             target = 'price',\n",
        "             numeric_imputation = 'mean',\n",
        "             ignore_features = ['geo_lat',\t'geo_lon', 'object_type'],\n",
        "             normalize = True,\n",
        "             silent = True)"
      ],
      "metadata": {
        "id": "3L89cUfrvQ2z"
      },
      "execution_count": null,
      "outputs": []
    },
    {
      "cell_type": "code",
      "source": [
        "best = compare_models(n_select=2)"
      ],
      "metadata": {
        "id": "ipQHs44QvUZ9"
      },
      "execution_count": null,
      "outputs": []
    },
    {
      "cell_type": "code",
      "source": [
        "best"
      ],
      "metadata": {
        "id": "amVUTW3hvXDf"
      },
      "execution_count": null,
      "outputs": []
    },
    {
      "cell_type": "code",
      "source": [
        "blender = blend_models(estimator_list=best)"
      ],
      "metadata": {
        "id": "hoxPm8_JwCtd"
      },
      "execution_count": null,
      "outputs": []
    },
    {
      "cell_type": "code",
      "source": [
        "tuned_lgb = tune_model(blender)"
      ],
      "metadata": {
        "id": "36CWISBAwErw"
      },
      "execution_count": null,
      "outputs": []
    },
    {
      "cell_type": "code",
      "source": [
        "saransk_df.head()\n"
      ],
      "metadata": {
        "id": "vlb15fHuwgL4"
      },
      "execution_count": null,
      "outputs": []
    },
    {
      "cell_type": "code",
      "source": [
        "test = [{'level' : 2,\n",
        "        'levels' : 16,\n",
        "        'rooms' : 3,\n",
        "        'area' : 76,\n",
        "        'kitchen_area' : 10,\n",
        "        'building_type' : 4, }]"
      ],
      "metadata": {
        "id": "xdK8N9qk1HZ4"
      },
      "execution_count": null,
      "outputs": []
    },
    {
      "cell_type": "code",
      "source": [
        "test = pd.DataFrame(test)"
      ],
      "metadata": {
        "id": "YNDYGUNu2eJc"
      },
      "execution_count": null,
      "outputs": []
    },
    {
      "cell_type": "code",
      "source": [
        "test"
      ],
      "metadata": {
        "id": "_cy1W7A62ru9"
      },
      "execution_count": null,
      "outputs": []
    },
    {
      "cell_type": "code",
      "source": [
        "predictions = predict_model(tuned_lgb, data = test)"
      ],
      "metadata": {
        "id": "-oyTbe--2svN"
      },
      "execution_count": null,
      "outputs": []
    },
    {
      "cell_type": "code",
      "source": [
        "predictions"
      ],
      "metadata": {
        "id": "2Dr0-E4F29V-"
      },
      "execution_count": null,
      "outputs": []
    },
    {
      "cell_type": "code",
      "source": [
        "round(predictions.Label,0)"
      ],
      "metadata": {
        "id": "krhwNqLj2-uF"
      },
      "execution_count": null,
      "outputs": []
    },
    {
      "cell_type": "code",
      "source": [
        "#pd.set_option('display.float_format', lambda x: '%.3f' % x)\n",
        "\n",
        "\n",
        "predictions.style.format({'Label': '{0:.2f}'})"
      ],
      "metadata": {
        "id": "yfBZ9yBQ3DvD"
      },
      "execution_count": null,
      "outputs": []
    },
    {
      "cell_type": "code",
      "source": [
        "predictions"
      ],
      "metadata": {
        "id": "fhP8Tjut6G-P"
      },
      "execution_count": null,
      "outputs": []
    },
    {
      "cell_type": "code",
      "source": [
        ""
      ],
      "metadata": {
        "id": "oDS9wJIh6ipU"
      },
      "execution_count": null,
      "outputs": []
    }
  ]
}