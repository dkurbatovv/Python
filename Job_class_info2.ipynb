{
  "nbformat": 4,
  "nbformat_minor": 0,
  "metadata": {
    "colab": {
      "name": "Job_class_info2.ipynb",
      "private_outputs": true,
      "provenance": [],
      "authorship_tag": "ABX9TyMGza7xB/OW52B0nzvHGxfA",
      "include_colab_link": true
    },
    "kernelspec": {
      "name": "python3",
      "display_name": "Python 3"
    },
    "language_info": {
      "name": "python"
    }
  },
  "cells": [
    {
      "cell_type": "markdown",
      "metadata": {
        "id": "view-in-github",
        "colab_type": "text"
      },
      "source": [
        "<a href=\"https://colab.research.google.com/github/dkurbatovv/Python/blob/main/Job_class_info2.ipynb\" target=\"_parent\"><img src=\"https://colab.research.google.com/assets/colab-badge.svg\" alt=\"Open In Colab\"/></a>"
      ]
    },
    {
      "cell_type": "code",
      "execution_count": null,
      "metadata": {
        "id": "2y_dAolTMWTg"
      },
      "outputs": [],
      "source": [
        "# Packages / libraries\n",
        "import os #provides functions for interacting with the operating system\n",
        "import numpy as np \n",
        "import pandas as pd\n",
        "from matplotlib import pyplot as plt\n",
        "import seaborn as sns\n",
        "\n",
        "%matplotlib inline\n",
        "\n",
        "# To install sklearn type \"pip install numpy scipy scikit-learn\" to the anaconda terminal\n",
        "\n",
        "# To change scientific numbers to float\n",
        "np.set_printoptions(formatter={'float_kind':'{:f}'.format})\n",
        "\n",
        "# Increases the size of sns plots\n",
        "sns.set(rc={'figure.figsize':(8,6)})\n",
        "\n",
        "# Datetime lib\n",
        "from pandas import to_datetime\n",
        "import itertools\n",
        "import warnings\n",
        "import datetime\n",
        "warnings.filterwarnings('ignore')\n",
        "\n",
        "from sklearn.preprocessing import MinMaxScaler\n",
        "from sklearn.model_selection import train_test_split\n",
        "from sklearn import tree\n",
        "from sklearn.tree import DecisionTreeClassifier, export_graphviz\n",
        "from sklearn.ensemble import RandomForestClassifier\n",
        "from sklearn.metrics import accuracy_score, confusion_matrix, r2_score"
      ]
    },
    {
      "cell_type": "code",
      "source": [
        "df = pd.read_csv('jobclassinfo2.csv')"
      ],
      "metadata": {
        "id": "poVj2dcYMyQM"
      },
      "execution_count": null,
      "outputs": []
    },
    {
      "cell_type": "code",
      "source": [
        "df.head()"
      ],
      "metadata": {
        "id": "BGzoj4cUM3Bi"
      },
      "execution_count": null,
      "outputs": []
    },
    {
      "cell_type": "code",
      "source": [
        "df = df.drop(['ID', 'PG'], axis = 1)"
      ],
      "metadata": {
        "id": "nh7csCjDM4BC"
      },
      "execution_count": null,
      "outputs": []
    },
    {
      "cell_type": "code",
      "source": [
        "df.head()"
      ],
      "metadata": {
        "id": "yi-8Z8NuQLt3"
      },
      "execution_count": null,
      "outputs": []
    },
    {
      "cell_type": "code",
      "source": [
        "for column in df:\n",
        "  unique_values = np.unique(df[column])\n",
        "  np_value = len(unique_values)\n",
        "  if np_value < 12:\n",
        "    print('The number of values for feature {} :{} -- {}'.format(column, np_value,unique_values))\n",
        "  else:\n",
        "    print('The number of values for feature {} :{}'.format(column, np_value))"
      ],
      "metadata": {
        "id": "2oUoR6hsQMkN"
      },
      "execution_count": null,
      "outputs": []
    },
    {
      "cell_type": "code",
      "source": [
        "df.isnull().sum()"
      ],
      "metadata": {
        "id": "FwFBwDwQQeLN"
      },
      "execution_count": null,
      "outputs": []
    },
    {
      "cell_type": "code",
      "source": [
        ""
      ],
      "metadata": {
        "id": "RtRVW_P6RAVJ"
      },
      "execution_count": null,
      "outputs": []
    },
    {
      "cell_type": "code",
      "source": [
        ""
      ],
      "metadata": {
        "id": "vMMiP4yQRBUL"
      },
      "execution_count": null,
      "outputs": []
    },
    {
      "cell_type": "code",
      "source": [
        "df.info()"
      ],
      "metadata": {
        "id": "HQGvKy5-RbGQ"
      },
      "execution_count": null,
      "outputs": []
    },
    {
      "cell_type": "code",
      "source": [
        "plt.figure(figsize=(12,9))\n",
        "sns.heatmap(df.corr(), cmap='copper', annot = True )\n"
      ],
      "metadata": {
        "id": "-00150O4RdTC"
      },
      "execution_count": null,
      "outputs": []
    },
    {
      "cell_type": "code",
      "source": [
        "df = df.drop(['JobFamilyDescription', 'JobClassDescription'], axis = 1)"
      ],
      "metadata": {
        "id": "iHejB14XR8ko"
      },
      "execution_count": null,
      "outputs": []
    },
    {
      "cell_type": "code",
      "source": [
        "df.head()"
      ],
      "metadata": {
        "id": "HFjFYNHESByI"
      },
      "execution_count": null,
      "outputs": []
    },
    {
      "cell_type": "code",
      "source": [
        "sns.countplot(x='PayGrade', data=df)"
      ],
      "metadata": {
        "id": "pBRBPUbLS5SS"
      },
      "execution_count": null,
      "outputs": []
    },
    {
      "cell_type": "code",
      "source": [
        "df.columns"
      ],
      "metadata": {
        "id": "1yrW-92ATBt7"
      },
      "execution_count": null,
      "outputs": []
    },
    {
      "cell_type": "code",
      "source": [
        "features = ['JobFamily', 'JobClass', 'EducationLevel', 'Experience',\n",
        "       'OrgImpact', 'ProblemSolving', 'Supervision', 'ContactLevel',\n",
        "       'FinancialBudget']"
      ],
      "metadata": {
        "id": "N1lVtEffTJJP"
      },
      "execution_count": null,
      "outputs": []
    },
    {
      "cell_type": "code",
      "source": [
        "for f in features:\n",
        "  plt.figure(figsize=(12,10))\n",
        "  ax = sns.countplot(x=f, data=df, hue='PayGrade', palette = 'icefire')"
      ],
      "metadata": {
        "id": "uKaBM8rMTNdK"
      },
      "execution_count": null,
      "outputs": []
    },
    {
      "cell_type": "code",
      "source": [
        "X = df.drop('PayGrade', axis = 1)\n",
        "y = df['PayGrade']\n",
        "\n",
        "X"
      ],
      "metadata": {
        "id": "mOONLhWSTbQn"
      },
      "execution_count": null,
      "outputs": []
    },
    {
      "cell_type": "code",
      "source": [
        ""
      ],
      "metadata": {
        "id": "7Xqq-5XXVDZc"
      },
      "execution_count": null,
      "outputs": []
    },
    {
      "cell_type": "code",
      "source": [
        "X_train, X_test, y_train, y_test = train_test_split(X, y, test_size=0.3, random_state=1)"
      ],
      "metadata": {
        "id": "QoifpfIWUUJ_"
      },
      "execution_count": null,
      "outputs": []
    },
    {
      "cell_type": "code",
      "source": [
        "dt = DecisionTreeClassifier(criterion = 'entropy', max_depth = 7)\n",
        "dt.fit(X_train, y_train)\n",
        "\n",
        "print('The training accuracy is', dt.score(X_train, y_train))\n",
        "\n",
        "print('The testing accuracy is', dt.score(X_test, y_test))"
      ],
      "metadata": {
        "id": "C6BvMC0-Ua4X"
      },
      "execution_count": null,
      "outputs": []
    },
    {
      "cell_type": "code",
      "source": [
        "import graphviz \n",
        "\n",
        "dot_data = tree.export_graphviz(dt, out_file=None, \n",
        "    feature_names=df.drop('PayGrade', axis=1).columns,    \n",
        "    class_names=df['PayGrade'].unique().astype(str),  \n",
        "    filled=True, rounded=True,  \n",
        "    special_characters=True)\n",
        "graph = graphviz.Source(dot_data)\n",
        "graph"
      ],
      "metadata": {
        "id": "sU0Xt_RFU5rg"
      },
      "execution_count": null,
      "outputs": []
    },
    {
      "cell_type": "code",
      "source": [
        "for i, column in enumerate(df.drop('PayGrade', axis=1)):\n",
        "    print('Importance of feature {}:, {:.3f}'.format(column, dt.feature_importances_[i]))\n",
        "    \n",
        "    fi = pd.DataFrame({'Variable': [column], 'Feature Importance Score': [dt.feature_importances_[i]]})\n",
        "    \n",
        "    try:\n",
        "        final_fi = pd.concat([final_fi,fi], ignore_index = True)\n",
        "    except:\n",
        "        final_fi = fi\n",
        "        \n",
        "        \n",
        "# Ordering the data\n",
        "final_fi = final_fi.sort_values('Feature Importance Score', ascending = False).reset_index()            \n",
        "final_fi"
      ],
      "metadata": {
        "id": "JmRXBQuyWhnp"
      },
      "execution_count": null,
      "outputs": []
    },
    {
      "cell_type": "code",
      "source": [
        "def plot_confusion_matrix(cm, classes=None, title='Confusion matrix'):\n",
        "    \"\"\"Plots a confusion matrix.\"\"\"\n",
        "    if classes is not None:\n",
        "        sns.heatmap(cm, xticklabels=classes, yticklabels=classes, vmin=0., vmax=1., annot=True)\n",
        "    else:\n",
        "        sns.heatmap(cm, vmin=0., vmax=1.)\n",
        "    plt.title(title)\n",
        "    plt.ylabel('True label')\n",
        "    plt.xlabel('Predicted label')\n",
        "y_pred = dt.predict(X_train)\n",
        "\n",
        "# Plotting Confusion Matrix\n",
        "cm = confusion_matrix(y_train, y_pred)\n",
        "cm_norm = cm/cm.sum(axis=1)[:, np.newaxis]\n",
        "plt.figure()\n",
        "plot_confusion_matrix(cm_norm, classes=dt.classes_, title='Training confusion')"
      ],
      "metadata": {
        "id": "XIhlQID6Xtei"
      },
      "execution_count": null,
      "outputs": []
    },
    {
      "cell_type": "code",
      "source": [
        "rf = RandomForestClassifier(n_estimators=100, criterion='entropy')\n",
        "rf.fit(X_train, y_train)\n",
        "prediction_test = rf.predict(X=X_test)\n",
        "\n",
        "# source: https://scikit-learn.org/stable/modules/generated/sklearn.ensemble.RandomForestClassifier.html\n",
        "\n",
        "# Accuracy on Test\n",
        "print(\"Training Accuracy is: \", rf.score(X_train, y_train))\n",
        "# Accuracy on Train\n",
        "print(\"Testing Accuracy is: \", rf.score(X_test, y_test))\n",
        "\n",
        "# Confusion Matrix\n",
        "cm = confusion_matrix(y_test, prediction_test)\n",
        "cm_norm = cm/cm.sum(axis=1)[:, np.newaxis]\n",
        "plt.figure()\n",
        "plot_confusion_matrix(cm_norm, classes=rf.classes_)"
      ],
      "metadata": {
        "id": "o6Q9ijYYXzDC"
      },
      "execution_count": null,
      "outputs": []
    },
    {
      "cell_type": "code",
      "source": [
        "from itertools import product\n",
        "n_estimators = 100\n",
        "max_features = [1, 'sqrt', 'log2']\n",
        "max_depths = [None, 2, 3, 4, 5]\n",
        "for f, d in product(max_features, max_depths): # with product we can iterate through all possible combinations\n",
        "    rf = RandomForestClassifier(n_estimators=n_estimators, \n",
        "                                criterion='entropy', \n",
        "                                max_features=f, \n",
        "                                max_depth=d, \n",
        "                                n_jobs=2,\n",
        "                                random_state=1337)\n",
        "    rf.fit(X_train, y_train)\n",
        "    prediction_test = rf.predict(X=X_test)\n",
        "    print('Classification accuracy on test set with max features = {} and max_depth = {}: {:.3f}'.format(f, d, accuracy_score(y_test,prediction_test)))\n",
        "    cm = confusion_matrix(y_test, prediction_test)\n",
        "    cm_norm = cm/cm.sum(axis=1)[:, np.newaxis]\n",
        "    plt.figure()\n",
        "    plot_confusion_matrix(cm_norm, classes=rf.classes_,\n",
        "    title='Confusion matrix accuracy on test set with max features = {} and max_depth = {}: {:.3f}'.format(f, d, accuracy_score(y_test,prediction_test)))"
      ],
      "metadata": {
        "id": "KKotgKsLYzzq"
      },
      "execution_count": null,
      "outputs": []
    },
    {
      "cell_type": "code",
      "source": [
        "from sklearn.linear_model import LogisticRegression"
      ],
      "metadata": {
        "id": "OUNPxEwBY1Nh"
      },
      "execution_count": null,
      "outputs": []
    },
    {
      "cell_type": "code",
      "source": [
        "lr = LogisticRegression()\n",
        "lr.fit(X_train, y_train)"
      ],
      "metadata": {
        "id": "6GuwBpKJZ_03"
      },
      "execution_count": null,
      "outputs": []
    },
    {
      "cell_type": "code",
      "source": [
        "print(\"Training Accuracy is: \", lr.score(X_train, y_train))\n",
        "# Accuracy on Train\n",
        "print(\"Testing Accuracy is: \", lr.score(X_test, y_test))"
      ],
      "metadata": {
        "id": "2gFhDUaTaHBw"
      },
      "execution_count": null,
      "outputs": []
    },
    {
      "cell_type": "code",
      "source": [
        "from sklearn import metrics\n",
        "\n",
        "y_pred = lr.predict(X_test)\n",
        "print(\"Accuracy of Logistic Regression model is:\",\n",
        "metrics.accuracy_score(y_test, y_pred))"
      ],
      "metadata": {
        "id": "BzJVF3UMaLz7"
      },
      "execution_count": null,
      "outputs": []
    },
    {
      "cell_type": "code",
      "source": [
        ""
      ],
      "metadata": {
        "id": "m8CrYra-afsV"
      },
      "execution_count": null,
      "outputs": []
    }
  ]
}