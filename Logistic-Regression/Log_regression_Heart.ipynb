{
  "nbformat": 4,
  "nbformat_minor": 0,
  "metadata": {
    "colab": {
      "name": "Untitled48.ipynb",
      "private_outputs": true,
      "provenance": [],
      "authorship_tag": "ABX9TyNpbdc3e5FMZMQ4tZvwNLsL",
      "include_colab_link": true
    },
    "kernelspec": {
      "name": "python3",
      "display_name": "Python 3"
    },
    "language_info": {
      "name": "python"
    }
  },
  "cells": [
    {
      "cell_type": "markdown",
      "metadata": {
        "id": "view-in-github",
        "colab_type": "text"
      },
      "source": [
        "<a href=\"https://colab.research.google.com/github/dkurbatovv/Python/blob/main/Log_regression_Heart.ipynb\" target=\"_parent\"><img src=\"https://colab.research.google.com/assets/colab-badge.svg\" alt=\"Open In Colab\"/></a>"
      ]
    },
    {
      "cell_type": "code",
      "execution_count": null,
      "metadata": {
        "id": "suxeG0R04WNT"
      },
      "outputs": [],
      "source": [
        "import numpy as np\n",
        "import pandas as pd\n",
        "import matplotlib.pyplot as plt\n",
        "\n"
      ]
    },
    {
      "cell_type": "code",
      "source": [
        "df = pd.read_csv('heart.csv')"
      ],
      "metadata": {
        "id": "NTp3IPx14rX6"
      },
      "execution_count": null,
      "outputs": []
    },
    {
      "cell_type": "code",
      "source": [
        "df.head()"
      ],
      "metadata": {
        "id": "tDtjCHQI6Bxf"
      },
      "execution_count": null,
      "outputs": []
    },
    {
      "cell_type": "code",
      "source": [
        "df.isnull().sum()"
      ],
      "metadata": {
        "id": "uBEl_Afh-Cth"
      },
      "execution_count": null,
      "outputs": []
    },
    {
      "cell_type": "code",
      "source": [
        "import seaborn as sns"
      ],
      "metadata": {
        "id": "vfj8ypn8-rtQ"
      },
      "execution_count": null,
      "outputs": []
    },
    {
      "cell_type": "code",
      "source": [
        "sns.pairplot(df, hue='target')"
      ],
      "metadata": {
        "id": "8wTWHkX5-1Cd"
      },
      "execution_count": null,
      "outputs": []
    },
    {
      "cell_type": "code",
      "source": [
        "sns.countplot(x = 'target', data=df, palette='Set3')"
      ],
      "metadata": {
        "id": "v4RqWYoM-_N3"
      },
      "execution_count": null,
      "outputs": []
    },
    {
      "cell_type": "code",
      "source": [
        "from sklearn.tree import DecisionTreeClassifier"
      ],
      "metadata": {
        "id": "0_8-CFJQFHwp"
      },
      "execution_count": null,
      "outputs": []
    },
    {
      "cell_type": "code",
      "source": [
        "dt = DecisionTreeClassifier(random_state=15, criterion='entropy', max_depth=10)"
      ],
      "metadata": {
        "id": "OW8GCrOUGFpi"
      },
      "execution_count": null,
      "outputs": []
    },
    {
      "cell_type": "code",
      "source": [
        "x = df.drop('target', axis = 1)\n",
        "x.shape"
      ],
      "metadata": {
        "id": "Fyjj3sCoGMe7"
      },
      "execution_count": null,
      "outputs": []
    },
    {
      "cell_type": "code",
      "source": [
        "y = df['target']"
      ],
      "metadata": {
        "id": "XqhSFoAXGTsX"
      },
      "execution_count": null,
      "outputs": []
    },
    {
      "cell_type": "code",
      "source": [
        "y.head()"
      ],
      "metadata": {
        "id": "XJb9jDTGGWvw"
      },
      "execution_count": null,
      "outputs": []
    },
    {
      "cell_type": "code",
      "source": [
        "dt.fit(x,y)"
      ],
      "metadata": {
        "id": "UGAXgqvoGXdJ"
      },
      "execution_count": null,
      "outputs": []
    },
    {
      "cell_type": "code",
      "source": [
        "print(list(df))"
      ],
      "metadata": {
        "id": "iasJt77VGl7l"
      },
      "execution_count": null,
      "outputs": []
    },
    {
      "cell_type": "code",
      "source": [
        "fi_col = []\n",
        "fi = []\n",
        "features = ['age', 'sex', 'cp', 'trestbps', 'chol', 'fbs', 'restecg', 'thalach', 'exang', 'oldpeak', 'slope', 'ca', 'thal']\n",
        "\n",
        "for i,features in enumerate(df.drop('target', axis = 1)):\n",
        "  print('The feature importance for {} is: {}'.format(features, dt.feature_importances_[i]))\n",
        "\n",
        "  fi_col.append(features)\n",
        "  fi.append(dt.feature_importances_[i])"
      ],
      "metadata": {
        "id": "KQkiGyltGbWU"
      },
      "execution_count": null,
      "outputs": []
    },
    {
      "cell_type": "code",
      "source": [
        "fi_df = zip(fi_col, fi)"
      ],
      "metadata": {
        "id": "crt4hWk2G6-K"
      },
      "execution_count": null,
      "outputs": []
    },
    {
      "cell_type": "code",
      "source": [
        "fi_df"
      ],
      "metadata": {
        "id": "YbL9WKnvHBzY"
      },
      "execution_count": null,
      "outputs": []
    },
    {
      "cell_type": "code",
      "source": [
        "fi_df = pd.DataFrame(fi_df, columns = ['Feature', 'Feature Importanse'])"
      ],
      "metadata": {
        "id": "4UFsnOR5HCmF"
      },
      "execution_count": null,
      "outputs": []
    },
    {
      "cell_type": "code",
      "source": [
        "fi_df"
      ],
      "metadata": {
        "id": "r0NCUCpPHL64"
      },
      "execution_count": null,
      "outputs": []
    },
    {
      "cell_type": "code",
      "source": [
        "from sklearn.model_selection import train_test_split"
      ],
      "metadata": {
        "id": "WSyWc7i8HOVv"
      },
      "execution_count": null,
      "outputs": []
    },
    {
      "cell_type": "code",
      "source": [
        "X_train, X_test, y_train, y_test = train_test_split(x, y, test_size = 0.3, random_state = 20)\n",
        "\n",
        "X_train, X_valid, y_train, y_valid = train_test_split(x, y, test_size = 0.2, random_state = 20)"
      ],
      "metadata": {
        "id": "AKUlOB_hJ8I4"
      },
      "execution_count": null,
      "outputs": []
    },
    {
      "cell_type": "code",
      "source": [
        "from sklearn.linear_model import LogisticRegression"
      ],
      "metadata": {
        "id": "P7bAt44JKMxA"
      },
      "execution_count": null,
      "outputs": []
    },
    {
      "cell_type": "code",
      "source": [
        "log_reg = LogisticRegression(random_state = 10)"
      ],
      "metadata": {
        "id": "JgpMr16bKUDv"
      },
      "execution_count": null,
      "outputs": []
    },
    {
      "cell_type": "code",
      "source": [
        "log_reg.fit(X_train, y_train)"
      ],
      "metadata": {
        "id": "f-KPzIf5KWAD"
      },
      "execution_count": null,
      "outputs": []
    },
    {
      "cell_type": "code",
      "source": [
        "log_reg_proba = log_reg.predict_proba(X_train)\n",
        "y_pred = log_reg.predict(X_train)"
      ],
      "metadata": {
        "id": "yR-R0TZ_KeDr"
      },
      "execution_count": null,
      "outputs": []
    },
    {
      "cell_type": "code",
      "source": [
        "log_reg.coef_.shape"
      ],
      "metadata": {
        "id": "8jbVn2q2KlPb"
      },
      "execution_count": null,
      "outputs": []
    },
    {
      "cell_type": "code",
      "source": [
        "print('The Training Accuracy is:', log_reg.score(X_train, y_train))"
      ],
      "metadata": {
        "id": "AToQrn28K4Xa"
      },
      "execution_count": null,
      "outputs": []
    },
    {
      "cell_type": "code",
      "source": [
        "print('The Test Accuracy is:', log_reg.score(X_test, y_test))\n"
      ],
      "metadata": {
        "id": "FcfgpQ2oLGC7"
      },
      "execution_count": null,
      "outputs": []
    },
    {
      "cell_type": "code",
      "source": [
        "from sklearn.metrics import classification_report, confusion_matrix, log_loss"
      ],
      "metadata": {
        "id": "_u22EVkxLiMy"
      },
      "execution_count": null,
      "outputs": []
    },
    {
      "cell_type": "code",
      "source": [
        "print(classification_report(y_train, y_pred))"
      ],
      "metadata": {
        "id": "ScmyuR04LoMM"
      },
      "execution_count": null,
      "outputs": []
    },
    {
      "cell_type": "code",
      "source": [
        "def plot_confusion_matrix(cm, classes = None, title='Confusion Matrix'):\n",
        "  if classes is not None:\n",
        "    sns.heatmap(cm, xticklabels = classes, yticklabels = classes, vmin = 0, vmax = 1, annot = True)\n",
        "  else:\n",
        "    sns.heatmap(cm, vmin = 0, vmax = 1)\n",
        "  plt.title(title)\n",
        "  plt.xlabel('True Label')\n",
        "  plt.ylabel('Predict label')    "
      ],
      "metadata": {
        "id": "5horu4HwL1IY"
      },
      "execution_count": null,
      "outputs": []
    },
    {
      "cell_type": "code",
      "source": [
        "cm = confusion_matrix(y_train, y_pred)"
      ],
      "metadata": {
        "id": "qoI7SI7cMCGh"
      },
      "execution_count": null,
      "outputs": []
    },
    {
      "cell_type": "code",
      "source": [
        "cm_norm = cm / cm.sum(axis = 1).reshape(-1,1)"
      ],
      "metadata": {
        "id": "8-OqByHSMftJ"
      },
      "execution_count": null,
      "outputs": []
    },
    {
      "cell_type": "code",
      "source": [
        "cm_norm"
      ],
      "metadata": {
        "id": "JVGisujjMhyz"
      },
      "execution_count": null,
      "outputs": []
    },
    {
      "cell_type": "code",
      "source": [
        "plot_confusion_matrix(cm_norm, classes = log_reg.classes_, title = 'Confusion matrix')"
      ],
      "metadata": {
        "id": "RcAs6AVMMp1Z"
      },
      "execution_count": null,
      "outputs": []
    },
    {
      "cell_type": "code",
      "source": [
        "pred_proba_test = log_reg.predict_proba(X_test)\n",
        "log_loss(y_test, pred_proba_test)"
      ],
      "metadata": {
        "id": "qdO4ifJwMuz4"
      },
      "execution_count": null,
      "outputs": []
    },
    {
      "cell_type": "code",
      "source": [
        "C_List = np.geomspace(1e-5, 1e5, num = 20)\n",
        "CA = []\n",
        "Logarithmic_Loss = []"
      ],
      "metadata": {
        "id": "dWVPoHHANpFa"
      },
      "execution_count": null,
      "outputs": []
    },
    {
      "cell_type": "code",
      "source": [
        "for c in C_List:\n",
        "  log_reg2 = LogisticRegression(random_state = 10, C = c)\n",
        "  log_reg2.fit(X_train, y_train)\n",
        "  CA.append(log_reg2.score(X_test, y_test))\n",
        "  print('The CA of C perametr{} is {}: '.format(c,log_reg2.score(X_test, y_test)))"
      ],
      "metadata": {
        "id": "w4ohr7BQNsik"
      },
      "execution_count": null,
      "outputs": []
    },
    {
      "cell_type": "code",
      "source": [
        "from sklearn.dummy import DummyClassifier"
      ],
      "metadata": {
        "id": "t78fTdTINvpC"
      },
      "execution_count": null,
      "outputs": []
    },
    {
      "cell_type": "code",
      "source": [
        "dummy_cls = DummyClassifier(strategy=\"most_frequent\")\n",
        "dummy_cls.fit(X_train, y_train)"
      ],
      "metadata": {
        "id": "2hGQ7eKKN1MB"
      },
      "execution_count": null,
      "outputs": []
    },
    {
      "cell_type": "code",
      "source": [
        "CA.append(dummy_cls.score(X_test, y_test))\n",
        "print('The CA of C perametr{} is {}:'.format(c,dummy_cls.score(X_test, y_test)))"
      ],
      "metadata": {
        "id": "HTnjwJK_N2rE"
      },
      "execution_count": null,
      "outputs": []
    },
    {
      "cell_type": "code",
      "source": [
        "log_reg3 = LogisticRegression(random_state = 10, C = 0.0483)\n",
        "log_reg3.fit(X_train, y_train)\n",
        "score = log_reg3.score(X_valid, y_valid)\n",
        "\n",
        "pred_valid = log_reg3.predict_log_proba(X_valid)\n",
        "log_loss_valid = log_loss(y_valid, pred_valid)\n",
        "\n",
        "\n",
        "print('The Score is:', score)\n",
        "print('The Log_Loss is:', log_loss_valid)"
      ],
      "metadata": {
        "id": "KJGuu5XUN4Vc"
      },
      "execution_count": null,
      "outputs": []
    },
    {
      "cell_type": "code",
      "source": [
        ""
      ],
      "metadata": {
        "id": "SU7l3qjtN6iN"
      },
      "execution_count": null,
      "outputs": []
    }
  ]
}
