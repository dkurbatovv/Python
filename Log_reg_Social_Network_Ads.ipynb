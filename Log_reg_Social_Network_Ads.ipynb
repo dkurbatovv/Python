{
  "nbformat": 4,
  "nbformat_minor": 0,
  "metadata": {
    "colab": {
      "name": "Untitled49.ipynb",
      "private_outputs": true,
      "provenance": [],
      "authorship_tag": "ABX9TyNBCKuc0dOvau1sgbnjrxST",
      "include_colab_link": true
    },
    "kernelspec": {
      "name": "python3",
      "display_name": "Python 3"
    },
    "language_info": {
      "name": "python"
    }
  },
  "cells": [
    {
      "cell_type": "markdown",
      "metadata": {
        "id": "view-in-github",
        "colab_type": "text"
      },
      "source": [
        "<a href=\"https://colab.research.google.com/github/dkurbatovv/Python/blob/main/Log_reg_Social_Network_Ads.ipynb\" target=\"_parent\"><img src=\"https://colab.research.google.com/assets/colab-badge.svg\" alt=\"Open In Colab\"/></a>"
      ]
    },
    {
      "cell_type": "code",
      "execution_count": null,
      "metadata": {
        "id": "iLj9wrGXSN95"
      },
      "outputs": [],
      "source": [
        "import numpy as np\n",
        "import pandas as pd\n",
        "import matplotlib.pyplot as plt\n",
        "from sklearn.datasets import load_linnerud"
      ]
    },
    {
      "cell_type": "code",
      "source": [
        "df = pd.read_csv('Social_Network_Ads.csv')"
      ],
      "metadata": {
        "id": "PjKrvDMqSa0d"
      },
      "execution_count": null,
      "outputs": []
    },
    {
      "cell_type": "code",
      "source": [
        "df.head()"
      ],
      "metadata": {
        "id": "j9FGEtpzSeQq"
      },
      "execution_count": null,
      "outputs": []
    },
    {
      "cell_type": "code",
      "source": [
        "df = df.drop('User ID', axis = 1) "
      ],
      "metadata": {
        "id": "tiQe1qqRSgGT"
      },
      "execution_count": null,
      "outputs": []
    },
    {
      "cell_type": "code",
      "source": [
        "df.isnull().sum()\n"
      ],
      "metadata": {
        "id": "-YHyEjEtSlXL"
      },
      "execution_count": null,
      "outputs": []
    },
    {
      "cell_type": "code",
      "source": [
        "import seaborn as sns\n",
        "\n",
        "sns.pairplot(df, hue = 'Gender')"
      ],
      "metadata": {
        "id": "qgrL_t6xT2m6"
      },
      "execution_count": null,
      "outputs": []
    },
    {
      "cell_type": "code",
      "source": [
        "sns.countplot(x = 'Gender', data=df, palette = 'Set3')"
      ],
      "metadata": {
        "id": "5mds3--uULqt"
      },
      "execution_count": null,
      "outputs": []
    },
    {
      "cell_type": "code",
      "source": [
        "features = ['Gender', 'Age', 'EstimatedSalary', 'Purchased']\n",
        "\n",
        "df = pd.get_dummies(df, columns=features)"
      ],
      "metadata": {
        "id": "2HQY0b0IXShJ"
      },
      "execution_count": null,
      "outputs": []
    },
    {
      "cell_type": "code",
      "source": [
        "df = pd.read_csv('Social_Network_Ads.csv')\n",
        "\n",
        "df = df.drop('User ID', axis = 1)"
      ],
      "metadata": {
        "id": "29hqWtGvXoyp"
      },
      "execution_count": null,
      "outputs": []
    },
    {
      "cell_type": "code",
      "source": [
        "df.head()"
      ],
      "metadata": {
        "id": "856IlWEZX3Am"
      },
      "execution_count": null,
      "outputs": []
    },
    {
      "cell_type": "code",
      "source": [
        "df['Gender'][df['Gender'] == 'Female'] = 0\n",
        "df['Gender'][df['Gender'] == 'Male'] = 1"
      ],
      "metadata": {
        "id": "49MZwTGmYFqx"
      },
      "execution_count": null,
      "outputs": []
    },
    {
      "cell_type": "code",
      "source": [
        "df['Gender'] = df['Gender'].astype(float)"
      ],
      "metadata": {
        "id": "cOFGuuN8YZIc"
      },
      "execution_count": null,
      "outputs": []
    },
    {
      "cell_type": "code",
      "source": [
        "from sklearn.model_selection import train_test_split\n",
        "from sklearn.linear_model import LogisticRegression\n",
        "\n",
        "\n",
        "x = df.drop('Purchased', axis=1)\n",
        "y = df['Purchased']"
      ],
      "metadata": {
        "id": "8zQk6SPbYaL_"
      },
      "execution_count": null,
      "outputs": []
    },
    {
      "cell_type": "code",
      "source": [
        "x.head()"
      ],
      "metadata": {
        "id": "9CBqETvQY5lc"
      },
      "execution_count": null,
      "outputs": []
    },
    {
      "cell_type": "code",
      "source": [
        "X_train, X_test, y_train, y_test = train_test_split(x, y, test_size = 0.3, random_state = 40)\n",
        "X_train, X_valid, y_train, y_valid = train_test_split(x, y, test_size = 0.2, random_state = 40)"
      ],
      "metadata": {
        "id": "WVfL4ghyZAvt"
      },
      "execution_count": null,
      "outputs": []
    },
    {
      "cell_type": "code",
      "source": [
        "log_reg = LogisticRegression()"
      ],
      "metadata": {
        "id": "GzqYT2NoZSLt"
      },
      "execution_count": null,
      "outputs": []
    },
    {
      "cell_type": "code",
      "source": [
        "log_reg.fit(X_train, y_train)"
      ],
      "metadata": {
        "id": "in6HWm5maCq9"
      },
      "execution_count": null,
      "outputs": []
    },
    {
      "cell_type": "code",
      "source": [
        "y_pred = log_reg.predict(X_train)"
      ],
      "metadata": {
        "id": "sA5P6_YlaFFL"
      },
      "execution_count": null,
      "outputs": []
    },
    {
      "cell_type": "code",
      "source": [
        "y_pred"
      ],
      "metadata": {
        "id": "oP1R7Px9aJo9"
      },
      "execution_count": null,
      "outputs": []
    },
    {
      "cell_type": "code",
      "source": [
        "pred_proba = log_reg.predict_proba(X_train)"
      ],
      "metadata": {
        "id": "A39kayFyaKxK"
      },
      "execution_count": null,
      "outputs": []
    },
    {
      "cell_type": "code",
      "source": [
        "log_reg.coef_.shape"
      ],
      "metadata": {
        "id": "-ucR4NNlaVbC"
      },
      "execution_count": null,
      "outputs": []
    },
    {
      "cell_type": "code",
      "source": [
        "print('The Train Accuracy is: ', log_reg.score(X_train, y_train))"
      ],
      "metadata": {
        "id": "k8I8Yt5_aaFk"
      },
      "execution_count": null,
      "outputs": []
    },
    {
      "cell_type": "code",
      "source": [
        "print('The Testing Accuracy is:', log_reg.score(X_test, y_test))"
      ],
      "metadata": {
        "id": "g001i1v5aiVr"
      },
      "execution_count": null,
      "outputs": []
    },
    {
      "cell_type": "code",
      "source": [
        "from sklearn.metrics import classification_report, confusion_matrix, log_loss"
      ],
      "metadata": {
        "id": "0_8rRD2lasBE"
      },
      "execution_count": null,
      "outputs": []
    },
    {
      "cell_type": "code",
      "source": [
        "print(classification_report(y_train, y_pred))"
      ],
      "metadata": {
        "id": "U4TfAfBEauxs"
      },
      "execution_count": null,
      "outputs": []
    },
    {
      "cell_type": "code",
      "source": [
        "from sklearn.preprocessing import StandardScaler\n",
        "\n",
        "\n",
        "scaler = StandardScaler()\n",
        "scaler_data = scaler.fit_transform(x)\n",
        "data_scaler = pd.DataFrame(scaler_data)\n",
        "data_scaler.head()\n",
        "\n"
      ],
      "metadata": {
        "id": "zb_O03RzawUp"
      },
      "execution_count": null,
      "outputs": []
    },
    {
      "cell_type": "code",
      "source": [
        "features"
      ],
      "metadata": {
        "id": "LbnFmfW9geNi"
      },
      "execution_count": null,
      "outputs": []
    },
    {
      "cell_type": "code",
      "source": [
        "X_train_1, X_test_1, y_train_1, y_test_1 = train_test_split(data_scaler, y, test_size = 0.3, random_state = 40)\n",
        "X_train_1, X_valid_1, y_train_1, y_valid_1 = train_test_split(data_scaler, y, test_size = 0.2, random_state = 40)"
      ],
      "metadata": {
        "id": "6mKTmpIUe4VI"
      },
      "execution_count": null,
      "outputs": []
    },
    {
      "cell_type": "code",
      "source": [
        "X_train_1.head()"
      ],
      "metadata": {
        "id": "Mh78TmqefiWM"
      },
      "execution_count": null,
      "outputs": []
    },
    {
      "cell_type": "code",
      "source": [
        "log_reg_sc = LogisticRegression()"
      ],
      "metadata": {
        "id": "EfUi9fmjf365"
      },
      "execution_count": null,
      "outputs": []
    },
    {
      "cell_type": "code",
      "source": [
        "log_reg_sc.fit(X_train_1, y_train_1)"
      ],
      "metadata": {
        "id": "vt80W8Qpf5R2"
      },
      "execution_count": null,
      "outputs": []
    },
    {
      "cell_type": "code",
      "source": [
        "y_pred = log_reg_sc.predict(X_train_1)"
      ],
      "metadata": {
        "id": "trdAkKXhgCyX"
      },
      "execution_count": null,
      "outputs": []
    },
    {
      "cell_type": "code",
      "source": [
        "pred_proba_sc = log_reg_sc.predict_proba(X_train_1)"
      ],
      "metadata": {
        "id": "aD4JCyF2gHhc"
      },
      "execution_count": null,
      "outputs": []
    },
    {
      "cell_type": "code",
      "source": [
        "print('The Training Accuracy is:' , log_reg_sc.score(X_train_1, y_train_1))"
      ],
      "metadata": {
        "id": "BytVe3KTgMJ0"
      },
      "execution_count": null,
      "outputs": []
    },
    {
      "cell_type": "code",
      "source": [
        "print('The Testing Accuracy is:' , log_reg_sc.score(X_test_1, y_test_1))"
      ],
      "metadata": {
        "id": "wTKa4OZ7gSU9"
      },
      "execution_count": null,
      "outputs": []
    },
    {
      "cell_type": "code",
      "source": [
        "def plot_confugion_matrix(cm, classes=None, title='Confusion matrix'):\n",
        "  if classes is not None:\n",
        "    sns.heatmap(cm, xticklabels = classes, yticklabels = classes, vmin = 0, vmax = 1, annot=True, )\n",
        "  else:\n",
        "    sns.heatmap(cm, vmin = 0, vmax = 1)\n",
        "  plt.title(title)\n",
        "  plt.xlabel('True Label')\n",
        "  plt.ylabel('Predict label')    "
      ],
      "metadata": {
        "id": "EAwo3Bwomy4h"
      },
      "execution_count": null,
      "outputs": []
    },
    {
      "cell_type": "code",
      "source": [
        "cm = confusion_matrix(y_train_1, y_pred)"
      ],
      "metadata": {
        "id": "oIZJXbA8m2WA"
      },
      "execution_count": null,
      "outputs": []
    },
    {
      "cell_type": "code",
      "source": [
        "cm"
      ],
      "metadata": {
        "id": "H-8k8ctsm5J8"
      },
      "execution_count": null,
      "outputs": []
    },
    {
      "cell_type": "code",
      "source": [
        "cm_norm = cm / cm.sum(axis = 1).reshape(-1,1)"
      ],
      "metadata": {
        "id": "VOwfMUi0m6F1"
      },
      "execution_count": null,
      "outputs": []
    },
    {
      "cell_type": "code",
      "source": [
        "plot_confugion_matrix(cm_norm, classes = log_reg_sc.classes_, title = 'Confusion matrix')"
      ],
      "metadata": {
        "id": "xy2QEEU5m8um"
      },
      "execution_count": null,
      "outputs": []
    },
    {
      "cell_type": "code",
      "source": [
        "log_reg_valid = LogisticRegression(random_state = 10)\n",
        "log_reg_valid.fit(X_train_1, y_train)\n",
        "score = log_reg_valid.score(X_valid_1, y_valid)\n",
        "\n",
        "pred_valid = log_reg_valid.predict_log_proba(X_valid_1)\n",
        "log_loss_valid = log_loss(y_valid, pred_valid)\n",
        "\n",
        "\n",
        "print('The score is:', score)\n",
        "print('The Log_Loss is:', log_loss_valid)"
      ],
      "metadata": {
        "id": "H-R_p1VNnAhT"
      },
      "execution_count": null,
      "outputs": []
    },
    {
      "cell_type": "code",
      "source": [
        ""
      ],
      "metadata": {
        "id": "K7CJxmZMnRMB"
      },
      "execution_count": null,
      "outputs": []
    }
  ]
}