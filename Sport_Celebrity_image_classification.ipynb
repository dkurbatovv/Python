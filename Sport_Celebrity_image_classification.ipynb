{
  "nbformat": 4,
  "nbformat_minor": 0,
  "metadata": {
    "colab": {
      "name": "Sport Celebrity image classification.ipynb",
      "private_outputs": true,
      "provenance": [],
      "authorship_tag": "ABX9TyNAomoTdat87eeZERD4xK5W",
      "include_colab_link": true
    },
    "kernelspec": {
      "name": "python3",
      "display_name": "Python 3"
    },
    "language_info": {
      "name": "python"
    },
    "accelerator": "GPU"
  },
  "cells": [
    {
      "cell_type": "markdown",
      "metadata": {
        "id": "view-in-github",
        "colab_type": "text"
      },
      "source": [
        "<a href=\"https://colab.research.google.com/github/dkurbatovv/Python/blob/main/Sport_Celebrity_image_classification.ipynb\" target=\"_parent\"><img src=\"https://colab.research.google.com/assets/colab-badge.svg\" alt=\"Open In Colab\"/></a>"
      ]
    },
    {
      "cell_type": "code",
      "execution_count": null,
      "metadata": {
        "id": "cwXzNgYcsN8C"
      },
      "outputs": [],
      "source": [
        "!pip install kaggle"
      ]
    },
    {
      "cell_type": "code",
      "source": [
        "from google.colab import files\n",
        "\n",
        "uploaded = files.upload()\n",
        "\n",
        "for fn in uploaded.keys():\n",
        "  print('User uploaded file \"{name}\" with length {length} bytes'.format(\n",
        "      name=fn, length=len(uploaded[fn])))"
      ],
      "metadata": {
        "id": "wP5pej_SsZTS"
      },
      "execution_count": null,
      "outputs": []
    },
    {
      "cell_type": "code",
      "source": [
        "!mkdir -p ~/.kaggle/"
      ],
      "metadata": {
        "id": "jhdoJrElsb36"
      },
      "execution_count": null,
      "outputs": []
    },
    {
      "cell_type": "code",
      "source": [
        "! cp kaggle.json ~/.kaggle/"
      ],
      "metadata": {
        "id": "YrdRHtU8sfLr"
      },
      "execution_count": null,
      "outputs": []
    },
    {
      "cell_type": "code",
      "source": [
        "! chmod 600 ~/.kaggle/kaggle.json"
      ],
      "metadata": {
        "id": "IafaRHSdsgdz"
      },
      "execution_count": null,
      "outputs": []
    },
    {
      "cell_type": "code",
      "source": [
        "! kaggle datasets download -d yaswanthgali/sport-celebrity-image-classification"
      ],
      "metadata": {
        "id": "XYVVUPnmshnK"
      },
      "execution_count": null,
      "outputs": []
    },
    {
      "cell_type": "code",
      "source": [
        "! unzip sport-celebrity-image-classification.zip"
      ],
      "metadata": {
        "id": "nd0kIe1XskM7"
      },
      "execution_count": null,
      "outputs": []
    },
    {
      "cell_type": "code",
      "source": [
        "import numpy as np \n",
        "import pandas as pd \n",
        "import matplotlib.pyplot as plt\n",
        "\n",
        "import keras\n",
        "from keras.models import Sequential\n",
        "from keras.layers import Dense, Dropout, Flatten, Conv2D, MaxPooling2D\n",
        "from tensorflow.keras.optimizers import Adam\n",
        "import glob as gb\n",
        "\n",
        "import os\n",
        "import cv2\n",
        "from sklearn import preprocessing\n",
        "from pathlib import Path"
      ],
      "metadata": {
        "id": "T-kc5D9dspcU"
      },
      "execution_count": null,
      "outputs": []
    },
    {
      "cell_type": "code",
      "source": [
        "def load_data():\n",
        "    dataset=\"/content/Sports-celebrity-images/\"\n",
        "    label_names = ['Kane Williamson', 'Kobe Bryant', 'Maria Sharapova', 'Ronaldo']\n",
        "\n",
        "    images=[]\n",
        "    labels=[]\n",
        "    for folder in os.listdir(dataset):\n",
        "        files=gb.glob(pathname=str(dataset+folder+\"/*.jpg\"))\n",
        "        \n",
        "        label = label_names.index(folder)\n",
        "        for file in files:\n",
        "            #read the image\n",
        "            image = cv2.imread(file)\n",
        "            image = cv2.cvtColor(image, cv2.COLOR_BGR2RGB)\n",
        "            \n",
        "            # resize the image\n",
        "            image = cv2.resize(image, (256,256))\n",
        "\n",
        "            # Append the image and its corresponding label to the output\n",
        "            images.append(image)\n",
        "            labels.append(label)\n",
        "\n",
        "    images = np.array(images)\n",
        "    labels = np.array(labels)\n",
        "    \n",
        "\n",
        "    return images,labels\n",
        "\n"
      ],
      "metadata": {
        "id": "RI4mYp9istzu"
      },
      "execution_count": null,
      "outputs": []
    },
    {
      "cell_type": "code",
      "source": [
        "images, labels = load_data()"
      ],
      "metadata": {
        "id": "gZo_JDwOt15o"
      },
      "execution_count": null,
      "outputs": []
    },
    {
      "cell_type": "code",
      "source": [
        "list(images)"
      ],
      "metadata": {
        "id": "DFUuaFjLt9Ps"
      },
      "execution_count": null,
      "outputs": []
    },
    {
      "cell_type": "code",
      "source": [
        "unique, counts = np.unique(labels, return_counts=True)\n",
        "print(unique)\n",
        "print(counts)"
      ],
      "metadata": {
        "id": "RwXzQiMuuYKA"
      },
      "execution_count": null,
      "outputs": []
    },
    {
      "cell_type": "code",
      "source": [
        "import seaborn as sns\n",
        "label_names = ['Kane', 'Kobe', 'Maria', 'Ronaldo']\n",
        "unique, counts = np.unique(labels, return_counts = True)\n",
        "sns.barplot(x = label_names, y = counts)\n",
        "plt.title('No of Data avaliable for each class')"
      ],
      "metadata": {
        "id": "YVGPGFh2u8gv"
      },
      "execution_count": null,
      "outputs": []
    },
    {
      "cell_type": "code",
      "source": [
        "labels = np.array(pd.get_dummies(labels))"
      ],
      "metadata": {
        "id": "IqltyDVesMXZ"
      },
      "execution_count": null,
      "outputs": []
    },
    {
      "cell_type": "code",
      "source": [
        "labels "
      ],
      "metadata": {
        "id": "3yisKmh-sJma"
      },
      "execution_count": null,
      "outputs": []
    },
    {
      "cell_type": "code",
      "source": [
        "from sklearn.model_selection import train_test_split\n",
        "X_train, X_Test, y_train, y_Test = train_test_split( images, labels, test_size = 0.33, random_state = 42)\n",
        "X_val, X_test, y_val, y_test = train_test_split(X_Test, y_Test, test_size = 0.5, random_state = 42)"
      ],
      "metadata": {
        "id": "2rFWIULJsl1_"
      },
      "execution_count": null,
      "outputs": []
    },
    {
      "cell_type": "code",
      "source": [
        "print(\"Length of X_train: \", len(X_train))\n",
        "plt.imshow(X_train[100])\n",
        "plt.title(\"Checking X_train\"+str(y_train[100]))\n",
        "plt.show()"
      ],
      "metadata": {
        "id": "5XWPXrOKswb5"
      },
      "execution_count": null,
      "outputs": []
    },
    {
      "cell_type": "code",
      "source": [
        "#X_train = X_train / 255\n",
        "#X_Test = X_Test / 255\n",
        "#X_val = X_val / 255"
      ],
      "metadata": {
        "id": "PVgRaWLysywH"
      },
      "execution_count": null,
      "outputs": []
    },
    {
      "cell_type": "code",
      "source": [
        ""
      ],
      "metadata": {
        "id": "tMjtKrjHv8AV"
      },
      "execution_count": null,
      "outputs": []
    },
    {
      "cell_type": "code",
      "source": [
        "import tensorflow"
      ],
      "metadata": {
        "id": "HqKKHoAktdXV"
      },
      "execution_count": null,
      "outputs": []
    },
    {
      "cell_type": "code",
      "source": [
        "from tensorflow.keras.layers.experimental.preprocessing import Rescaling"
      ],
      "metadata": {
        "id": "U0MDJhVdt_R_"
      },
      "execution_count": null,
      "outputs": []
    },
    {
      "cell_type": "code",
      "source": [
        "from keras import layers\n",
        "model = Sequential()\n",
        "\n",
        "\n",
        "model.add(Conv2D(filters = 32, kernel_size = (3,3), padding = 'same', activation = 'relu', input_shape = (256, 256, 3)))\n",
        "model.add(Rescaling(1./255))\n",
        "model.add(Conv2D(filters = 32, kernel_size = (3,3), padding = 'same', activation = 'relu'))\n",
        "model.add(MaxPooling2D(2,2))\n",
        "model.add(Dropout(0.2))\n",
        "\n",
        "model.add(Conv2D(filters = 64, kernel_size = (3,3), padding = 'same', activation = 'relu'))\n",
        "model.add(Conv2D(filters = 64, kernel_size = (3,3), padding = 'same', activation = 'relu'))\n",
        "model.add(MaxPooling2D(2,2))\n",
        "model.add(Dropout(0.2,  noise_shape=None))\n",
        "\n",
        "model.add(Conv2D(filters = 128, kernel_size = (3,3), padding = 'same', activation = 'relu'))\n",
        "model.add(Conv2D(filters = 128, kernel_size = (3,3), padding = 'same', activation = 'relu'))\n",
        "model.add(MaxPooling2D(2,2))\n",
        "model.add(Dropout(0.3))\n",
        "\n",
        "model.add(Flatten())\n",
        "model.add(Dense(256, activation = 'relu'))\n",
        "model.add(Dense(64, activation = 'relu'))\n",
        "model.add(Dense(64, activation = 'relu'))\n",
        "model.add(Dropout(0.6))\n",
        "model.add(Dense(4, activation = 'softmax'))"
      ],
      "metadata": {
        "id": "E9VG4RHps4cQ"
      },
      "execution_count": null,
      "outputs": []
    },
    {
      "cell_type": "code",
      "source": [
        "optimizer = Adam(lr = 0.001)"
      ],
      "metadata": {
        "id": "fsjDeHXXtaDV"
      },
      "execution_count": null,
      "outputs": []
    },
    {
      "cell_type": "code",
      "source": [
        "model.compile(optimizer = optimizer, loss = 'categorical_crossentropy', metrics = ['accuracy'])"
      ],
      "metadata": {
        "id": "_-lQT1uxtiad"
      },
      "execution_count": null,
      "outputs": []
    },
    {
      "cell_type": "code",
      "source": [
        "model.summary()"
      ],
      "metadata": {
        "id": "AeiFMj5Ftplv"
      },
      "execution_count": null,
      "outputs": []
    },
    {
      "cell_type": "code",
      "source": [
        "history = model.fit(X_train, y_train, epochs = 40, validation_split = 0.2)"
      ],
      "metadata": {
        "id": "Yk_fPM8Stq4Y"
      },
      "execution_count": null,
      "outputs": []
    },
    {
      "cell_type": "code",
      "source": [
        "loss_train = history.history['loss']\n",
        "loss_val = history.history['val_loss']\n",
        "epochs = range(0,40)\n",
        "plt.plot(epochs, loss_train, 'g', label='Training loss')\n",
        "plt.plot(epochs, loss_val, 'b', label='validation loss')\n",
        "plt.title('Training and Validation loss')\n",
        "plt.xlabel('Epochs')\n",
        "plt.ylabel('Loss')\n",
        "plt.legend()\n",
        "plt.show()"
      ],
      "metadata": {
        "id": "OlfW1lY5uQ8j"
      },
      "execution_count": null,
      "outputs": []
    },
    {
      "cell_type": "code",
      "source": [
        "acc_train = history.history['accuracy']\n",
        "acc_val = history.history['val_accuracy']\n",
        "epochs = range(0,40)\n",
        "plt.plot(epochs, acc_train, 'g', label='Training Accuracy')\n",
        "plt.plot(epochs, acc_val, 'b', label='validation Accuracy')\n",
        "plt.title('Training and Validation Accuracy')\n",
        "plt.xlabel('Epochs')\n",
        "plt.ylabel('Accuracy')\n",
        "plt.legend()\n",
        "plt.show()"
      ],
      "metadata": {
        "id": "AJOg_u2Oul5L"
      },
      "execution_count": null,
      "outputs": []
    },
    {
      "cell_type": "code",
      "source": [
        ""
      ],
      "metadata": {
        "id": "wtecjshiupWN"
      },
      "execution_count": null,
      "outputs": []
    }
  ]
}