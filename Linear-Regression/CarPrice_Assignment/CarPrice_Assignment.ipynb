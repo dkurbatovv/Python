{
  "nbformat": 4,
  "nbformat_minor": 0,
  "metadata": {
    "colab": {
      "name": "CarPrice_Assignment.ipynb",
      "private_outputs": true,
      "provenance": [],
      "authorship_tag": "ABX9TyNTqb8BNAaCRYmng0WXw+qT",
      "include_colab_link": true
    },
    "kernelspec": {
      "name": "python3",
      "display_name": "Python 3"
    },
    "language_info": {
      "name": "python"
    }
  },
  "cells": [
    {
      "cell_type": "markdown",
      "metadata": {
        "id": "view-in-github",
        "colab_type": "text"
      },
      "source": [
        "<a href=\"https://colab.research.google.com/github/dkurbatovv/Python/blob/main/CarPrice_Assignment.ipynb\" target=\"_parent\"><img src=\"https://colab.research.google.com/assets/colab-badge.svg\" alt=\"Open In Colab\"/></a>"
      ]
    },
    {
      "cell_type": "code",
      "execution_count": null,
      "metadata": {
        "id": "CngIaeX-Vm8Y"
      },
      "outputs": [],
      "source": [
        "import pandas as pd\n",
        "import numpy as np\n",
        "import matplotlib.pyplot as plt\n",
        "import seaborn as sns\n",
        "\n",
        "from sklearn.model_selection import train_test_split\n",
        "from sklearn.preprocessing import LabelEncoder\n",
        "from sklearn.metrics import r2_score, confusion_matrix, accuracy_score, log_loss, classification_report, mean_squared_error, mean_absolute_error\n",
        "from sklearn.tree import DecisionTreeClassifier\n",
        "from sklearn.linear_model import LinearRegression, LogisticRegression\n",
        "from sklearn.tree import DecisionTreeRegressor\n",
        "\n",
        "\n",
        "from sklearn.feature_selection import RFE\n",
        "from sklearn.ensemble import RandomForestRegressor\n"
      ]
    },
    {
      "cell_type": "code",
      "source": [
        "df = pd.read_csv('CarPrice_Assignment.csv')"
      ],
      "metadata": {
        "id": "ZZKO6Vq-Vn72"
      },
      "execution_count": null,
      "outputs": []
    },
    {
      "cell_type": "code",
      "source": [
        "df.head()"
      ],
      "metadata": {
        "id": "JBYht6mVVtHV"
      },
      "execution_count": null,
      "outputs": []
    },
    {
      "cell_type": "code",
      "source": [
        "df.dropna()"
      ],
      "metadata": {
        "id": "KVB-VXtMVt7z"
      },
      "execution_count": null,
      "outputs": []
    },
    {
      "cell_type": "code",
      "source": [
        "df = df.drop('car_ID', axis = 1)"
      ],
      "metadata": {
        "id": "_5TaoPvIVv8i"
      },
      "execution_count": null,
      "outputs": []
    },
    {
      "cell_type": "code",
      "source": [
        "df.info()"
      ],
      "metadata": {
        "id": "8alrAaGMVzAL"
      },
      "execution_count": null,
      "outputs": []
    },
    {
      "cell_type": "code",
      "source": [
        "data = df['CarName'].str.split(' ', expand = True)"
      ],
      "metadata": {
        "id": "-EBP-N_tV4f0"
      },
      "execution_count": null,
      "outputs": []
    },
    {
      "cell_type": "code",
      "source": [
        "data[0].unique()"
      ],
      "metadata": {
        "id": "lZmAI1hkWBhj"
      },
      "execution_count": null,
      "outputs": []
    },
    {
      "cell_type": "code",
      "source": [
        "df['CarName'] = df['CarName'].replace({'maxda' : 'mazda', 'Nissan' : 'nissan', 'porcshce' : 'porsche', 'toyouta' : 'toyta', 'vokswagen' : 'volkswagen'})"
      ],
      "metadata": {
        "id": "arr4-Pi3WGdX"
      },
      "execution_count": null,
      "outputs": []
    },
    {
      "cell_type": "code",
      "source": [
        "df.tail(115)"
      ],
      "metadata": {
        "id": "aMiz9HGfWu7T"
      },
      "execution_count": null,
      "outputs": []
    },
    {
      "cell_type": "code",
      "source": [
        "df.describe()"
      ],
      "metadata": {
        "id": "m9GLeXX_Wywd"
      },
      "execution_count": null,
      "outputs": []
    },
    {
      "cell_type": "code",
      "source": [
        "plt.figure(figsize = (12,10))\n",
        "ax = data[0].value_counts().plot(kind = 'bar', stacked = True, colormap = 'Set1')\n",
        "ax.title.set_text('CarName')"
      ],
      "metadata": {
        "id": "4H9OkiZNW8_5"
      },
      "execution_count": null,
      "outputs": []
    },
    {
      "cell_type": "code",
      "source": [
        "dframe = pd.DataFrame(df['fueltype'].value_counts())\n",
        "dframe.plot.pie(y = 'fueltype')"
      ],
      "metadata": {
        "id": "6bv7uUEtXbeL"
      },
      "execution_count": null,
      "outputs": []
    },
    {
      "cell_type": "code",
      "source": [
        "f = plt.figure(figsize = (12,5))\n",
        "ax = f.add_subplot(121)\n",
        "sns.distplot(df[(df.fueltype == 'gas')]['price'], color = 'b', ax = ax)\n",
        "\n",
        "ax = f.add_subplot(122)\n",
        "sns.distplot(df[(df.fueltype == 'diesel')]['price'], color = 'r', ax = ax)"
      ],
      "metadata": {
        "id": "-PA8YUzdY_t8"
      },
      "execution_count": null,
      "outputs": []
    },
    {
      "cell_type": "code",
      "source": [
        "sns.boxplot(data = df, x = 'fueltype', y = 'price', palette = 'icefire' )"
      ],
      "metadata": {
        "id": "pifGDDMWZAoY"
      },
      "execution_count": null,
      "outputs": []
    },
    {
      "cell_type": "code",
      "source": [
        "sns.boxplot(data = df, x = 'enginesize')"
      ],
      "metadata": {
        "id": "7NUExg9mZ2tL"
      },
      "execution_count": null,
      "outputs": []
    },
    {
      "cell_type": "code",
      "source": [
        "df['enginesize'] = df['enginesize'].rank()"
      ],
      "metadata": {
        "id": "HMEb5RVhZ_kY"
      },
      "execution_count": null,
      "outputs": []
    },
    {
      "cell_type": "code",
      "source": [
        "sns.boxplot(data = df, x = 'enginesize')"
      ],
      "metadata": {
        "id": "p9zyj5rvaCea"
      },
      "execution_count": null,
      "outputs": []
    },
    {
      "cell_type": "code",
      "source": [
        "sns.boxplot(data = df, x = 'peakrpm')"
      ],
      "metadata": {
        "id": "X6Vu02iMaDUn"
      },
      "execution_count": null,
      "outputs": []
    },
    {
      "cell_type": "code",
      "source": [
        "df['peakrpm'] = df['peakrpm'].rank()"
      ],
      "metadata": {
        "id": "pc-Ll02laMuG"
      },
      "execution_count": null,
      "outputs": []
    },
    {
      "cell_type": "markdown",
      "source": [
        "Метод rank позволяет избавиться от выбросов."
      ],
      "metadata": {
        "id": "4h5Bgb33aRsQ"
      }
    },
    {
      "cell_type": "code",
      "source": [
        "plt.figure(figsize = (20,20))\n",
        "sns.heatmap(df.corr(), cmap='icefire', annot = True)"
      ],
      "metadata": {
        "id": "WRxDvw_waQjh"
      },
      "execution_count": null,
      "outputs": []
    },
    {
      "cell_type": "code",
      "source": [
        "for column in df:\n",
        "  unique_val = np.unique(df[column])\n",
        "  nr_val = len(unique_val)\n",
        "  if nr_val < 12:\n",
        "    print('The number of values for feature {} : {} -- :{}'.format(column, nr_val, unique_val))\n",
        "  else:\n",
        "    print('The number of values for feature {} : {}'.format(column, nr_val))"
      ],
      "metadata": {
        "id": "FOY2oa6iaxql"
      },
      "execution_count": null,
      "outputs": []
    },
    {
      "cell_type": "code",
      "source": [
        "le = LabelEncoder()\n",
        "columns = ['fueltype',\t'aspiration',\t'doornumber',\t'carbody',\t'drivewheel',\t'enginelocation',\t'enginetype',\t'cylindernumber',\t'fuelsystem']\n",
        "#df_noname['fueltype'] = le.fit_transform(df['fuelsystem'])\n",
        "for i in columns:\n",
        "  df[i] = le.fit_transform(df[i])"
      ],
      "metadata": {
        "id": "gt9dFOrTbC6W"
      },
      "execution_count": null,
      "outputs": []
    },
    {
      "cell_type": "code",
      "source": [
        "df.head()"
      ],
      "metadata": {
        "id": "nonZiGubbJvv"
      },
      "execution_count": null,
      "outputs": []
    },
    {
      "cell_type": "code",
      "source": [
        "df = df.drop('CarName', axis = 1)"
      ],
      "metadata": {
        "id": "KIIhp3YabKpI"
      },
      "execution_count": null,
      "outputs": []
    },
    {
      "cell_type": "code",
      "source": [
        "X = df.drop('price', axis = 1)\n",
        "y = df['price']\n",
        "\n",
        "clf = RandomForestRegressor()\n",
        "rfe = RFE(estimator = clf, n_features_to_select = 15, step = 1)\n",
        "rfe.fit(X, y)\n",
        "print('The best 15 features is :', X.columns[rfe.support_])"
      ],
      "metadata": {
        "id": "u21IYyeSbOlL"
      },
      "execution_count": null,
      "outputs": []
    },
    {
      "cell_type": "code",
      "source": [
        "features = list(X.columns[rfe.support_])"
      ],
      "metadata": {
        "id": "s7Vh7gI2bwFm"
      },
      "execution_count": null,
      "outputs": []
    },
    {
      "cell_type": "code",
      "source": [
        "X = X[features]\n",
        "y = df.price\n",
        "\n",
        "X_train, X_test, y_train, y_test = train_test_split(X, y, test_size = 0.2)"
      ],
      "metadata": {
        "id": "SiwaR-eUb37O"
      },
      "execution_count": null,
      "outputs": []
    },
    {
      "cell_type": "code",
      "source": [
        "lr = LinearRegression()\n",
        "lr.fit(X_train, y_train)\n",
        "\n",
        "y_pred_train = lr.predict(X_train)\n"
      ],
      "metadata": {
        "id": "WHdUITR1b70r"
      },
      "execution_count": null,
      "outputs": []
    },
    {
      "cell_type": "code",
      "source": [
        "print('The Accuracy  on the training dataset is: ', lr.score(X_train, y_train) )\n",
        "print('The Accuracy n2  on the training dataset is: ',r2_score(y_train,y_pred_train) )"
      ],
      "metadata": {
        "id": "5MF-uzl3cdrZ"
      },
      "execution_count": null,
      "outputs": []
    },
    {
      "cell_type": "code",
      "source": [
        "print(\"\")\n",
        "# Model Accuracy on testing dataset\n",
        "print('The Accuracy  on the testing dataset is: ', lr.score(X_test, y_test))\n",
        "\n",
        "print(\"\")\n",
        "# The Root Mean Squared Error (RMSE)\n",
        "print('The RMSE  on the training dataset is: ', np.sqrt(mean_squared_error(y_train,y_pred_train)))\n",
        "print('The RMSE  on the testing dataset is: ', np.sqrt(mean_squared_error(y_test,lr.predict(X_test))))\n",
        "\n",
        "print(\"\")\n",
        "# The Mean Absolute Error (MAE)\n",
        "print('The MAE  on the training dataset is: ', mean_absolute_error(y_train,y_pred_train))\n",
        "print('The MAE  on the testing dataset is: ', mean_absolute_error(y_test,lr.predict(X_test)))\n",
        "\n",
        "\n",
        "print(\"\")\n",
        "# Coefficients\n",
        "print('Coefficients: ', lr.coef_ )\n",
        "\n",
        "print(\"\")\n",
        "# The Intercept"
      ],
      "metadata": {
        "id": "Vx4dFkN0cfLB"
      },
      "execution_count": null,
      "outputs": []
    },
    {
      "cell_type": "code",
      "source": [
        "dt_regressor = DecisionTreeRegressor(random_state=0)\n",
        "dt_regressor.fit(X_train,y_train)\n",
        "y_train_pred = dt_regressor.predict(X_train)\n",
        "y_test_pred = dt_regressor.predict(X_test)\n",
        "dt_regressor.score(X_test,y_test)"
      ],
      "metadata": {
        "id": "MbPhCFHTcufW"
      },
      "execution_count": null,
      "outputs": []
    },
    {
      "cell_type": "code",
      "source": [
        "Rf = RandomForestRegressor(n_estimators = 15,\n",
        "                              criterion = 'mse',\n",
        "                              random_state = 20,\n",
        "                              n_jobs = -1)\n",
        "Rf.fit(X_train,y_train)\n",
        "Rf_train_pred = Rf.predict(X_train)\n",
        "Rf_test_pred = Rf.predict(X_test)\n",
        "\n",
        "\n",
        "r2_score(y_test,Rf_test_pred)"
      ],
      "metadata": {
        "id": "5paxC23Qd1-Q"
      },
      "execution_count": null,
      "outputs": []
    },
    {
      "cell_type": "markdown",
      "source": [
        "***ИТОГ***\n",
        "\n",
        "\n",
        "В данном нотбуке мы рассмотрели далеко не все графики. Основная цель, которая приследовалась, это научиться использовать ранжировать признаки при помощи RFE. И так же был использован метод rank() для того, чтобы мы могли избавиться от выбросов данных. \n",
        "\n",
        "\n",
        "Линейная регрессия показала нам результат 74%.\n",
        "\n",
        "Рандомный Лес показал нам результат 87%.\n",
        "\n",
        "Дерево Решений показал нам результат 86%.\n",
        "\n",
        "\n",
        "\n",
        "***ВАЖНО***\n",
        "\n",
        "*Данная работа выполнена не в полной мере. Для лучших результатов следует более детально рассмотреть все зависимости и соотношения!*"
      ],
      "metadata": {
        "id": "toVyZeumePjs"
      }
    },
    {
      "cell_type": "code",
      "source": [
        ""
      ],
      "metadata": {
        "id": "zTMRpKtmeJlD"
      },
      "execution_count": null,
      "outputs": []
    }
  ]
}
