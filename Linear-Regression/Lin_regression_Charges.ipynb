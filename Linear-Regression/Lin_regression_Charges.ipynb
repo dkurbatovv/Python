{
  "nbformat": 4,
  "nbformat_minor": 0,
  "metadata": {
    "colab": {
      "name": "Untitled34.ipynb",
      "private_outputs": true,
      "provenance": [],
      "authorship_tag": "ABX9TyMqZt4HEVqHXChF6jX50pMU",
      "include_colab_link": true
    },
    "kernelspec": {
      "name": "python3",
      "display_name": "Python 3"
    },
    "language_info": {
      "name": "python"
    }
  },
  "cells": [
    {
      "cell_type": "markdown",
      "metadata": {
        "id": "view-in-github",
        "colab_type": "text"
      },
      "source": [
        "<a href=\"https://colab.research.google.com/github/kurbatovdi/kurbatovdi/blob/main/Lin_regression_Charges.ipynb\" target=\"_parent\"><img src=\"https://colab.research.google.com/assets/colab-badge.svg\" alt=\"Open In Colab\"/></a>"
      ]
    },
    {
      "cell_type": "code",
      "execution_count": null,
      "metadata": {
        "id": "EU32cI-NE9p9"
      },
      "outputs": [],
      "source": [
        "import pandas  as pd #Data manipulation\n",
        "import numpy as np #Data manipulation\n",
        "import matplotlib.pyplot as plt # Visualization\n",
        "import seaborn as sns #Visualization"
      ]
    },
    {
      "cell_type": "code",
      "source": [
        "df = pd.read_csv(\"insurance.csv\")"
      ],
      "metadata": {
        "id": "9GQaWzCSFJ1D"
      },
      "execution_count": null,
      "outputs": []
    },
    {
      "cell_type": "code",
      "source": [
        "df.head()"
      ],
      "metadata": {
        "id": "jalrTEAwFRIs"
      },
      "execution_count": null,
      "outputs": []
    },
    {
      "cell_type": "code",
      "source": [
        "df.describe()"
      ],
      "metadata": {
        "id": "tTgTeBNAFSN3"
      },
      "execution_count": null,
      "outputs": []
    },
    {
      "cell_type": "code",
      "source": [
        "df.isnull()"
      ],
      "metadata": {
        "id": "7QKJNIgQFeT_"
      },
      "execution_count": null,
      "outputs": []
    },
    {
      "cell_type": "code",
      "source": [
        "corr = df.corr()\n",
        "sns.heatmap(corr, cmap='Accent', annot=True)"
      ],
      "metadata": {
        "id": "9SeaXSxOFlAk"
      },
      "execution_count": null,
      "outputs": []
    },
    {
      "cell_type": "code",
      "source": [
        "f = plt.figure(figsize=(12,4))\n",
        "\n",
        "\n",
        "ax = f.add_subplot(121)\n",
        "sns.distplot(df['charges'], bins=50, color='r', ax=ax)\n",
        "ax.set_title('Distribution of insurance charges')\n",
        "\n",
        "\n",
        "ax = f.add_subplot(122)\n",
        "sns.distplot(np.log10(df['charges']), bins=50, color='b', ax=ax)\n",
        "ax.set_title('Distribution of insurance charges in $log$ sacle')"
      ],
      "metadata": {
        "id": "yWUGBVdtFpaO"
      },
      "execution_count": null,
      "outputs": []
    },
    {
      "cell_type": "code",
      "source": [
        "f = plt.figure(figsize=(14,6))\n",
        "\n",
        "ax = f.add_subplot(121)\n",
        "sns.violinplot(x='sex', y='charges', data=df, palette='Blues', ax=ax)\n",
        "ax.set_title('Violin plot of Charges vs sex')\n",
        "\n",
        "ax = f.add_subplot(122)\n",
        "sns.violinplot(x='smoker', y='charges', data=df, palette='Reds', ax=ax)\n",
        "ax.set_title('Violin plot of Charges vs smoker')"
      ],
      "metadata": {
        "id": "qznr-QNjGFRw"
      },
      "execution_count": null,
      "outputs": []
    },
    {
      "cell_type": "code",
      "source": [
        "plt.figure(figsize=(14,6))\n",
        "sns.boxplot(x='children', y='charges',hue='sex',data=df,palette='rainbow')\n",
        "plt.title('Box plot of charges vs children');"
      ],
      "metadata": {
        "id": "QnOii8_4JFGw"
      },
      "execution_count": null,
      "outputs": []
    },
    {
      "cell_type": "code",
      "source": [
        "df.groupby('children').agg(['mean','min','max'])['charges']"
      ],
      "metadata": {
        "id": "ofYlGOJc48q_"
      },
      "execution_count": null,
      "outputs": []
    },
    {
      "cell_type": "code",
      "source": [
        "plt.figure(figsize=(14,6))\n",
        "sns.violinplot(x='region', y='charges',hue='sex',data=df,palette='rainbow',split=True)\n",
        "plt.title('Violin plot of charges vs children')"
      ],
      "metadata": {
        "id": "XcZX2kkp5L5M"
      },
      "execution_count": null,
      "outputs": []
    },
    {
      "cell_type": "code",
      "source": [
        "f = plt.figure(figsize=(14,6))\n",
        "ax = f.add_subplot(121)\n",
        "sns.scatterplot(x='age',y='charges',data=df,palette='magma',hue='smoker',ax=ax)\n",
        "ax.set_title('Scatter plot of Charges vs age')\n",
        "\n",
        "ax = f.add_subplot(122)\n",
        "sns.scatterplot(x='bmi',y='charges',data=df,palette='viridis',hue='smoker')\n",
        "ax.set_title('Scatter plot of Charges vs bmi')\n",
        "plt.savefig('sc.png');"
      ],
      "metadata": {
        "id": "JN4pU6_V5MCU"
      },
      "execution_count": null,
      "outputs": []
    },
    {
      "cell_type": "code",
      "source": [
        ""
      ],
      "metadata": {
        "id": "DkMgmM_f5MFK"
      },
      "execution_count": null,
      "outputs": []
    },
    {
      "cell_type": "code",
      "source": [
        ""
      ],
      "metadata": {
        "id": "_NyxnY7l5MHa"
      },
      "execution_count": null,
      "outputs": []
    }
  ]
}