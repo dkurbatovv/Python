{
  "nbformat": 4,
  "nbformat_minor": 0,
  "metadata": {
    "colab": {
      "name": "Untitled35.ipynb",
      "private_outputs": true,
      "provenance": [],
      "authorship_tag": "ABX9TyPnIxm6bdVL+3yyGJUIip1Z",
      "include_colab_link": true
    },
    "kernelspec": {
      "name": "python3",
      "display_name": "Python 3"
    },
    "language_info": {
      "name": "python"
    }
  },
  "cells": [
    {
      "cell_type": "markdown",
      "metadata": {
        "id": "view-in-github",
        "colab_type": "text"
      },
      "source": [
        "<a href=\"https://colab.research.google.com/github/kurbatovdi/kurbatovdi/blob/main/Regression_Smoker.ipynb\" target=\"_parent\"><img src=\"https://colab.research.google.com/assets/colab-badge.svg\" alt=\"Open In Colab\"/></a>"
      ]
    },
    {
      "cell_type": "code",
      "execution_count": null,
      "metadata": {
        "id": "bHo87nI4Vcre"
      },
      "outputs": [],
      "source": [
        "import pandas  as pd #Data manipulation\n",
        "import numpy as np #Data manipulation\n",
        "import matplotlib.pyplot as plt # Visualization\n",
        "import seaborn as sns #Visualization"
      ]
    },
    {
      "cell_type": "code",
      "source": [
        "df = pd.read_csv('insurance.csv')"
      ],
      "metadata": {
        "id": "Oubo-ZbsVfeZ"
      },
      "execution_count": null,
      "outputs": []
    },
    {
      "cell_type": "code",
      "source": [
        "df.head()"
      ],
      "metadata": {
        "id": "2H1Y4w4NVrpL"
      },
      "execution_count": null,
      "outputs": []
    },
    {
      "cell_type": "code",
      "source": [
        "df.info()"
      ],
      "metadata": {
        "id": "_eWe-WYYVsty"
      },
      "execution_count": null,
      "outputs": []
    },
    {
      "cell_type": "code",
      "source": [
        "df.isnull()"
      ],
      "metadata": {
        "id": "Qy0Fu3E_VxWt"
      },
      "execution_count": null,
      "outputs": []
    },
    {
      "cell_type": "code",
      "source": [
        "df.isnull().sum()"
      ],
      "metadata": {
        "id": "EbQbmxxzVzdE"
      },
      "execution_count": null,
      "outputs": []
    },
    {
      "cell_type": "code",
      "source": [
        "from sklearn.preprocessing import LabelEncoder\n",
        "#sex\n",
        "le = LabelEncoder()\n",
        "le.fit(df.sex.drop_duplicates()) \n",
        "df.sex = le.transform(df.sex)\n",
        "# smoker or not\n",
        "le.fit(df.smoker.drop_duplicates()) \n",
        "df.smoker = le.transform(df.smoker)\n",
        "#region\n",
        "le.fit(df.region.drop_duplicates()) \n",
        "df.region = le.transform(df.region)"
      ],
      "metadata": {
        "id": "nkKCr28pV3Fc"
      },
      "execution_count": null,
      "outputs": []
    },
    {
      "cell_type": "code",
      "source": [
        "df.corr()['charges'].sort_values()"
      ],
      "metadata": {
        "id": "VrcqUySwWQfx"
      },
      "execution_count": null,
      "outputs": []
    },
    {
      "cell_type": "code",
      "source": [
        "f = plt.figure(figsize=(12,10))\n",
        "\n",
        "corr = df.corr()\n",
        "sns.heatmap(corr, annot=True, cmap=\"Wistia\") "
      ],
      "metadata": {
        "id": "NBDd4Ew_Wcqq"
      },
      "execution_count": null,
      "outputs": []
    },
    {
      "cell_type": "code",
      "source": [
        "f = plt.figure(figsize=(12,6))\n",
        "\n",
        "ax = f.add_subplot(121)\n",
        "sns.distplot(df[(df.smoker == 1)][\"charges\"], color='r', ax=ax, bins=25)\n",
        "ax.set_title('Distribution of charges for smokers')\n",
        "\n",
        "ax = f.add_subplot(122)\n",
        "sns.distplot(df[(df.smoker == 0)][\"charges\"], color='b', ax=ax, bins=25)\n",
        "ax.set_title('Distribution of charges for non-smokers')"
      ],
      "metadata": {
        "id": "DU1vByiyW0hw"
      },
      "execution_count": null,
      "outputs": []
    },
    {
      "cell_type": "code",
      "source": [
        "#Курящие тратят на лечение больше денег\n",
        "#Но есть ощущение что некурящих пациентов больше\n"
      ],
      "metadata": {
        "id": "ReYLAmeBYUTu"
      },
      "execution_count": null,
      "outputs": []
    },
    {
      "cell_type": "code",
      "source": [
        "sns.catplot(x='smoker', kind=\"count\", hue='sex', palette=\"Paired\", data=df)"
      ],
      "metadata": {
        "id": "sKdE-wHpY08q"
      },
      "execution_count": null,
      "outputs": []
    },
    {
      "cell_type": "code",
      "source": [
        "sns.catplot(x=\"sex\", y=\"charges\", hue=\"smoker\",\n",
        "            kind=\"violin\", data=df, palette = 'magma')"
      ],
      "metadata": {
        "id": "DykEH03VY7ic"
      },
      "execution_count": null,
      "outputs": []
    },
    {
      "cell_type": "code",
      "source": [
        "plt.figure(figsize=(12,5))\n",
        "plt.title(\"Box plot for charges of women\")\n",
        "sns.boxplot(y=\"smoker\", x=\"charges\", data =  df[(df.sex == 1)] , orient=\"h\", palette = 'magma')"
      ],
      "metadata": {
        "id": "tLcqjcNma8Mr"
      },
      "execution_count": null,
      "outputs": []
    },
    {
      "cell_type": "code",
      "source": [
        "plt.figure(figsize=(12,5))\n",
        "plt.title(\"Box plot for charges of women\")\n",
        "sns.boxplot(y=\"smoker\", x=\"charges\", data =  df[(df.sex == 0)] , orient=\"h\", palette = 'YlOrBr')"
      ],
      "metadata": {
        "id": "NSy2hxDzbzvS"
      },
      "execution_count": null,
      "outputs": []
    },
    {
      "cell_type": "code",
      "source": [
        "plt.figure(figsize=(10,8))\n",
        "plt.title('istribution of age')\n",
        "ax = sns.distplot(df[\"age\"], color=\"b\")"
      ],
      "metadata": {
        "id": "PS2EcUD-c9pd"
      },
      "execution_count": null,
      "outputs": []
    },
    {
      "cell_type": "code",
      "source": [
        "sns.catplot(x=\"smoker\", kind=\"count\", hue = 'sex', palette=\"rainbow\", data=df[(df.age == 18)])\n",
        "plt.title(\"The number of smokers and non-smokers (18 years old)\")"
      ],
      "metadata": {
        "id": "LWP0Fu5edzEt"
      },
      "execution_count": null,
      "outputs": []
    },
    {
      "cell_type": "code",
      "source": [
        "plt.figure(figsize=(12,5))\n",
        "plt.title(\"Box plot for charges 18 years old smokers\")\n",
        "sns.boxplot(y=\"smoker\", x=\"charges\", data = df[(df.age == 18)] , orient='h', palette = 'pink')"
      ],
      "metadata": {
        "id": "WU_4seNZehrt"
      },
      "execution_count": null,
      "outputs": []
    },
    {
      "cell_type": "code",
      "source": [
        "g = sns.jointplot(x=\"age\", y=\"charges\", data = df[(df.smoker == 0)], kind=\"kde\", color=\"m\")\n",
        "g.plot_joint(plt.scatter, c=\"w\", s=30, linewidth=2, marker=\"+\")\n",
        "g.ax_joint.collections[0].set_alpha(0)\n",
        "g.set_axis_labels(\"$X$\", \"$Y$\")\n",
        "ax.set_title('Distribution of charges and age for non-smokers')"
      ],
      "metadata": {
        "id": "rxn2WQonetTX"
      },
      "execution_count": null,
      "outputs": []
    },
    {
      "cell_type": "code",
      "source": [
        "g = sns.jointplot(x=\"age\", y=\"charges\", data = df[(df.smoker == 1)],kind=\"kde\", color=\"c\")\n",
        "g.plot_joint(plt.scatter, c=\"w\", s=30, linewidth=1)\n",
        "g.ax_joint.collections[0].set_alpha(0)\n",
        "g.set_axis_labels(\"$X$\", \"$Y$\")\n",
        "ax.set_title('Distribution of charges and age for smokers')"
      ],
      "metadata": {
        "id": "88vo0n1Kj68f"
      },
      "execution_count": null,
      "outputs": []
    },
    {
      "cell_type": "code",
      "source": [
        "sns.lmplot(x=\"age\", y=\"charges\", hue=\"smoker\", data=df, palette = 'inferno_r', size = 7)\n",
        "ax.set_title('Smokers and non-smokers')"
      ],
      "metadata": {
        "id": "m6TmnAj2kJBr"
      },
      "execution_count": null,
      "outputs": []
    },
    {
      "cell_type": "code",
      "source": [
        "plt.figure(figsize=(12,5))\n",
        "plt.title(\"Distribution of bmi\")\n",
        "ax = sns.distplot(df[\"bmi\"], color = 'm')"
      ],
      "metadata": {
        "id": "afHJw9GHkrHr"
      },
      "execution_count": null,
      "outputs": []
    },
    {
      "cell_type": "code",
      "source": [
        "plt.figure(figsize=(12,5))\n",
        "sns.distplot(df[(df.bmi>=30)]['charges'], color=\"black\")\n",
        "plt.title(\"Distribution of charges for patients with BMI greater than 30\")"
      ],
      "metadata": {
        "id": "9Osobt9flB5_"
      },
      "execution_count": null,
      "outputs": []
    },
    {
      "cell_type": "code",
      "source": [
        "plt.figure(figsize=(12,5))\n",
        "plt.title(\"Distribution of charges for patients with BMI less than 30\")\n",
        "ax = sns.distplot(df[(df.bmi < 30)]['charges'], color = 'b')"
      ],
      "metadata": {
        "id": "W2Xlg6qLppHX"
      },
      "execution_count": null,
      "outputs": []
    },
    {
      "cell_type": "code",
      "source": [
        "plt.figure(figsize=(10,6))\n",
        "ax = sns.scatterplot(x='bmi',y='charges',data=df,palette='magma',hue='smoker')\n",
        "ax.set_title('Scatter plot of charges and bmi')\n",
        "\n"
      ],
      "metadata": {
        "id": "WqDNSJ6RpvUD"
      },
      "execution_count": null,
      "outputs": []
    },
    {
      "cell_type": "code",
      "source": [
        "sns.lmplot(x=\"bmi\", y=\"charges\", hue=\"smoker\", data=df, palette = 'magma', size = 8)"
      ],
      "metadata": {
        "id": "iLcFcdThk6U5"
      },
      "execution_count": null,
      "outputs": []
    },
    {
      "cell_type": "code",
      "source": [
        "from sklearn.linear_model import LinearRegression\n",
        "from sklearn.model_selection import train_test_split\n",
        "from sklearn.preprocessing import PolynomialFeatures\n",
        "from sklearn.metrics import r2_score,mean_squared_error\n",
        "from sklearn.ensemble import RandomForestRegressor"
      ],
      "metadata": {
        "id": "oSwYkMB1k-9n"
      },
      "execution_count": null,
      "outputs": []
    },
    {
      "cell_type": "code",
      "source": [
        "x = df.drop(['charges'], axis = 1)\n",
        "y = df.charges\n",
        "\n",
        "x_train,x_test,y_train,y_test = train_test_split(x,y, random_state = 0)\n",
        "lr = LinearRegression().fit(x_train,y_train)\n",
        "\n",
        "y_train_pred = lr.predict(x_train)\n",
        "y_test_pred = lr.predict(x_test)\n",
        "\n",
        "print(lr.score(x_test,y_test))"
      ],
      "metadata": {
        "id": "fpZO_exVlX2J"
      },
      "execution_count": null,
      "outputs": []
    },
    {
      "cell_type": "code",
      "source": [
        "X = df.drop(['charges','region'], axis = 1)\n",
        "Y = df.charges\n",
        "\n",
        "\n",
        "\n",
        "quad = PolynomialFeatures (degree = 2)\n",
        "x_quad = quad.fit_transform(X)\n",
        "\n",
        "X_train,X_test,Y_train,Y_test = train_test_split(x_quad,Y, random_state = 0)\n",
        "\n",
        "plr = LinearRegression().fit(X_train,Y_train)\n",
        "\n",
        "Y_train_pred = plr.predict(X_train)\n",
        "Y_test_pred = plr.predict(X_test)\n",
        "\n",
        "print(plr.score(X_test,Y_test))"
      ],
      "metadata": {
        "id": "rSkw6fYzlbZd"
      },
      "execution_count": null,
      "outputs": []
    },
    {
      "cell_type": "code",
      "source": [
        ""
      ],
      "metadata": {
        "id": "BQU72Kl3ludz"
      },
      "execution_count": null,
      "outputs": []
    }
  ]
}
