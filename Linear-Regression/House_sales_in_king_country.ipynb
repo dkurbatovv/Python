{
  "nbformat": 4,
  "nbformat_minor": 0,
  "metadata": {
    "colab": {
      "name": "House sales in king country.ipynb",
      "private_outputs": true,
      "provenance": [],
      "authorship_tag": "ABX9TyNFV3ubgrHa/Fa+fh+kgd2F",
      "include_colab_link": true
    },
    "kernelspec": {
      "name": "python3",
      "display_name": "Python 3"
    },
    "language_info": {
      "name": "python"
    },
    "accelerator": "GPU"
  },
  "cells": [
    {
      "cell_type": "markdown",
      "metadata": {
        "id": "view-in-github",
        "colab_type": "text"
      },
      "source": [
        "<a href=\"https://colab.research.google.com/github/dkurbatovv/Python/blob/main/House_sales_in_king_country.ipynb\" target=\"_parent\"><img src=\"https://colab.research.google.com/assets/colab-badge.svg\" alt=\"Open In Colab\"/></a>"
      ]
    },
    {
      "cell_type": "code",
      "execution_count": null,
      "metadata": {
        "id": "rr8hhq8HgRiy"
      },
      "outputs": [],
      "source": [
        "import pandas as pd\n",
        "import numpy as np\n",
        "import matplotlib.pyplot as plt\n",
        "import seaborn as sns\n",
        "\n",
        "from sklearn.model_selection import train_test_split\n",
        "from sklearn.preprocessing import LabelEncoder\n",
        "from sklearn.metrics import r2_score, confusion_matrix, accuracy_score, log_loss, classification_report, mean_squared_error, mean_absolute_error\n",
        "from sklearn.tree import DecisionTreeClassifier\n",
        "from sklearn.linear_model import LinearRegression, LogisticRegression\n",
        "from sklearn.tree import DecisionTreeRegressor\n",
        "\n",
        "\n",
        "from sklearn.feature_selection import RFE\n",
        "from sklearn.ensemble import RandomForestRegressor\n"
      ]
    },
    {
      "cell_type": "code",
      "source": [
        "df = pd.read_csv('kc_house_data.csv')"
      ],
      "metadata": {
        "id": "AEK1DaQemRK1"
      },
      "execution_count": null,
      "outputs": []
    },
    {
      "cell_type": "code",
      "source": [
        "df.head()"
      ],
      "metadata": {
        "id": "criKxW6EmYtg"
      },
      "execution_count": null,
      "outputs": []
    },
    {
      "cell_type": "code",
      "source": [
        "df = df.drop('id', axis = 1)"
      ],
      "metadata": {
        "id": "SJ70rA9umZWg"
      },
      "execution_count": null,
      "outputs": []
    },
    {
      "cell_type": "code",
      "source": [
        "df.head()"
      ],
      "metadata": {
        "id": "_AzGyVa7me-_"
      },
      "execution_count": null,
      "outputs": []
    },
    {
      "cell_type": "code",
      "source": [
        "df['date'] = pd.to_datetime(df['date'])"
      ],
      "metadata": {
        "id": "KbunJdwvoy0h"
      },
      "execution_count": null,
      "outputs": []
    },
    {
      "cell_type": "code",
      "source": [
        "df.head()"
      ],
      "metadata": {
        "id": "BMvBbsDbo03j"
      },
      "execution_count": null,
      "outputs": []
    },
    {
      "cell_type": "code",
      "source": [
        "df['renovated'] = df['yr_renovated'].apply(lambda yr: 0 if yr == 0 else 1)\n",
        "\n",
        "df = df.drop('date', axis=1)\n",
        "df = df.drop('yr_renovated', axis=1)\n",
        "df = df.drop('yr_built', axis=1)"
      ],
      "metadata": {
        "id": "zJiQY6UkpI-j"
      },
      "execution_count": null,
      "outputs": []
    },
    {
      "cell_type": "code",
      "source": [
        "df.head()"
      ],
      "metadata": {
        "id": "H1du-VqVpOCO"
      },
      "execution_count": null,
      "outputs": []
    },
    {
      "cell_type": "code",
      "source": [
        "df.info()"
      ],
      "metadata": {
        "id": "Zu4zeWqRmhLH"
      },
      "execution_count": null,
      "outputs": []
    },
    {
      "cell_type": "code",
      "source": [
        "df.isnull().sum()"
      ],
      "metadata": {
        "id": "8Y1lvgSpmiH1"
      },
      "execution_count": null,
      "outputs": []
    },
    {
      "cell_type": "code",
      "source": [
        "df.describe()"
      ],
      "metadata": {
        "id": "PKlqh2yamk6U"
      },
      "execution_count": null,
      "outputs": []
    },
    {
      "cell_type": "code",
      "source": [
        "df = df.drop(['lat', 'long'], axis = 1)"
      ],
      "metadata": {
        "id": "ufCl4e69mm6v"
      },
      "execution_count": null,
      "outputs": []
    },
    {
      "cell_type": "code",
      "source": [
        "df = df.drop('zipcode', axis = 1)"
      ],
      "metadata": {
        "id": "Sc_NxhOtm1nt"
      },
      "execution_count": null,
      "outputs": []
    },
    {
      "cell_type": "code",
      "source": [
        ""
      ],
      "metadata": {
        "id": "vhJgAEBJqkZk"
      },
      "execution_count": null,
      "outputs": []
    },
    {
      "cell_type": "code",
      "source": [
        "plt.figure(figsize = (12,10))\n",
        "sns.boxplot(data = df, x = 'bedrooms', y = 'price')"
      ],
      "metadata": {
        "id": "ji7G9Oucm-H_"
      },
      "execution_count": null,
      "outputs": []
    },
    {
      "cell_type": "code",
      "source": [
        "plt.figure(figsize = (12,10))\n",
        "sns.boxplot(data = df, x = 'floors', y = 'price')"
      ],
      "metadata": {
        "id": "E5MGO-UMnGak"
      },
      "execution_count": null,
      "outputs": []
    },
    {
      "cell_type": "code",
      "source": [
        "df.head()"
      ],
      "metadata": {
        "id": "2ug_mtGHng-5"
      },
      "execution_count": null,
      "outputs": []
    },
    {
      "cell_type": "code",
      "source": [
        "sns.countplot(data = df, x = 'renovated')"
      ],
      "metadata": {
        "id": "Vx9LcoLOptG7"
      },
      "execution_count": null,
      "outputs": []
    },
    {
      "cell_type": "code",
      "source": [
        "\n",
        "features = [\"sqft_lot\", \"sqft_above\", \"sqft_basement\", \"sqft_living15\", \"sqft_lot15\"]\n",
        "\n",
        "for i in features:\n",
        "  sns.jointplot(x = i, y=\"price\", data = df, kind = 'reg', size = 5)\n",
        "  plt.show()"
      ],
      "metadata": {
        "id": "zy2uwMCgpyW-"
      },
      "execution_count": null,
      "outputs": []
    },
    {
      "cell_type": "code",
      "source": [
        "plt.figure(figsize = (20,20))\n",
        "sns.heatmap(df.corr(), cmap = 'icefire', annot = True)"
      ],
      "metadata": {
        "id": "ItFQZxsHtCwQ"
      },
      "execution_count": null,
      "outputs": []
    },
    {
      "cell_type": "code",
      "source": [
        "X = df.drop(['price', 'renovated'], axis = 1)\n",
        "y = df['price']\n",
        "\n",
        "X_train, X_test, y_train, y_test = train_test_split(X, y, test_size = 0.3, random_state = 50)\n",
        "\n",
        "print(X_train.shape, y_train.shape)"
      ],
      "metadata": {
        "id": "ZjHWwGgsrEHt"
      },
      "execution_count": null,
      "outputs": []
    },
    {
      "cell_type": "code",
      "source": [
        "X.head()"
      ],
      "metadata": {
        "id": "ZGqxraLBvmLj"
      },
      "execution_count": null,
      "outputs": []
    },
    {
      "cell_type": "code",
      "source": [
        "from sklearn.preprocessing import MinMaxScaler\n",
        "scaler = MinMaxScaler()\n",
        "\n",
        "X_train = scaler.fit_transform(X_train)\n",
        "X_test = scaler.transform(X_test)"
      ],
      "metadata": {
        "id": "WAzxDVBg4d2o"
      },
      "execution_count": null,
      "outputs": []
    },
    {
      "cell_type": "code",
      "source": [
        "lr = LinearRegression()\n",
        "lr.fit(X_train, y_train)\n",
        "\n",
        "y_pred = lr.predict(X_train)"
      ],
      "metadata": {
        "id": "p-RPwfMhsvBR"
      },
      "execution_count": null,
      "outputs": []
    },
    {
      "cell_type": "code",
      "source": [
        "print('The training accuracy is ', lr.score(X_train, y_train))\n",
        "print('The testing accuracy is ', lr.score(X_test, y_test))"
      ],
      "metadata": {
        "id": "ShoQ-UR4s4H0"
      },
      "execution_count": null,
      "outputs": []
    },
    {
      "cell_type": "code",
      "source": [
        "clf = RandomForestRegressor()\n",
        "rfe = RFE(estimator = clf, n_features_to_select = 10, step = 1)\n",
        "rfe.fit(X, y)\n",
        "print('The best 10 features is :', X.columns[rfe.support_])"
      ],
      "metadata": {
        "id": "QZIg4k7XtBI8"
      },
      "execution_count": null,
      "outputs": []
    },
    {
      "cell_type": "code",
      "source": [
        "best_features = list(X.columns[rfe.support_])"
      ],
      "metadata": {
        "id": "h4II7UaCtdUp"
      },
      "execution_count": null,
      "outputs": []
    },
    {
      "cell_type": "code",
      "source": [
        "X_rfe = df[best_features]\n",
        "\n",
        "X_train, X_test, y_train, y_test = train_test_split(X_rfe, y, test_size = 0.3, random_state = 10)"
      ],
      "metadata": {
        "id": "sP62Y8mjvQLn"
      },
      "execution_count": null,
      "outputs": []
    },
    {
      "cell_type": "code",
      "source": [
        "X_train"
      ],
      "metadata": {
        "id": "c7zngrfOvsny"
      },
      "execution_count": null,
      "outputs": []
    },
    {
      "cell_type": "code",
      "source": [
        "lr_new = LinearRegression()\n",
        "lr_new.fit(X_train, y_train)\n",
        "\n",
        "y_pred_train = lr_new.predict(X_train)\n"
      ],
      "metadata": {
        "id": "w3BQTSG4vUdE"
      },
      "execution_count": null,
      "outputs": []
    },
    {
      "cell_type": "code",
      "source": [
        "print('The Accuracy  on the training dataset is: ', lr_new.score(X_train, y_train) )\n",
        "print('The Accuracy n2  on the training dataset is: ',r2_score(y_train, y_pred_train) )"
      ],
      "metadata": {
        "id": "BpuOEWIZvXtD"
      },
      "execution_count": null,
      "outputs": []
    },
    {
      "cell_type": "markdown",
      "source": [
        "# ***Decision Tree***"
      ],
      "metadata": {
        "id": "y3fMdxulveHv"
      }
    },
    {
      "cell_type": "code",
      "source": [
        "dt_regressor = DecisionTreeRegressor(random_state=0)\n",
        "dt_regressor.fit(X_train,y_train)\n",
        "\n",
        "y_train_pred = dt_regressor.predict(X_train)\n",
        "y_test_pred = dt_regressor.predict(X_test)\n",
        "\n",
        "dt_regressor.score(X_test, y_test)"
      ],
      "metadata": {
        "id": "-tw28-3dvbT0"
      },
      "execution_count": null,
      "outputs": []
    },
    {
      "cell_type": "markdown",
      "source": [
        "# ***Random Forest Regressor***"
      ],
      "metadata": {
        "id": "PvAIwTxVvr4q"
      }
    },
    {
      "cell_type": "code",
      "source": [
        "Rf = RandomForestRegressor(n_estimators = 15,\n",
        "                              criterion = 'mse',\n",
        "                              random_state = 20,\n",
        "                              n_jobs = -1)\n",
        "Rf.fit(X_train,y_train)\n",
        "Rf_train_pred = Rf.predict(X_train)\n",
        "Rf_test_pred = Rf.predict(X_test)\n",
        "\n",
        "\n",
        "print(r2_score(y_test,Rf_test_pred), Rf.score(X_test, y_test))"
      ],
      "metadata": {
        "id": "IzQZzk8kxB4Z"
      },
      "execution_count": null,
      "outputs": []
    },
    {
      "cell_type": "code",
      "source": [
        "from sklearn.ensemble import GradientBoostingRegressor\n",
        "from xgboost import XGBRegressor\n",
        "#from catboost import CatBoostRegressor"
      ],
      "metadata": {
        "id": "jwzbdggrxS5p"
      },
      "execution_count": null,
      "outputs": []
    },
    {
      "cell_type": "markdown",
      "source": [
        "# ***GradientBoostingRegressor***"
      ],
      "metadata": {
        "id": "3QCPN-F6wyIy"
      }
    },
    {
      "cell_type": "code",
      "source": [
        "gbr = GradientBoostingRegressor(max_depth=2, n_estimators=100, learning_rate =.2)\n",
        "gbr.fit(X_train, y_train)\n",
        "\n",
        "y_pred_gbr = gbr.predict(X_train)"
      ],
      "metadata": {
        "id": "RzqHJENx0JEH"
      },
      "execution_count": null,
      "outputs": []
    },
    {
      "cell_type": "code",
      "source": [
        "gbr.score(X_test, y_test)"
      ],
      "metadata": {
        "id": "FnjTmOCT3Asj"
      },
      "execution_count": null,
      "outputs": []
    },
    {
      "cell_type": "markdown",
      "source": [
        "# ***XGBRegressor***"
      ],
      "metadata": {
        "id": "0jEfuqr0xJKe"
      }
    },
    {
      "cell_type": "code",
      "source": [
        "xgb = XGBRegressor(max_depth = 3, n_estimators=50, learning_rate =.2)\n",
        "xgb.fit(X_train, y_train)\n",
        "y_train = xgb.predict(X_train)\n",
        "\n",
        "print(xgb.score(X_test, y_test))"
      ],
      "metadata": {
        "id": "35lMFjMQ2y9V"
      },
      "execution_count": null,
      "outputs": []
    },
    {
      "cell_type": "markdown",
      "source": [
        "#***Вывод:***\n",
        "\n",
        "Для получения более точных результатов можно попробовать убрать выбросы, или попробовать другое усреднение данных, к примеру StandardScaler.\n",
        "\n",
        "Другой вариант решения, сделать нейросеть, и попробвать выполнить предсказания спомощью нее.\n",
        "\n",
        "Так же следует попробовать Catboost.\n",
        "\n"
      ],
      "metadata": {
        "id": "cscB9b9qx3aT"
      }
    }
  ]
}
