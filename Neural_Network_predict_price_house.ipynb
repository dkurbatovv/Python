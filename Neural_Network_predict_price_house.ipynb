{
  "nbformat": 4,
  "nbformat_minor": 0,
  "metadata": {
    "colab": {
      "name": "Neural_Network_predict_price_house.ipynb",
      "private_outputs": true,
      "provenance": [],
      "authorship_tag": "ABX9TyNIF5Sz7RvbjmlOMtXO5ndQ",
      "include_colab_link": true
    },
    "kernelspec": {
      "name": "python3",
      "display_name": "Python 3"
    },
    "language_info": {
      "name": "python"
    }
  },
  "cells": [
    {
      "cell_type": "markdown",
      "metadata": {
        "id": "view-in-github",
        "colab_type": "text"
      },
      "source": [
        "<a href=\"https://colab.research.google.com/github/dkurbatovv/Python/blob/main/Neural_Network_predict_price_house.ipynb\" target=\"_parent\"><img src=\"https://colab.research.google.com/assets/colab-badge.svg\" alt=\"Open In Colab\"/></a>"
      ]
    },
    {
      "cell_type": "code",
      "execution_count": null,
      "metadata": {
        "id": "0dK2XLxv4d_q"
      },
      "outputs": [],
      "source": [
        "import tensorflow as tf\n",
        "import pandas as pd\n",
        "import numpy as np\n",
        "import seaborn as sns\n",
        "import matplotlib.pyplot as plt\n",
        "import plotly.express as px\n",
        "import plotly.graph_objs as go\n",
        "from plotly.offline import init_notebook_mode,iplot\n",
        "\n",
        "from folium import plugins"
      ]
    },
    {
      "cell_type": "code",
      "source": [
        "df = pd.read_csv('kc_house_data.csv')"
      ],
      "metadata": {
        "id": "dfSCkRRo4j2w"
      },
      "execution_count": null,
      "outputs": []
    },
    {
      "cell_type": "code",
      "source": [
        "df.head()"
      ],
      "metadata": {
        "id": "2k0PvTX94tl9"
      },
      "execution_count": null,
      "outputs": []
    },
    {
      "cell_type": "code",
      "source": [
        "df = df.drop('id', axis = 1)"
      ],
      "metadata": {
        "id": "PUPs_MT44uNn"
      },
      "execution_count": null,
      "outputs": []
    },
    {
      "cell_type": "code",
      "source": [
        "df.describe()"
      ],
      "metadata": {
        "id": "sWBm41wU4ynI"
      },
      "execution_count": null,
      "outputs": []
    },
    {
      "cell_type": "code",
      "source": [
        "g1 = [go.Box(y=df.bedrooms,name=\"Bedrooms\",marker=dict(color=\"rgba(51,0,0,0.9)\"),hoverinfo=\"name+y\")]\n",
        "g2 = [go.Box(y=df.bathrooms,name=\"Bathrooms\",marker=dict(color=\"rgba(0,102,102,0.9)\"),hoverinfo=\"name+y\")]\n",
        "g3 = [go.Box(y=df.floors,name=\"Floors\",marker=dict(color=\"rgba(204,0,102,0.9)\"),hoverinfo=\"name+y\")]\n",
        "layout2 = go.Layout(title=\"Bedrooms,Bathrooms and Floors\",yaxis=dict(range=[0,13])) \n",
        "fig2 = go.Figure(data=g1+g2+g3,layout=layout2)\n",
        "iplot(fig2)"
      ],
      "metadata": {
        "id": "NDTgmvT144-9"
      },
      "execution_count": null,
      "outputs": []
    },
    {
      "cell_type": "code",
      "source": [
        "plt.figure(figsize=(12,10))\n",
        "g = sns.countplot(df['bedrooms'])"
      ],
      "metadata": {
        "id": "TIWf2Oq188z5"
      },
      "execution_count": null,
      "outputs": []
    },
    {
      "cell_type": "code",
      "source": [
        "plt.figure(figsize=(20,15))\n",
        "sns.heatmap(df.corr(), annot = True, cmap=\"icefire\")"
      ],
      "metadata": {
        "id": "dkm_AYVL8-om"
      },
      "execution_count": null,
      "outputs": []
    },
    {
      "cell_type": "code",
      "source": [
        "sns.scatterplot(x = 'sqft_living', y = 'price', data = df)"
      ],
      "metadata": {
        "id": "kgjdOQyk9RfL"
      },
      "execution_count": null,
      "outputs": []
    },
    {
      "cell_type": "code",
      "source": [
        "df.hist(bins = 20, figsize = (20,20), color = 'blue');"
      ],
      "metadata": {
        "id": "GVXkMdf99jhh"
      },
      "execution_count": null,
      "outputs": []
    },
    {
      "cell_type": "code",
      "source": [
        "df[\"color\"] = \"\"\n",
        "df.color[df.grade == 1] = \"rgb(255,255,255)\"\n",
        "df.color[df.grade == 2] = \"rgb(220,220,220)\"\n",
        "df.color[df.grade == 3] = \"rgb(242, 177, 172)\"\n",
        "df.color[df.grade == 4] = \"rgb(255,133,27)\"\n",
        "df.color[df.grade == 5] = \"rgb(255,255,204)\"\n",
        "df.color[df.grade == 6] = \"rgb(255,65,54)\"\n",
        "df.color[df.grade == 7] = \"rgb(178,37,188)\"\n",
        "df.color[df.grade == 8] = \"rgb(51,51,0)\"\n",
        "df.color[df.grade == 9] = \"rgb(37,188,127)\"\n",
        "df.color[df.grade == 10] = \"rgb(26,51,176)\"\n",
        "df.color[df.grade == 11] = \"rgb(132,10,10)\"\n",
        "df.color[df.grade == 12] = \"rgb(82,80,80)\"\n",
        "df.color[df.grade == 13] = \"rgb(0,0,0)\"\n",
        "\n",
        "dataplus = df[np.logical_and(df.grade >= 7,df.yr_built >= 2000)] \n",
        "lats = list(dataplus.lat.values)\n",
        "longs = list(dataplus.long.values)\n",
        "\n",
        "mapbox_access_token = 'pk.eyJ1IjoiZGFya2NvcmUiLCJhIjoiY2pscGFheHA1MXdqdjNwbmR3c290MTZ6dCJ9.K1FMv_q3ZVlKP13RrjFkjg'\n",
        "mapp = [go.Scattermapbox(lat=lats,lon=longs,mode=\"markers\",marker=dict(size=4,color=dataplus[\"color\"]) ,hoverinfo=\"text\",text=\"Grade:\"+dataplus.grade.apply(str)+\" Built Year:\"+dataplus.yr_built.apply(str)+\" Price:\"+dataplus.price.apply(str))]\n",
        "layout5 = dict(title=\"Grade(+7) - Built Year(+2000) Map\",width=800,height=750,hovermode=\"closest\",mapbox=dict(bearing=0,pitch=0,zoom=9,center=dict(lat=47.5,lon=-122.161),accesstoken=mapbox_access_token))\n",
        "fig5 = go.Figure(data=mapp,layout=layout5)\n",
        "iplot(fig5);"
      ],
      "metadata": {
        "id": "wXHOOLyQ-RTW"
      },
      "execution_count": null,
      "outputs": []
    },
    {
      "cell_type": "code",
      "source": [
        "selected_features = ['bedrooms', 'bathrooms', 'sqft_living', 'sqft_lot', 'floors', 'sqft_above', 'sqft_basement']"
      ],
      "metadata": {
        "id": "LNpfy46i-iRU"
      },
      "execution_count": null,
      "outputs": []
    },
    {
      "cell_type": "code",
      "source": [
        "X = df[selected_features]"
      ],
      "metadata": {
        "id": "3E5XhvL4_Ra_"
      },
      "execution_count": null,
      "outputs": []
    },
    {
      "cell_type": "code",
      "source": [
        "X.head()\n"
      ],
      "metadata": {
        "id": "dprQ3otz_UGT"
      },
      "execution_count": null,
      "outputs": []
    },
    {
      "cell_type": "code",
      "source": [
        "from sklearn.preprocessing import MinMaxScaler\n",
        "\n",
        "scaler = MinMaxScaler()"
      ],
      "metadata": {
        "id": "fClvHxn-_aXz"
      },
      "execution_count": null,
      "outputs": []
    },
    {
      "cell_type": "code",
      "source": [
        "X = scaler.fit_transform(X)"
      ],
      "metadata": {
        "id": "WUvV6F5o_hvy"
      },
      "execution_count": null,
      "outputs": []
    },
    {
      "cell_type": "code",
      "source": [
        "X"
      ],
      "metadata": {
        "id": "8fIZRM_b_rr-"
      },
      "execution_count": null,
      "outputs": []
    },
    {
      "cell_type": "code",
      "source": [
        "y = df['price']"
      ],
      "metadata": {
        "id": "jwbrtRTg_uO9"
      },
      "execution_count": null,
      "outputs": []
    },
    {
      "cell_type": "code",
      "source": [
        "y.head()"
      ],
      "metadata": {
        "id": "zIbBdZq-_15q"
      },
      "execution_count": null,
      "outputs": []
    },
    {
      "cell_type": "code",
      "source": [
        "y = y.values.reshape(-1,1)"
      ],
      "metadata": {
        "id": "P5fYoP4C_2hS"
      },
      "execution_count": null,
      "outputs": []
    },
    {
      "cell_type": "code",
      "source": [
        "y_scaler = scaler.fit_transform(y)"
      ],
      "metadata": {
        "id": "_x69_oRrAEjk"
      },
      "execution_count": null,
      "outputs": []
    },
    {
      "cell_type": "code",
      "source": [
        "from sklearn.model_selection import train_test_split\n",
        "\n",
        "X_train, X_test, y_train, y_test = train_test_split(X, y_scaler, test_size = 0.2, random_state = 42 )"
      ],
      "metadata": {
        "id": "wAQLFkQYAS1d"
      },
      "execution_count": null,
      "outputs": []
    },
    {
      "cell_type": "code",
      "source": [
        "from tensorflow.keras.models import Sequential\n",
        "from tensorflow.keras.layers import Dense"
      ],
      "metadata": {
        "id": "dHEmz9Y8BJDU"
      },
      "execution_count": null,
      "outputs": []
    },
    {
      "cell_type": "code",
      "source": [
        "model = Sequential()\n",
        "\n",
        "model.add(Dense(units = 100, activation = 'relu', input_shape=(7, )))\n",
        "model.add(Dense(units = 100, activation = 'relu'))\n",
        "model.add(Dense(units = 100, activation = 'relu'))\n",
        "model.add(Dense(units = 1, activation = 'linear'))"
      ],
      "metadata": {
        "id": "C6xxiHJEBPGz"
      },
      "execution_count": null,
      "outputs": []
    },
    {
      "cell_type": "code",
      "source": [
        "model.compile(optimizer='Adam', loss='mean_squared_error')"
      ],
      "metadata": {
        "id": "Wb_sCvZ6Bsz2"
      },
      "execution_count": null,
      "outputs": []
    },
    {
      "cell_type": "code",
      "source": [
        "history = model.fit(X_train, y_train, batch_size = 64, epochs = 20, validation_split = 0.2)"
      ],
      "metadata": {
        "id": "bI_TI0tfCeUu"
      },
      "execution_count": null,
      "outputs": []
    },
    {
      "cell_type": "code",
      "source": [
        "plt.plot(history.history['loss'])\n",
        "plt.plot(history.history['val_loss'])\n",
        "plt.title('Model Loss Progress During Training')\n",
        "plt.ylabel('Training and Validation Loss')\n",
        "plt.xlabel('Epoch number')\n",
        "plt.legend(['Training Loss', 'Validation Loss']);"
      ],
      "metadata": {
        "id": "iY5ySeneCtyD"
      },
      "execution_count": null,
      "outputs": []
    },
    {
      "cell_type": "code",
      "source": [
        "y_predict = model.predict(X_test)\n",
        "plt.plot(y_test, y_predict, \"^\", color = 'r')\n",
        "plt.xlabel(\"Model Predictions\")\n",
        "plt.ylabel(\"True Value (ground Truth)\")\n",
        "plt.title('Linear Regression Predictions')\n",
        "plt.show()"
      ],
      "metadata": {
        "id": "4XC1FzMAEZ5l"
      },
      "execution_count": null,
      "outputs": []
    }
  ]
}