{
  "nbformat": 4,
  "nbformat_minor": 0,
  "metadata": {
    "colab": {
      "name": "Car_price_prediction.ipynb",
      "private_outputs": true,
      "provenance": [],
      "authorship_tag": "ABX9TyNRnZbBQAeuY0IaXIBao5Lm",
      "include_colab_link": true
    },
    "kernelspec": {
      "name": "python3",
      "display_name": "Python 3"
    },
    "language_info": {
      "name": "python"
    }
  },
  "cells": [
    {
      "cell_type": "markdown",
      "metadata": {
        "id": "view-in-github",
        "colab_type": "text"
      },
      "source": [
        "<a href=\"https://colab.research.google.com/github/dkurbatovv/Python/blob/main/Car_price_prediction.ipynb\" target=\"_parent\"><img src=\"https://colab.research.google.com/assets/colab-badge.svg\" alt=\"Open In Colab\"/></a>"
      ]
    },
    {
      "cell_type": "code",
      "execution_count": null,
      "metadata": {
        "id": "FKq8pnWzTAvc"
      },
      "outputs": [],
      "source": [
        "import numpy as np\n",
        "import pandas as pd\n",
        "import matplotlib.pyplot as plt\n",
        "import seaborn as sns\n",
        "\n",
        "from sklearn.model_selection import train_test_split\n",
        "\n"
      ]
    },
    {
      "cell_type": "code",
      "source": [
        "df = pd.read_csv('car data.csv')"
      ],
      "metadata": {
        "id": "6k1bn4o6Up-p"
      },
      "execution_count": null,
      "outputs": []
    },
    {
      "cell_type": "code",
      "source": [
        "df.head()"
      ],
      "metadata": {
        "id": "mv4aUbYm39aC"
      },
      "execution_count": null,
      "outputs": []
    },
    {
      "cell_type": "code",
      "source": [
        "df.isnull().sum()"
      ],
      "metadata": {
        "id": "-VWgEN7Y395a"
      },
      "execution_count": null,
      "outputs": []
    },
    {
      "cell_type": "code",
      "source": [
        "df.info()"
      ],
      "metadata": {
        "id": "Jpb1WVH94AQV"
      },
      "execution_count": null,
      "outputs": []
    },
    {
      "cell_type": "code",
      "source": [
        "df.describe()"
      ],
      "metadata": {
        "id": "fOyKh1j44A-L"
      },
      "execution_count": null,
      "outputs": []
    },
    {
      "cell_type": "markdown",
      "source": [
        "Вместо года выпуска автомобиля, составим колонку (количество лет)\n"
      ],
      "metadata": {
        "id": "Xbc3HUr-4dWB"
      }
    },
    {
      "cell_type": "code",
      "source": [
        "df['Age'] = 2021 - df['Year']"
      ],
      "metadata": {
        "id": "AfWeTBuX4EzR"
      },
      "execution_count": null,
      "outputs": []
    },
    {
      "cell_type": "code",
      "source": [
        "df.drop('Year', axis = 1)"
      ],
      "metadata": {
        "id": "cew9dVIq4WrL"
      },
      "execution_count": null,
      "outputs": []
    },
    {
      "cell_type": "code",
      "source": [
        "df.columns"
      ],
      "metadata": {
        "id": "gqGkEucj4ZrY"
      },
      "execution_count": null,
      "outputs": []
    },
    {
      "cell_type": "code",
      "source": [
        "features_column = ['Fuel_Type', 'Seller_Type', 'Transmission', 'Owner']\n",
        "i = 0\n",
        "\n",
        "while i < 4:\n",
        "  plt.figure(figsize=(8,6))\n",
        "  g = sns.countplot(x = features_column[i], data = df, palette = 'Set1')\n",
        "  i += 1\n"
      ],
      "metadata": {
        "id": "Jq9FZrm55Exf"
      },
      "execution_count": null,
      "outputs": []
    },
    {
      "cell_type": "code",
      "source": [
        "num_columns = ['Selling_Price','Present_Price','Kms_Driven','Age']\n",
        "i = 0\n",
        "while i < 4:\n",
        "  \n",
        "  plt.figure(figsize = (7,3))\n",
        "  sns.boxplot(x = num_columns[i], data = df, palette = 'Set1', dodge=True)\n",
        "\n",
        "  i = i + 1"
      ],
      "metadata": {
        "id": "7Zwu0Pnv5XTs"
      },
      "execution_count": null,
      "outputs": []
    },
    {
      "cell_type": "code",
      "source": [
        "sns.heatmap(df.corr(), cmap = 'icefire', annot = True)"
      ],
      "metadata": {
        "id": "BF8r02126wI5"
      },
      "execution_count": null,
      "outputs": []
    },
    {
      "cell_type": "code",
      "source": [
        "df.corr()['Selling_Price']"
      ],
      "metadata": {
        "id": "ZdYxwiQr9Lhx"
      },
      "execution_count": null,
      "outputs": []
    },
    {
      "cell_type": "code",
      "source": [
        "df.head()"
      ],
      "metadata": {
        "id": "S6GNX4MB9aw5"
      },
      "execution_count": null,
      "outputs": []
    },
    {
      "cell_type": "code",
      "source": [
        "categorical_column = ['Fuel_Type',\t'Seller_Type',\t'Transmission']"
      ],
      "metadata": {
        "id": "BoPHrGn-9e1n"
      },
      "execution_count": null,
      "outputs": []
    },
    {
      "cell_type": "code",
      "source": [
        "df = pd.get_dummies(data = df, columns = categorical_column)"
      ],
      "metadata": {
        "id": "4UH8DVZI9q8t"
      },
      "execution_count": null,
      "outputs": []
    },
    {
      "cell_type": "code",
      "source": [
        "new_df = df.drop(['Car_Name', 'Year'], axis = 1)\n",
        "new_df.head()"
      ],
      "metadata": {
        "id": "19gWJ7z495uc"
      },
      "execution_count": null,
      "outputs": []
    },
    {
      "cell_type": "markdown",
      "source": [
        "**Стандартизируем данные, так как они имеют сильно разный диапазон значений**"
      ],
      "metadata": {
        "id": "CFb-OTp_F6eD"
      }
    },
    {
      "cell_type": "code",
      "source": [
        "from sklearn.preprocessing import StandardScaler\n",
        "scaler_columns = ['Selling_Price','Present_Price','Kms_Driven']\n",
        "\n",
        "scaler = StandardScaler()\n",
        "new_df[scaler_columns] = scaler.fit_transform(new_df[scaler_columns])"
      ],
      "metadata": {
        "id": "RubJPhCWEmr2"
      },
      "execution_count": null,
      "outputs": []
    },
    {
      "cell_type": "code",
      "source": [
        "new_df.head()\n"
      ],
      "metadata": {
        "id": "cFFQ5EvxFISN"
      },
      "execution_count": null,
      "outputs": []
    },
    {
      "cell_type": "code",
      "source": [
        "X = new_df.drop(['Selling_Price'], axis = 1)\n",
        "y = new_df['Selling_Price']"
      ],
      "metadata": {
        "id": "ARzXWv4w96hb"
      },
      "execution_count": null,
      "outputs": []
    },
    {
      "cell_type": "code",
      "source": [
        "X.shape"
      ],
      "metadata": {
        "id": "xPDK2jQy-FK3"
      },
      "execution_count": null,
      "outputs": []
    },
    {
      "cell_type": "code",
      "source": [
        "y.shape"
      ],
      "metadata": {
        "id": "ZT96q3VD-JQM"
      },
      "execution_count": null,
      "outputs": []
    },
    {
      "cell_type": "code",
      "source": [
        "X_train, X_test, y_train, y_test = train_test_split(X, y, test_size = 0.2, random_state = 10)"
      ],
      "metadata": {
        "id": "h-xBMtPn-K0x"
      },
      "execution_count": null,
      "outputs": []
    },
    {
      "cell_type": "code",
      "source": [
        "from sklearn.linear_model import LinearRegression\n",
        "from sklearn.metrics import r2_score,mean_squared_error,mean_absolute_error\n",
        "from sklearn.model_selection import cross_val_score"
      ],
      "metadata": {
        "id": "8QMjRvRO-UZv"
      },
      "execution_count": null,
      "outputs": []
    },
    {
      "cell_type": "code",
      "source": [
        "model = LinearRegression()\n"
      ],
      "metadata": {
        "id": "BhkUzSJq-Zcx"
      },
      "execution_count": null,
      "outputs": []
    },
    {
      "cell_type": "code",
      "source": [
        "model.fit(X_train, y_train)\n",
        "y_pred = model.predict(X_test)\n",
        "print(r2_score(y_test, y_pred))\n"
      ],
      "metadata": {
        "id": "UPc3Cruo-vVM"
      },
      "execution_count": null,
      "outputs": []
    },
    {
      "cell_type": "code",
      "source": [
        "Mse = mean_squared_error(y_test,y_pred)\n",
        "Rmse = np.sqrt(Mse)\n",
        "Mae = mean_absolute_error(y_test,y_pred)"
      ],
      "metadata": {
        "id": "cbCMIPZr-4Vv"
      },
      "execution_count": null,
      "outputs": []
    },
    {
      "cell_type": "code",
      "source": [
        "print(Mse, Rmse, Mae)"
      ],
      "metadata": {
        "id": "i4AKL8NK_8V3"
      },
      "execution_count": null,
      "outputs": []
    },
    {
      "cell_type": "code",
      "source": [
        ""
      ],
      "metadata": {
        "id": "dVQ83C0iA5UJ"
      },
      "execution_count": null,
      "outputs": []
    }
  ]
}