{
  "nbformat": 4,
  "nbformat_minor": 0,
  "metadata": {
    "colab": {
      "name": "Циклы.ipynb",
      "private_outputs": true,
      "provenance": [],
      "authorship_tag": "ABX9TyPkpUo00ULbvFe4JSRZZ2or",
      "include_colab_link": true
    },
    "kernelspec": {
      "name": "python3",
      "display_name": "Python 3"
    },
    "language_info": {
      "name": "python"
    }
  },
  "cells": [
    {
      "cell_type": "markdown",
      "metadata": {
        "id": "view-in-github",
        "colab_type": "text"
      },
      "source": [
        "<a href=\"https://colab.research.google.com/github/dkurbatovv/Python/blob/main/%D0%A6%D0%B8%D0%BA%D0%BB%D1%8B.ipynb\" target=\"_parent\"><img src=\"https://colab.research.google.com/assets/colab-badge.svg\" alt=\"Open In Colab\"/></a>"
      ]
    },
    {
      "cell_type": "code",
      "execution_count": null,
      "metadata": {
        "id": "JiaR5lLPn8p5"
      },
      "outputs": [],
      "source": [
        "\n",
        "\n",
        "def fibbonachi(n):\n",
        "    fib1 = fib2 = 1\n",
        "    print(fib1, fib2)\n",
        "    for i in range(0, n):\n",
        "      fib1, fib2 = fib2, fib1 + fib2\n",
        "      print(fib2, end = ' ')\n",
        "\n",
        "fibbonachi(5)"
      ]
    },
    {
      "cell_type": "code",
      "source": [
        "def fibbonachi_recursion(n):\n",
        "  if n in (1,2):\n",
        "    return 1;\n",
        "  else:\n",
        "    return fibbonachi_recursion(n-1) + fibbonachi_recursion(n-2)   \n",
        "\n",
        "print(fibbonachi_recursion(5))    "
      ],
      "metadata": {
        "id": "T-ycYaXxovEo"
      },
      "execution_count": null,
      "outputs": []
    },
    {
      "cell_type": "code",
      "source": [
        "n1= int(input(\"Введите число:\"))\n",
        "d = []\n",
        "n2 = 0\n",
        "d.append(n1)\n",
        "print(d)\n",
        "while n1 > 0:\n",
        "  last_digit = n1 % 10\n",
        "  n1 = n1 // 10\n",
        "  n2 = n2 * 10\n",
        "  n2 = n2 + last_digit\n",
        "\n",
        "print(n2)"
      ],
      "metadata": {
        "id": "nBjF4XlVrR6w"
      },
      "execution_count": null,
      "outputs": []
    },
    {
      "cell_type": "code",
      "source": [
        "a = int(input('Введите число:'))\n",
        "b = int(input('Введите степен:'))\n",
        "i = 0\n",
        "while i < a:\n",
        "  print(i ** b, end = ' ')\n",
        "  i += 1"
      ],
      "metadata": {
        "id": "QiuONx_ns8wR"
      },
      "execution_count": null,
      "outputs": []
    },
    {
      "cell_type": "code",
      "source": [
        "summa = 0\n",
        "multi = 1\n",
        "\n",
        "a = int(input('Введите число:'))\n",
        "while a > 0:\n",
        "  digit = a % 10\n",
        "  summa = summa + digit\n",
        "  multi = multi * digit\n",
        "  a = a // 10\n",
        "print(summa, '', multi)  "
      ],
      "metadata": {
        "id": "2UaY1noFwta1"
      },
      "execution_count": null,
      "outputs": []
    },
    {
      "cell_type": "code",
      "source": [
        "#сколько четных цифр в числе а сколько нечетных\n",
        "\n",
        "\n",
        "a = int(input('Введите число:'))\n",
        "chet = 0\n",
        "ne_chet = 0\n",
        "while a > 0:\n",
        "  digit = a % 10\n",
        "  if digit % 2 == 0:\n",
        "    chet = chet + 1\n",
        "  else:\n",
        "    ne_chet = ne_chet + 1\n",
        "  a = a // 10\n",
        "\n",
        "print(chet, ' ', ne_chet)      \n"
      ],
      "metadata": {
        "id": "VmRkaEvmyezv"
      },
      "execution_count": null,
      "outputs": []
    },
    {
      "cell_type": "code",
      "source": [
        "#факториал\n",
        "\n",
        "\n",
        "a = int(input('Введите число:'))\n",
        "\n",
        "fact = 1\n",
        "#while a > 0:\n",
        "#  fact = fact * a\n",
        "#  a = a - 1\n",
        "#\n",
        "#print(fact)  \n",
        "\n",
        "\n",
        "def factorial(n):\n",
        "  if n == 0:\n",
        "    return 1;\n",
        "  else:\n",
        "    return n * factorial(n - 1);\n",
        "\n",
        "factorial(a)       "
      ],
      "metadata": {
        "id": "wrC0QMt70V24"
      },
      "execution_count": null,
      "outputs": []
    },
    {
      "cell_type": "code",
      "source": [
        "#Алгоритм евклида на нахождение НОД (наибольшего общего делителя)\n",
        "\n",
        "\n",
        "n1 = int(input('Введите первое число:'))\n",
        "n2 = int(input('Введите второе число:'))\n",
        "\n",
        "while n1 != 0 and n2 != 0:\n",
        "  if n1 > n2:\n",
        "    n1 = n1 % n2\n",
        "  else:\n",
        "    n2 = n2 % n1\n",
        "print (n1 + n2)    \n",
        "\n",
        "\n"
      ],
      "metadata": {
        "id": "UNbpN0sH0h4z"
      },
      "execution_count": null,
      "outputs": []
    },
    {
      "cell_type": "code",
      "source": [
        "\n"
      ],
      "metadata": {
        "id": "5RyPnPPU44Ra"
      },
      "execution_count": null,
      "outputs": []
    }
  ]
}