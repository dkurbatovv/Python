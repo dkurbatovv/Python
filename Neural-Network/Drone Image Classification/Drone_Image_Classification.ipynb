{
  "nbformat": 4,
  "nbformat_minor": 0,
  "metadata": {
    "colab": {
      "name": "Drone Image Classification",
      "private_outputs": true,
      "provenance": [],
      "authorship_tag": "ABX9TyM4EbZwx8f0Gxzh+wvUEnBR",
      "include_colab_link": true
    },
    "kernelspec": {
      "name": "python3",
      "display_name": "Python 3"
    },
    "language_info": {
      "name": "python"
    },
    "accelerator": "GPU"
  },
  "cells": [
    {
      "cell_type": "markdown",
      "metadata": {
        "id": "view-in-github",
        "colab_type": "text"
      },
      "source": [
        "<a href=\"https://colab.research.google.com/github/dkurbatovv/Python/blob/main/Drone_Image_Classification.ipynb\" target=\"_parent\"><img src=\"https://colab.research.google.com/assets/colab-badge.svg\" alt=\"Open In Colab\"/></a>"
      ]
    },
    {
      "cell_type": "code",
      "execution_count": null,
      "metadata": {
        "id": "qLT8PuFnnv3D"
      },
      "outputs": [],
      "source": [
        "!pip install kaggle"
      ]
    },
    {
      "cell_type": "code",
      "source": [
        "from google.colab import files\n",
        "\n",
        "uploaded = files.upload()\n",
        "\n",
        "for fn in uploaded.keys():\n",
        "  print('User uploaded file \"{name}\" with length {length} bytes'.format(\n",
        "      name=fn, length=len(uploaded[fn])))"
      ],
      "metadata": {
        "id": "d13c9nTUoB7S"
      },
      "execution_count": null,
      "outputs": []
    },
    {
      "cell_type": "code",
      "source": [
        "!mkdir -p ~/.kaggle/"
      ],
      "metadata": {
        "id": "bD_tLHT6oH2n"
      },
      "execution_count": null,
      "outputs": []
    },
    {
      "cell_type": "code",
      "source": [
        "! cp kaggle.json ~/.kaggle/"
      ],
      "metadata": {
        "id": "Yot_DmLEoINL"
      },
      "execution_count": null,
      "outputs": []
    },
    {
      "cell_type": "code",
      "source": [
        "! chmod 600 ~/.kaggle/kaggle.json"
      ],
      "metadata": {
        "id": "584Wxt7UoLaf"
      },
      "execution_count": null,
      "outputs": []
    },
    {
      "cell_type": "code",
      "source": [
        "! kaggle datasets download -d sonainjamil/malicious-drones"
      ],
      "metadata": {
        "id": "PEDEKOjXus1Q"
      },
      "execution_count": null,
      "outputs": []
    },
    {
      "cell_type": "code",
      "source": [
        "! unzip malicious-drones"
      ],
      "metadata": {
        "id": "VnjFdhceuvUl"
      },
      "execution_count": null,
      "outputs": []
    },
    {
      "cell_type": "code",
      "source": [
        "import numpy as np \n",
        "import pandas as pd \n",
        "import matplotlib.pyplot as plt\n",
        "\n",
        "import keras\n",
        "from keras.models import Sequential\n",
        "from keras.layers import Dense, Dropout, Flatten, Conv2D, MaxPooling2D\n",
        "from tensorflow.keras.optimizers import Adam\n",
        "import glob as gb\n",
        "\n",
        "import os\n",
        "import cv2\n",
        "from sklearn import preprocessing\n",
        "from pathlib import Path"
      ],
      "metadata": {
        "id": "2zNzohImu0ee"
      },
      "execution_count": null,
      "outputs": []
    },
    {
      "cell_type": "code",
      "source": [
        "def load_data():\n",
        "\n",
        "  images = []\n",
        "  labels = []\n",
        "\n",
        "  dataset = \"/content/UAV_Dataset/\"\n",
        "  label_names = ['Aeroplane', 'Bird', 'Drone', 'Helicopter', 'Malicious UAV']\n",
        "  for folder in os.listdir(dataset):\n",
        "    files = gb.glob(pathname=str(dataset+folder+\"/*.png\"))\n",
        "\n",
        "    label = label_names.index(folder)\n",
        "    for file in files:\n",
        "      image = cv2.imread(file)\n",
        "      image = cv2.cvtColor(image, cv2.COLOR_BGR2RGB)\n",
        "\n",
        "      image = cv2.resize(image, (150,150))\n",
        "\n",
        "      images.append(image)\n",
        "      labels.append(label)\n",
        "\n",
        "  images = np.array(images)\n",
        "  labels = np.array(labels) \n",
        "\n",
        "\n",
        "  return images, labels   "
      ],
      "metadata": {
        "id": "0vpnAg-bu2no"
      },
      "execution_count": null,
      "outputs": []
    },
    {
      "cell_type": "code",
      "source": [
        "images, labels = load_data()"
      ],
      "metadata": {
        "id": "2tpmTX2Iv1d5"
      },
      "execution_count": null,
      "outputs": []
    },
    {
      "cell_type": "code",
      "source": [
        "images.shape"
      ],
      "metadata": {
        "id": "Xpu2bOBMv316"
      },
      "execution_count": null,
      "outputs": []
    },
    {
      "cell_type": "code",
      "source": [
        "unique, counts = np.unique(labels, return_counts = True)"
      ],
      "metadata": {
        "id": "evgcOuCB0SB3"
      },
      "execution_count": null,
      "outputs": []
    },
    {
      "cell_type": "code",
      "source": [
        "counts"
      ],
      "metadata": {
        "id": "5HMR9n7b0ipU"
      },
      "execution_count": null,
      "outputs": []
    },
    {
      "cell_type": "code",
      "source": [
        "import seaborn as sns\n",
        "label_names = ['Aeroplane', 'Bird', 'Drone', 'Helicopter', 'Malicious UAV']\n",
        "sns.barplot(x = label_names, y = counts)"
      ],
      "metadata": {
        "id": "km_UxQ6t0j7v"
      },
      "execution_count": null,
      "outputs": []
    },
    {
      "cell_type": "code",
      "source": [
        "labels = np.array(pd.get_dummies(labels))"
      ],
      "metadata": {
        "id": "bhkgmhNb01Rz"
      },
      "execution_count": null,
      "outputs": []
    },
    {
      "cell_type": "code",
      "source": [
        "labels"
      ],
      "metadata": {
        "id": "3g3KWrow03Gp"
      },
      "execution_count": null,
      "outputs": []
    },
    {
      "cell_type": "code",
      "source": [
        "from sklearn.model_selection import train_test_split\n",
        "X_train, X_Test, y_train, y_Test = train_test_split(images, labels, test_size = 0.3, random_state = 100)\n"
      ],
      "metadata": {
        "id": "Dbr_NHSh064h"
      },
      "execution_count": null,
      "outputs": []
    },
    {
      "cell_type": "code",
      "source": [
        "plt.imshow(X_train[100])\n",
        "plt.title('Its a'+str(y_train[100]))"
      ],
      "metadata": {
        "id": "-hGE1XO61B5v"
      },
      "execution_count": null,
      "outputs": []
    },
    {
      "cell_type": "code",
      "source": [
        "model = Sequential()\n",
        "\n",
        "#model.add(rescile)\n",
        "\n",
        "model.add(Conv2D(filters = 32, kernel_size = (2,2), input_shape = (150,150,3), padding = 'same', activation = 'relu'))\n",
        "model.add(MaxPooling2D(2,2))\n",
        "model.add(Dropout(0.2))\n",
        "\n",
        "model.add(Conv2D(filters = 64, kernel_size = (3,3), padding = 'same', activation = 'relu'))\n",
        "model.add(MaxPooling2D(2,2))\n",
        "\n",
        "model.add(Flatten())\n",
        "model.add(Dense(64, activation = 'relu'))\n",
        "model.add(Dropout(0.3))\n",
        "model.add(Dense(5, activation = 'softmax'))\n",
        "\n"
      ],
      "metadata": {
        "id": "LsCKWOnY1JFK"
      },
      "execution_count": null,
      "outputs": []
    },
    {
      "cell_type": "code",
      "source": [
        "model.compile(optimizer = 'adam', loss = 'categorical_crossentropy', metrics = ['accuracy'])"
      ],
      "metadata": {
        "id": "T-aDARna1U-H"
      },
      "execution_count": null,
      "outputs": []
    },
    {
      "cell_type": "code",
      "source": [
        "model.summary()"
      ],
      "metadata": {
        "id": "1uc8BlbD1c8S"
      },
      "execution_count": null,
      "outputs": []
    },
    {
      "cell_type": "code",
      "source": [
        "history = model.fit(X_train, y_train, epochs = 50, validation_split = 0.2)"
      ],
      "metadata": {
        "id": "jaVNE0jX1ioX"
      },
      "execution_count": null,
      "outputs": []
    },
    {
      "cell_type": "code",
      "source": [
        "loss_train = history.history['loss']\n",
        "loss_val = history.history['val_loss']\n",
        "epochs = range(0,50)\n",
        "plt.plot(epochs, loss_train, 'g', label='Training loss')\n",
        "plt.plot(epochs, loss_val, 'b', label='validation loss')\n",
        "plt.title('Training and Validation loss')\n",
        "plt.xlabel('Epochs')\n",
        "plt.ylabel('Loss')\n",
        "plt.legend()\n",
        "plt.show()"
      ],
      "metadata": {
        "id": "_rMWTqY51sXl"
      },
      "execution_count": null,
      "outputs": []
    },
    {
      "cell_type": "code",
      "source": [
        "acc_train = history.history['accuracy']\n",
        "acc_val = history.history['val_accuracy']\n",
        "epochs = range(0,50)\n",
        "plt.plot(epochs, acc_train, 'g', label='Training Accuracy')\n",
        "plt.plot(epochs, acc_val, 'b', label='validation Accuracy')\n",
        "plt.title('Training and Validation Accuracy')\n",
        "plt.xlabel('Epochs')\n",
        "plt.ylabel('Accuracy')\n",
        "plt.legend()\n",
        "plt.show()"
      ],
      "metadata": {
        "id": "1W3HQwuo4phJ"
      },
      "execution_count": null,
      "outputs": []
    },
    {
      "cell_type": "code",
      "source": [
        ""
      ],
      "metadata": {
        "id": "7xYuNpeL4vbT"
      },
      "execution_count": null,
      "outputs": []
    }
  ]
}
