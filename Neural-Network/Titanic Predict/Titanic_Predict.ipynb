{
  "nbformat": 4,
  "nbformat_minor": 0,
  "metadata": {
    "colab": {
      "name": "Titanic Predict.ipynb",
      "private_outputs": true,
      "provenance": [],
      "authorship_tag": "ABX9TyMecFL/VKZEW2Pkukwlm7gT",
      "include_colab_link": true
    },
    "kernelspec": {
      "name": "python3",
      "display_name": "Python 3"
    },
    "language_info": {
      "name": "python"
    }
  },
  "cells": [
    {
      "cell_type": "markdown",
      "metadata": {
        "id": "view-in-github",
        "colab_type": "text"
      },
      "source": [
        "<a href=\"https://colab.research.google.com/github/dkurbatovv/Python/blob/main/Titanic_Predict.ipynb\" target=\"_parent\"><img src=\"https://colab.research.google.com/assets/colab-badge.svg\" alt=\"Open In Colab\"/></a>"
      ]
    },
    {
      "cell_type": "code",
      "source": [
        "!pip install kaggle"
      ],
      "metadata": {
        "id": "SNGOroocJ4ob"
      },
      "execution_count": null,
      "outputs": []
    },
    {
      "cell_type": "code",
      "source": [
        "from google.colab import files\n",
        "\n",
        "uploaded = files.upload()\n",
        "\n",
        "for fn in uploaded.keys():\n",
        "  print('User uploaded file \"{name}\" with length {length} bytes'.format(\n",
        "      name=fn, length=len(uploaded[fn])))\n",
        "!mkdir -p ~/.kaggle/\n",
        "! cp kaggle.json ~/.kaggle/\n",
        "! chmod 600 ~/.kaggle/kaggle.json"
      ],
      "metadata": {
        "id": "gP5jnBbsJ5X2"
      },
      "execution_count": null,
      "outputs": []
    },
    {
      "cell_type": "code",
      "source": [
        "! kaggle datasets download -d hesh97/titanicdataset-traincsv"
      ],
      "metadata": {
        "id": "iFJNGmXSJ825"
      },
      "execution_count": null,
      "outputs": []
    },
    {
      "cell_type": "code",
      "source": [
        "! unzip titanicdataset-traincsv.zip"
      ],
      "metadata": {
        "id": "8lKD3e7rKT1Z"
      },
      "execution_count": null,
      "outputs": []
    },
    {
      "cell_type": "code",
      "source": [
        "import numpy as np \n",
        "import pandas as pd \n",
        "import matplotlib.pyplot as plt\n",
        "\n",
        "import keras\n",
        "from keras.models import Sequential\n",
        "from keras.layers import Dense, Dropout, Flatten, Conv2D, MaxPooling2D\n",
        "from tensorflow.keras.optimizers import Adam\n",
        "import glob as gb\n"
      ],
      "metadata": {
        "id": "cbIudu4XKWt3"
      },
      "execution_count": null,
      "outputs": []
    },
    {
      "cell_type": "code",
      "source": [
        "df = pd.read_csv('train.csv')"
      ],
      "metadata": {
        "id": "dL4KHKHNKcGg"
      },
      "execution_count": null,
      "outputs": []
    },
    {
      "cell_type": "code",
      "source": [
        "df.head()"
      ],
      "metadata": {
        "id": "za59_UrVKex2"
      },
      "execution_count": null,
      "outputs": []
    },
    {
      "cell_type": "code",
      "source": [
        "df.shape"
      ],
      "metadata": {
        "id": "T7Im3_eMKfOv"
      },
      "execution_count": null,
      "outputs": []
    },
    {
      "cell_type": "code",
      "source": [
        "df = df.drop('PassengerId', axis = 1)"
      ],
      "metadata": {
        "id": "1yuBDisyKvfv"
      },
      "execution_count": null,
      "outputs": []
    },
    {
      "cell_type": "code",
      "source": [
        "df.describe()"
      ],
      "metadata": {
        "id": "Ir3dhPjRLIoi"
      },
      "execution_count": null,
      "outputs": []
    },
    {
      "cell_type": "code",
      "source": [
        "df.info()"
      ],
      "metadata": {
        "id": "2xG_MjI9LKBj"
      },
      "execution_count": null,
      "outputs": []
    },
    {
      "cell_type": "code",
      "source": [
        "df.isnull().sum()"
      ],
      "metadata": {
        "id": "DLVVVXDmLLEd"
      },
      "execution_count": null,
      "outputs": []
    },
    {
      "cell_type": "code",
      "source": [
        "plt.figure(figsize = (12,10))\n",
        "plt.bar(df.columns, df.isna().sum())"
      ],
      "metadata": {
        "id": "Web8PdP3LOaK"
      },
      "execution_count": null,
      "outputs": []
    },
    {
      "cell_type": "code",
      "source": [
        "sns.countplot(data = df, x = 'Survived')"
      ],
      "metadata": {
        "id": "lalu_ltQLTd-"
      },
      "execution_count": null,
      "outputs": []
    },
    {
      "cell_type": "code",
      "source": [
        "sns.countplot(data = df, x = 'Embarked')"
      ],
      "metadata": {
        "id": "oQUO3AWjL_Lr"
      },
      "execution_count": null,
      "outputs": []
    },
    {
      "cell_type": "code",
      "source": [
        "sns.countplot(data = df, x = 'Embarked', hue = 'Sex')"
      ],
      "metadata": {
        "id": "jbcfbYQBMF48"
      },
      "execution_count": null,
      "outputs": []
    },
    {
      "cell_type": "code",
      "source": [
        "sns.countplot(data = df, x = 'Survived', hue = 'Sex')"
      ],
      "metadata": {
        "id": "bBwLAUwtMgN9"
      },
      "execution_count": null,
      "outputs": []
    },
    {
      "cell_type": "code",
      "source": [
        "sns.countplot(\"Survived\", hue = 'Pclass', data = df)\n",
        "plt.show()"
      ],
      "metadata": {
        "id": "s7CcCQBYMic7"
      },
      "execution_count": null,
      "outputs": []
    },
    {
      "cell_type": "code",
      "source": [
        "sns.countplot('Survived', hue = 'Embarked', data = df)\n",
        "plt.show()"
      ],
      "metadata": {
        "id": "-aHRQw8qMpF0"
      },
      "execution_count": null,
      "outputs": []
    },
    {
      "cell_type": "code",
      "source": [
        "sns.boxplot(x = 'Age', data = df)\n",
        "plt.show()"
      ],
      "metadata": {
        "id": "GXq8QM2_Mu8E"
      },
      "execution_count": null,
      "outputs": []
    },
    {
      "cell_type": "code",
      "source": [
        "df.columns"
      ],
      "metadata": {
        "id": "KRNjvoooM4Mr"
      },
      "execution_count": null,
      "outputs": []
    },
    {
      "cell_type": "code",
      "source": [
        "sns.boxplot(x = 'Fare', data = df)\n",
        "plt.show()"
      ],
      "metadata": {
        "id": "geGMWF_KM1ah"
      },
      "execution_count": null,
      "outputs": []
    },
    {
      "cell_type": "code",
      "source": [
        "plt.hist(data = df, x = 'Age', bins = 8)"
      ],
      "metadata": {
        "id": "Phh4FdzAM7Uq"
      },
      "execution_count": null,
      "outputs": []
    },
    {
      "cell_type": "code",
      "source": [
        "plt.figure(figsize = (10,4))\n",
        "plt.hist(df.Fare, bins = 10, color = 'lime')\n",
        "plt.xlabel(\"Fare\")\n",
        "plt.ylabel(\"Number\")\n",
        "plt.show()"
      ],
      "metadata": {
        "id": "pfO2Hg7ZNK7k"
      },
      "execution_count": null,
      "outputs": []
    },
    {
      "cell_type": "code",
      "source": [
        "sns.heatmap(df.corr(), annot = True, fmt = '.1f')"
      ],
      "metadata": {
        "id": "9IRi-w9WNfaP"
      },
      "execution_count": null,
      "outputs": []
    },
    {
      "cell_type": "code",
      "source": [
        "df.head()"
      ],
      "metadata": {
        "id": "dUdJVA-CNiaa"
      },
      "execution_count": null,
      "outputs": []
    },
    {
      "cell_type": "code",
      "source": [
        "df.isnull().sum()"
      ],
      "metadata": {
        "id": "fLCrALq6OGkz"
      },
      "execution_count": null,
      "outputs": []
    },
    {
      "cell_type": "code",
      "source": [
        "df = df.drop('Cabin', axis = 1)"
      ],
      "metadata": {
        "id": "eWljt0YUONUy"
      },
      "execution_count": null,
      "outputs": []
    },
    {
      "cell_type": "code",
      "source": [
        "df.Age.fillna(df.Age.mean(), inplace=True)"
      ],
      "metadata": {
        "id": "Ba0cSct3OaIL"
      },
      "execution_count": null,
      "outputs": []
    },
    {
      "cell_type": "code",
      "source": [
        "df.isnull().sum()"
      ],
      "metadata": {
        "id": "X9SeCl3vOg61"
      },
      "execution_count": null,
      "outputs": []
    },
    {
      "cell_type": "code",
      "source": [
        "df.Embarked.fillna('S', inplace = True)"
      ],
      "metadata": {
        "id": "VY5VQmHaOsVy"
      },
      "execution_count": null,
      "outputs": []
    },
    {
      "cell_type": "code",
      "source": [
        "df.isnull().sum()"
      ],
      "metadata": {
        "id": "CSazXmB4Ovdv"
      },
      "execution_count": null,
      "outputs": []
    },
    {
      "cell_type": "code",
      "source": [
        "df.head()"
      ],
      "metadata": {
        "id": "VrL4I93SPfzp"
      },
      "execution_count": null,
      "outputs": []
    },
    {
      "cell_type": "code",
      "source": [
        "le_features = ['Sex', 'Embarked']\n",
        "from sklearn.preprocessing import LabelEncoder\n",
        "\n",
        "le = LabelEncoder()\n",
        "df['Sex'] = le.fit_transform(df['Sex'])\n",
        "df['Embarked'] = le.fit_transform(df['Embarked'])"
      ],
      "metadata": {
        "id": "WIrn91aUPhbb"
      },
      "execution_count": null,
      "outputs": []
    },
    {
      "cell_type": "code",
      "source": [
        "df.head()\n"
      ],
      "metadata": {
        "id": "mgMSo19APzXM"
      },
      "execution_count": null,
      "outputs": []
    },
    {
      "cell_type": "code",
      "source": [
        "df['Alone'] = df.SibSp + df.Parch"
      ],
      "metadata": {
        "id": "heLZU5T-QDux"
      },
      "execution_count": null,
      "outputs": []
    },
    {
      "cell_type": "code",
      "source": [
        "df['Alone'] = df['Alone'].apply(lambda x: 1 if x == 0 else 0)#ставим 1 если один, и 0 если были братья или родственники "
      ],
      "metadata": {
        "id": "PU7-xRANRA-o"
      },
      "execution_count": null,
      "outputs": []
    },
    {
      "cell_type": "code",
      "source": [
        "df = df.drop(['SibSp', 'Parch'], axis = 1)"
      ],
      "metadata": {
        "id": "wKoiNFV-RKlp"
      },
      "execution_count": null,
      "outputs": []
    },
    {
      "cell_type": "code",
      "source": [
        "df.head()"
      ],
      "metadata": {
        "id": "XqNM3b6YRQYL"
      },
      "execution_count": null,
      "outputs": []
    },
    {
      "cell_type": "code",
      "source": [
        "df['Title'] = df.Name.str.extract('([A-Za-z]+)\\.', expand = False)\n",
        "df.drop('Name', axis = 1, inplace = True)"
      ],
      "metadata": {
        "id": "9UqRscynRRM6"
      },
      "execution_count": null,
      "outputs": []
    },
    {
      "cell_type": "code",
      "source": [
        "df.head()"
      ],
      "metadata": {
        "id": "GYjAqA4zRz6Y"
      },
      "execution_count": null,
      "outputs": []
    },
    {
      "cell_type": "code",
      "source": [
        "df.Title.value_counts()"
      ],
      "metadata": {
        "id": "B9_jhHJCR_f4"
      },
      "execution_count": null,
      "outputs": []
    },
    {
      "cell_type": "code",
      "source": [
        "df.Title.unique()"
      ],
      "metadata": {
        "id": "zfc9_uBfSEUq"
      },
      "execution_count": null,
      "outputs": []
    },
    {
      "cell_type": "code",
      "source": [
        "title_features = ['Dr', 'Mme', 'Ms',\n",
        "       'Major', 'Lady', 'Sir', 'Mlle', 'Col', 'Capt', 'Countess',\n",
        "       'Jonkheer']"
      ],
      "metadata": {
        "id": "whIOQg1vSgeD"
      },
      "execution_count": null,
      "outputs": []
    },
    {
      "cell_type": "code",
      "source": [
        "df.Title = df.Title.replace(title_features, 'Rare')"
      ],
      "metadata": {
        "id": "uvvQfI2-Sn9N"
      },
      "execution_count": null,
      "outputs": []
    },
    {
      "cell_type": "code",
      "source": [
        "df.Title.unique()"
      ],
      "metadata": {
        "id": "6G3GvnNsSwCk"
      },
      "execution_count": null,
      "outputs": []
    },
    {
      "cell_type": "code",
      "source": [
        "df.Title = le.fit_transform(df['Title'])"
      ],
      "metadata": {
        "id": "7MM1_Uq6Sxue"
      },
      "execution_count": null,
      "outputs": []
    },
    {
      "cell_type": "code",
      "source": [
        "df.head()"
      ],
      "metadata": {
        "id": "yeKcJhjkS9-U"
      },
      "execution_count": null,
      "outputs": []
    },
    {
      "cell_type": "code",
      "source": [
        "df = df.drop('Ticket', axis = 1)"
      ],
      "metadata": {
        "id": "WvFwBEijS-gO"
      },
      "execution_count": null,
      "outputs": []
    },
    {
      "cell_type": "code",
      "source": [
        "df.head()"
      ],
      "metadata": {
        "id": "nHNqlOMjTHA2"
      },
      "execution_count": null,
      "outputs": []
    },
    {
      "cell_type": "code",
      "source": [
        "print(df.Age.value_counts())"
      ],
      "metadata": {
        "id": "7SbZxTlFTHcC"
      },
      "execution_count": null,
      "outputs": []
    },
    {
      "cell_type": "code",
      "source": [
        "df.loc[ df['Age'] <= 16, 'Age'] = 0\n",
        "df.loc[(df['Age'] > 16) & (df['Age'] <= 32), 'Age'] = 1\n",
        "df.loc[(df['Age'] > 32) & (df['Age'] <= 48), 'Age'] = 2\n",
        "df.loc[(df['Age'] > 48) & (df['Age'] <= 64), 'Age'] = 3\n",
        "df.loc[ df['Age'] > 64, 'Age'] = 4"
      ],
      "metadata": {
        "id": "PDSij4DfTUUt"
      },
      "execution_count": null,
      "outputs": []
    },
    {
      "cell_type": "code",
      "source": [
        "df.head()"
      ],
      "metadata": {
        "id": "YKuUL4nfVxGU"
      },
      "execution_count": null,
      "outputs": []
    },
    {
      "cell_type": "code",
      "source": [
        "df.loc[df['Fare'] < 30, 'Fare'] = 1\n",
        "df.loc[(df['Fare'] >= 30) & (df['Fare'] < 50),'Fare'] = 2\n",
        "df.loc[(df['Fare'] >= 50) & (df['Fare'] < 100),'Fare'] = 3\n",
        "df.loc[(df['Fare'] >= 100),'Fare'] = 4"
      ],
      "metadata": {
        "id": "x8vVSYVBV3bU"
      },
      "execution_count": null,
      "outputs": []
    },
    {
      "cell_type": "code",
      "source": [
        "df.Fare = df.Fare.astype(int)\n",
        "df.Age = df.Age.astype(int)"
      ],
      "metadata": {
        "id": "9FQNUzmRWFZG"
      },
      "execution_count": null,
      "outputs": []
    },
    {
      "cell_type": "code",
      "source": [
        "df.info()\n"
      ],
      "metadata": {
        "id": "YSUqnqBpWf8M"
      },
      "execution_count": null,
      "outputs": []
    },
    {
      "cell_type": "code",
      "source": [
        "sns.heatmap(df.corr(), annot = True, fmt = '.1f')"
      ],
      "metadata": {
        "id": "1C_uL5zmW7aB"
      },
      "execution_count": null,
      "outputs": []
    },
    {
      "cell_type": "code",
      "source": [
        "df.head()\n"
      ],
      "metadata": {
        "id": "rb4s1MFEXu4V"
      },
      "execution_count": null,
      "outputs": []
    },
    {
      "cell_type": "code",
      "source": [
        "X = df.drop('Survived', axis = 1)\n",
        "y = df['Survived']"
      ],
      "metadata": {
        "id": "FoXogBsiYLdp"
      },
      "execution_count": null,
      "outputs": []
    },
    {
      "cell_type": "code",
      "source": [
        "X_train, X_test, y_train, y_test = train_test_split(X, y, test_size = 0.2, random_state = 42)"
      ],
      "metadata": {
        "id": "R2KufqnrYRg7"
      },
      "execution_count": null,
      "outputs": []
    },
    {
      "cell_type": "code",
      "source": [
        "import tensorflow"
      ],
      "metadata": {
        "id": "Edv5hgGGYrox"
      },
      "execution_count": null,
      "outputs": []
    },
    {
      "cell_type": "code",
      "source": [
        "model = Sequential()\n",
        "\n",
        "model.add(Dense(units = 32, input_shape = (7,), activation = 'relu'))\n",
        "model.add(Dense(units = 64, activation = 'relu', kernel_initializer = 'he_normal', use_bias = False))\n",
        "model.add(tensorflow.keras.layers.BatchNormalization())\n",
        "\n",
        "model.add(Dense(units = 128, activation = 'relu',kernel_initializer = 'he_normal', use_bias = False))\n",
        "model.add(Dropout(0.1))\n",
        "\n",
        "model.add(Dense(units = 64, activation = 'relu',kernel_initializer = 'he_normal', use_bias = False))\n",
        "model.add(Dropout(0.1))\n",
        "\n",
        "model.add(Dense(units = 32, activation = 'relu'))\n",
        "model.add(Dropout(0.15))\n",
        "\n",
        "model.add(Dense(units = 16, activation = 'relu'))\n",
        "model.add(Dense(units = 8, activation = 'relu',kernel_initializer = 'he_normal', use_bias = False))\n",
        "model.add(Dense(units =1 , activation = 'sigmoid'))"
      ],
      "metadata": {
        "id": "i8ipDPwGX1WH"
      },
      "execution_count": null,
      "outputs": []
    },
    {
      "cell_type": "code",
      "source": [
        "model.summary()"
      ],
      "metadata": {
        "id": "BAVtefXhYqO_"
      },
      "execution_count": null,
      "outputs": []
    },
    {
      "cell_type": "code",
      "source": [
        "model.compile(optimizer = 'adam', loss = 'binary_crossentropy', metrics = ['accuracy'])"
      ],
      "metadata": {
        "id": "pn3CGIIPYxbY"
      },
      "execution_count": null,
      "outputs": []
    },
    {
      "cell_type": "code",
      "source": [
        "history = model.fit(X_train, y_train, epochs = 100, verbose = 2)"
      ],
      "metadata": {
        "id": "E2P0cUXJZJf6"
      },
      "execution_count": null,
      "outputs": []
    },
    {
      "cell_type": "code",
      "source": [
        "from sklearn import metrics\n",
        "Y_pred_rand = (model.predict(X_train) > 0.5).astype(int)\n",
        "print('Precision : ', np.round(metrics.precision_score(y_train, Y_pred_rand)*100,2))\n",
        "print('Accuracy : ', np.round(metrics.accuracy_score(y_train, Y_pred_rand)*100,2))\n",
        "print('Recall : ', np.round(metrics.recall_score(y_train, Y_pred_rand)*100,2))\n",
        "print('F1 score : ', np.round(metrics.f1_score(y_train, Y_pred_rand)*100,2))\n",
        "print('AUC : ', np.round(metrics.roc_auc_score(y_train, Y_pred_rand)*100,2))"
      ],
      "metadata": {
        "id": "ZsZIZEfGZQpN"
      },
      "execution_count": null,
      "outputs": []
    },
    {
      "cell_type": "code",
      "source": [
        "matrix = metrics.confusion_matrix(y_train, Y_pred_rand)\n",
        "sns.heatmap(matrix, annot = True, fmt = 'g')\n",
        "plt.show()"
      ],
      "metadata": {
        "id": "MYMr6xAPZbcL"
      },
      "execution_count": null,
      "outputs": []
    },
    {
      "cell_type": "code",
      "source": [
        ""
      ],
      "metadata": {
        "id": "xY_Jo1p5Zl7C"
      },
      "execution_count": null,
      "outputs": []
    }
  ]
}
