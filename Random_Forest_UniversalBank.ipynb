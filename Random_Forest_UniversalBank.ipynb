{
  "nbformat": 4,
  "nbformat_minor": 0,
  "metadata": {
    "colab": {
      "name": "Untitled51.ipynb",
      "private_outputs": true,
      "provenance": [],
      "authorship_tag": "ABX9TyM1pUNUwK8gea1kXsdNoHPD",
      "include_colab_link": true
    },
    "kernelspec": {
      "name": "python3",
      "display_name": "Python 3"
    },
    "language_info": {
      "name": "python"
    }
  },
  "cells": [
    {
      "cell_type": "markdown",
      "metadata": {
        "id": "view-in-github",
        "colab_type": "text"
      },
      "source": [
        "<a href=\"https://colab.research.google.com/github/dkurbatovv/Python/blob/main/Random_Forest_UniversalBank.ipynb\" target=\"_parent\"><img src=\"https://colab.research.google.com/assets/colab-badge.svg\" alt=\"Open In Colab\"/></a>"
      ]
    },
    {
      "cell_type": "code",
      "execution_count": null,
      "metadata": {
        "id": "S_M2BuW_NeJ2"
      },
      "outputs": [],
      "source": [
        "# Packages / libraries\n",
        "import os #provides functions for interacting with the operating system\n",
        "import numpy as np \n",
        "import pandas as pd\n",
        "from matplotlib import pyplot as plt\n",
        "import seaborn as sns\n",
        "\n",
        "%matplotlib inline\n",
        "\n",
        "# To install sklearn type \"pip install numpy scipy scikit-learn\" to the anaconda terminal\n",
        "\n",
        "# To change scientific numbers to float\n",
        "np.set_printoptions(formatter={'float_kind':'{:f}'.format})\n",
        "\n",
        "# Increases the size of sns plots\n",
        "sns.set(rc={'figure.figsize':(8,6)})\n",
        "\n",
        "# Datetime lib\n",
        "from pandas import to_datetime\n",
        "import itertools\n",
        "import warnings\n",
        "import datetime\n",
        "warnings.filterwarnings('ignore')\n",
        "\n",
        "from sklearn.preprocessing import MinMaxScaler\n",
        "from sklearn.model_selection import train_test_split\n",
        "from sklearn import tree\n",
        "from sklearn.tree import DecisionTreeClassifier, export_graphviz\n",
        "from sklearn.ensemble import RandomForestClassifier\n",
        "from sklearn.metrics import accuracy_score, confusion_matrix, r2_score\n",
        "\n",
        "# pip install graphviz\n",
        "# conda install python-graphviz"
      ]
    },
    {
      "cell_type": "code",
      "source": [
        "df = pd.read_csv('UniversalBank.csv')"
      ],
      "metadata": {
        "id": "mV3LQapxNfGr"
      },
      "execution_count": null,
      "outputs": []
    },
    {
      "cell_type": "code",
      "source": [
        "df.head()"
      ],
      "metadata": {
        "id": "bYYOkkFeNpDQ"
      },
      "execution_count": null,
      "outputs": []
    },
    {
      "cell_type": "code",
      "source": [
        "df = df.drop('ID', axis = 1)"
      ],
      "metadata": {
        "id": "DwZ_4unHNvmG"
      },
      "execution_count": null,
      "outputs": []
    },
    {
      "cell_type": "code",
      "source": [
        "df.head()"
      ],
      "metadata": {
        "id": "qusTLabtOboa"
      },
      "execution_count": null,
      "outputs": []
    },
    {
      "cell_type": "code",
      "source": [
        "df.isnull().sum()"
      ],
      "metadata": {
        "id": "hG_VsahMOcL0"
      },
      "execution_count": null,
      "outputs": []
    },
    {
      "cell_type": "code",
      "source": [
        "df.describe()"
      ],
      "metadata": {
        "id": "OlcqRNXzOd2Z"
      },
      "execution_count": null,
      "outputs": []
    },
    {
      "cell_type": "code",
      "source": [
        "df.info()"
      ],
      "metadata": {
        "id": "E1j7gxYYOgAg"
      },
      "execution_count": null,
      "outputs": []
    },
    {
      "cell_type": "code",
      "source": [
        "df.columns"
      ],
      "metadata": {
        "id": "68jq3F8jOhSf"
      },
      "execution_count": null,
      "outputs": []
    },
    {
      "cell_type": "code",
      "source": [
        "raw_data = df[['Age', 'Experience', 'Income',  'Family', 'CCAvg',\n",
        "       'Education', 'Mortgage', 'Personal Loan', 'Securities Account',\n",
        "       'Online', 'CreditCard']]"
      ],
      "metadata": {
        "id": "CBs53eeGOu3B"
      },
      "execution_count": null,
      "outputs": []
    },
    {
      "cell_type": "code",
      "source": [
        "sns.pairplot(data=raw_data, hue='CreditCard', diag_kws={'bw': 0.2})"
      ],
      "metadata": {
        "id": "wUvaPWRlO5By"
      },
      "execution_count": null,
      "outputs": []
    },
    {
      "cell_type": "code",
      "source": [
        "df.head()"
      ],
      "metadata": {
        "id": "LUB7wEDxPPic"
      },
      "execution_count": null,
      "outputs": []
    },
    {
      "cell_type": "code",
      "source": [
        "raw_data.head()"
      ],
      "metadata": {
        "id": "1OIEjo0zQapN"
      },
      "execution_count": null,
      "outputs": []
    },
    {
      "cell_type": "code",
      "source": [
        "X = raw_data.drop('Personal Loan', axis = 1).values\n",
        "y = raw_data['Personal Loan'].values"
      ],
      "metadata": {
        "id": "2ebAg50kQcpm"
      },
      "execution_count": null,
      "outputs": []
    },
    {
      "cell_type": "code",
      "source": [
        "X_train, X_test, y_train, y_test = train_test_split(X, y, test_size = 0.1, random_state = 42)"
      ],
      "metadata": {
        "id": "_WO_IHO8QmSN"
      },
      "execution_count": null,
      "outputs": []
    },
    {
      "cell_type": "code",
      "source": [
        "dt = DecisionTreeClassifier(criterion='entropy', max_depth = 2, random_state = 1)"
      ],
      "metadata": {
        "id": "bEsqXQ09Q5cl"
      },
      "execution_count": null,
      "outputs": []
    },
    {
      "cell_type": "code",
      "source": [
        "dt.fit(X_train, y_train)"
      ],
      "metadata": {
        "id": "iJp2eXdIRPlK"
      },
      "execution_count": null,
      "outputs": []
    },
    {
      "cell_type": "code",
      "source": [
        "import graphviz \n",
        "\n",
        "dot_data = tree.export_graphviz(dt, out_file=None, \n",
        "    feature_names=raw_data.drop('Personal Loan', axis=1).columns,    \n",
        "    class_names=raw_data['Personal Loan'].unique().astype(str),  \n",
        "    filled=True, rounded=True,  \n",
        "    special_characters=True)\n",
        "graph = graphviz.Source(dot_data)\n",
        "graph"
      ],
      "metadata": {
        "id": "GpP4p_SeRRm_"
      },
      "execution_count": null,
      "outputs": []
    },
    {
      "cell_type": "code",
      "source": [
        "#смотрим насколько переменные имеют влияние\n",
        "\n",
        "for i, column in enumerate(raw_data.drop('Personal Loan', axis=1)):\n",
        "    print('Importance of feature {}:, {:.3f}'.format(column, dt.feature_importances_[i]))\n",
        "    \n",
        "    fi = pd.DataFrame({'Variable': [column], 'Feature Importance Score': [dt.feature_importances_[i]]})\n",
        "    \n",
        "    try:\n",
        "        final_fi = pd.concat([final_fi,fi], ignore_index = True)\n",
        "    except:\n",
        "        final_fi = fi\n",
        "        \n",
        "        \n",
        "# Ordering the data\n",
        "final_fi = final_fi.sort_values('Feature Importance Score', ascending = False).reset_index()            \n",
        "final_fi \n",
        "\n",
        "\n",
        "\n"
      ],
      "metadata": {
        "id": "dm4U1x5aRXc6"
      },
      "execution_count": null,
      "outputs": []
    },
    {
      "cell_type": "code",
      "source": [
        "print('The Training Accuracy is ', dt.score(X_train, y_train))\n",
        "print('The Testing Accuracy is ', dt.score(X_test, y_test))"
      ],
      "metadata": {
        "id": "j3D7ELDkRtci"
      },
      "execution_count": null,
      "outputs": []
    },
    {
      "cell_type": "code",
      "source": [
        "def plot_confusion_matrix(cm, classes=None, title='Confusion matrix'):\n",
        "    \"\"\"Plots a confusion matrix.\"\"\"\n",
        "    if classes is not None:\n",
        "        sns.heatmap(cm, xticklabels=classes, yticklabels=classes, vmin=0., vmax=1., annot=True, annot_kws={'size':50})\n",
        "    else:\n",
        "        sns.heatmap(cm, vmin=0., vmax=1.)\n",
        "    plt.title(title)\n",
        "    plt.ylabel('True label')\n",
        "    plt.xlabel('Predicted label')"
      ],
      "metadata": {
        "id": "MRxN2tTWSOso"
      },
      "execution_count": null,
      "outputs": []
    },
    {
      "cell_type": "code",
      "source": [
        "y_pred = dt.predict(X_train)"
      ],
      "metadata": {
        "id": "dhs2-uY_SRyp"
      },
      "execution_count": null,
      "outputs": []
    },
    {
      "cell_type": "code",
      "source": [
        "cm = confusion_matrix(y_train, y_pred)\n",
        "cm_norm = cm / cm.sum(axis=1)[:, np.newaxis]"
      ],
      "metadata": {
        "id": "45sk_05LScPC"
      },
      "execution_count": null,
      "outputs": []
    },
    {
      "cell_type": "code",
      "source": [
        "plt.figure(figsize=(12,10))\n",
        "plot_confusion_matrix(cm_norm, classes = dt.classes_)"
      ],
      "metadata": {
        "id": "S1Jr_mnnSk6Q"
      },
      "execution_count": null,
      "outputs": []
    },
    {
      "cell_type": "code",
      "source": [
        "y_pred = dt.predict(X_train)\n",
        "y_pred\n",
        "confusion_matrix(y_train, y_pred)"
      ],
      "metadata": {
        "id": "c18Qz7BnSqgW"
      },
      "execution_count": null,
      "outputs": []
    },
    {
      "cell_type": "markdown",
      "source": [
        "Random Forest"
      ],
      "metadata": {
        "id": "FXe8sOmBUweS"
      }
    },
    {
      "cell_type": "code",
      "source": [
        "rf = RandomForestClassifier(n_estimators=100, criterion='entropy')"
      ],
      "metadata": {
        "id": "C4RifohxTkLc"
      },
      "execution_count": null,
      "outputs": []
    },
    {
      "cell_type": "code",
      "source": [
        "rf.fit(X_train, y_train)"
      ],
      "metadata": {
        "id": "weLapwNPU6Fp"
      },
      "execution_count": null,
      "outputs": []
    },
    {
      "cell_type": "code",
      "source": [
        "print('The Training Accuracy is ', rf.score(X_train, y_train))\n",
        "print('The Testing Accuracy is ', rf.score(X_test, y_test))"
      ],
      "metadata": {
        "id": "QUtMqnWQU-wg"
      },
      "execution_count": null,
      "outputs": []
    },
    {
      "cell_type": "code",
      "source": [
        "rf_pred = rf.predict(X_train)"
      ],
      "metadata": {
        "id": "iKvjdBa4VFO9"
      },
      "execution_count": null,
      "outputs": []
    },
    {
      "cell_type": "code",
      "source": [
        "cm = confusion_matrix(y_train, rf_pred)\n",
        "cm_norm = cm / cm.sum(axis=1)[:, np.newaxis]\n",
        "plt.figure(figsize=(8,6))\n",
        "plot_confusion_matrix(cm_norm, classes=rf.classes_, title='RF Confusion Matrix')"
      ],
      "metadata": {
        "id": "ryYICYW1VK5j"
      },
      "execution_count": null,
      "outputs": []
    },
    {
      "cell_type": "code",
      "source": [
        "news_data = "
      ],
      "metadata": {
        "id": "VKd-6LfIVpvA"
      },
      "execution_count": null,
      "outputs": []
    }
  ]
}