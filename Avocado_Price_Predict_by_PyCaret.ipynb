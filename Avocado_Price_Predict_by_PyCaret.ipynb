{
  "nbformat": 4,
  "nbformat_minor": 0,
  "metadata": {
    "colab": {
      "name": "Avocado Price Predict by PyCaret.ipynb",
      "private_outputs": true,
      "provenance": [],
      "authorship_tag": "ABX9TyNwqAxlFCLlOHE5B6kQIXUc",
      "include_colab_link": true
    },
    "kernelspec": {
      "name": "python3",
      "display_name": "Python 3"
    },
    "language_info": {
      "name": "python"
    }
  },
  "cells": [
    {
      "cell_type": "markdown",
      "metadata": {
        "id": "view-in-github",
        "colab_type": "text"
      },
      "source": [
        "<a href=\"https://colab.research.google.com/github/dkurbatovv/Python/blob/main/Avocado_Price_Predict_by_PyCaret.ipynb\" target=\"_parent\"><img src=\"https://colab.research.google.com/assets/colab-badge.svg\" alt=\"Open In Colab\"/></a>"
      ]
    },
    {
      "cell_type": "code",
      "execution_count": null,
      "metadata": {
        "id": "VfqK1XhtenAy"
      },
      "outputs": [],
      "source": [
        "! pip install pycaret"
      ]
    },
    {
      "cell_type": "code",
      "source": [
        "import datetime\n",
        "import numpy as np\n",
        "import pandas as pd\n",
        "import matplotlib.pyplot as plt\n",
        "import seaborn as sns\n",
        "import scipy\n",
        "import pycaret\n",
        "import warnings\n",
        "\n",
        "from sklearn.preprocessing import LabelEncoder\n",
        "from scipy import stats\n",
        "from scipy.stats import *\n",
        "from pycaret.regression import *"
      ],
      "metadata": {
        "id": "fG4gs_XLe5GV"
      },
      "execution_count": null,
      "outputs": []
    },
    {
      "cell_type": "code",
      "source": [
        "df = pd.read_csv('avocado.csv')"
      ],
      "metadata": {
        "id": "37Z8F7NefSyf"
      },
      "execution_count": null,
      "outputs": []
    },
    {
      "cell_type": "code",
      "source": [
        "df.head()"
      ],
      "metadata": {
        "id": "3fwQo5WriAzQ"
      },
      "execution_count": null,
      "outputs": []
    },
    {
      "cell_type": "code",
      "source": [
        "df.describe()"
      ],
      "metadata": {
        "id": "9SAeq6YPiGGQ"
      },
      "execution_count": null,
      "outputs": []
    },
    {
      "cell_type": "code",
      "source": [
        "labels=df['type'].dropna().unique()\n",
        "labels"
      ],
      "metadata": {
        "id": "fdO5L65pib5D"
      },
      "execution_count": null,
      "outputs": []
    },
    {
      "cell_type": "code",
      "source": [
        "plt.figure(figsize=(18,10))\n",
        "\n",
        "plt.subplot(1,2,1)\n",
        "plt.title('Avocado Type Percentage', fontweight='bold', fontsize='14',\n",
        "          fontfamily='sans-serif')\n",
        "plt.pie(df['type'].value_counts(), labels=labels, \n",
        "        wedgeprops=dict(alpha=0.8),  autopct='%.2f%%')\n",
        "\n",
        "\n",
        "countplt = plt.subplot(1,2,2)\n",
        "plt.title('Avocado Type Bar Chart', fontweight='bold', fontsize='14', \n",
        "          fontfamily='sans-serif')\n",
        "ax = sns.countplot(x='type', data=df, alpha=0.85)"
      ],
      "metadata": {
        "id": "bTTKbfQFiIGD"
      },
      "execution_count": null,
      "outputs": []
    },
    {
      "cell_type": "code",
      "source": [
        "labels=df['year'].dropna().unique()\n",
        "\n",
        "plt.figure(figsize=(18,10))\n",
        "\n",
        "plt.subplot(1,2,1)\n",
        "plt.title('Avocado Type Percentage', fontweight='bold', fontsize='14',\n",
        "          fontfamily='sans-serif')\n",
        "plt.pie(df['year'].value_counts(), labels=labels,\n",
        "        wedgeprops=dict(alpha=0.8), autopct='%.2f%%')\n",
        "\n",
        "\n",
        "countplt = plt.subplot(1,2,2)\n",
        "plt.title('Avocado Type Bar Chart', fontweight='bold', fontsize='14', \n",
        "          fontfamily='sans-serif')\n",
        "ax = sns.countplot(x='year', data=df, alpha=0.85)"
      ],
      "metadata": {
        "id": "vzTklfzHiuwJ"
      },
      "execution_count": null,
      "outputs": []
    },
    {
      "cell_type": "code",
      "source": [
        "df[['AveragePrice', 'Total Volume', '4046', '4225', \n",
        "    '4770', 'Total Bags', 'Small Bags', 'Large Bags',\n",
        "    'XLarge Bags']].describe().T.style.background_gradient(cmap='YlOrBr').set_properties(**{'font-family': 'Segoe UI'})"
      ],
      "metadata": {
        "id": "0yfPzgGki8YL"
      },
      "execution_count": null,
      "outputs": []
    },
    {
      "cell_type": "code",
      "source": [
        "fig, axs = plt.subplots(4, 2, figsize=(18, 18))\n",
        "\n",
        "# --- General Title ---\n",
        "fig.subplots_adjust(top=0.95)\n",
        "fig.suptitle('Histogram of Continuous Columns', fontweight='bold', \n",
        "             fontsize='14', fontfamily='sans-serif')\n",
        "\n",
        "# --- Histogram of Continuous Variables (Row 1) ---\n",
        "sns.histplot(data=df, x='AveragePrice', kde=True, ax=axs[0, 0], color='#004D25')\n",
        "sns.histplot(data=df, x='Total Volume', kde=True, ax=axs[0, 1], color='#EDDE30')\n",
        "\n",
        "# --- Histogram of Continuous Variables (Row 2) ---\n",
        "sns.histplot(data=df, x='4046', kde=True, ax=axs[1, 0], color='#48BF53')\n",
        "sns.histplot(data=df, x='4225', kde=True, ax=axs[1, 1], color='#837A0B')\n",
        "\n",
        "# --- Histogram of Continuous Variables (Row 3) ---\n",
        "sns.histplot(data=df, x='4770', kde=True, ax=axs[2, 0], color='#664228')\n",
        "sns.histplot(data=df, x='Total Bags', kde=True, ax=axs[2, 1], color='#A4E637')\n",
        "\n",
        "# --- Histogram of Continuous Variables (Row 4) ---\n",
        "sns.histplot(data=df, x='Small Bags', kde=True, ax=axs[3, 0], color='#BF865D')\n",
        "sns.histplot(data=df, x='XLarge Bags', kde=True, ax=axs[3, 1], color='#557F0F');"
      ],
      "metadata": {
        "id": "taEFpLthkN03"
      },
      "execution_count": null,
      "outputs": []
    },
    {
      "cell_type": "code",
      "source": [
        "fig, axs = plt.subplots(4, 2, figsize=(18, 18))\n",
        "\n",
        "# --- General Title ---\n",
        "fig.subplots_adjust(top=0.95)\n",
        "fig.suptitle('Histogram of Continuous Columns', fontweight='bold', \n",
        "             fontsize='14', fontfamily='sans-serif')\n",
        "\n",
        "# --- Histogram of Continuous Variables (Row 1) ---\n",
        "sns.boxplot(data=df, x='AveragePrice', ax=axs[0, 0], color='#004D25')\n",
        "sns.boxplot(data=df, x='Total Volume', ax=axs[0, 1], color='#EDDE30')\n",
        "\n",
        "# --- Histogram of Continuous Variables (Row 2) ---\n",
        "sns.boxplot(data=df, x='4046', ax=axs[1, 0], color='#48BF53')\n",
        "sns.boxplot(data=df, x='4225', ax=axs[1, 1], color='#837A0B')\n",
        "\n",
        "# --- Histogram of Continuous Variables (Row 3) ---\n",
        "sns.boxplot(data=df, x='4770', ax=axs[2, 0], color='#664228')\n",
        "sns.boxplot(data=df, x='Total Bags', ax=axs[2, 1], color='#A4E637')\n",
        "\n",
        "# --- Histogram of Continuous Variables (Row 4) ---\n",
        "sns.boxplot(data=df, x='Small Bags', ax=axs[3, 0], color='#BF865D')\n",
        "sns.boxplot(data=df, x='XLarge Bags', ax=axs[3, 1], color='#557F0F');"
      ],
      "metadata": {
        "id": "pe8dUbk_kawq"
      },
      "execution_count": null,
      "outputs": []
    },
    {
      "cell_type": "code",
      "source": [
        "# --- Creating Box Plot based on Type ---\n",
        "fig, ax = plt.subplots()\n",
        "fig.set_size_inches(17, 7)\n",
        "plt.title('Average Price Distribution based on Types from 2015-2018', fontweight='bold', \n",
        "          fontsize='14', fontfamily='sans-serif')\n",
        "sns.boxplot(x='year', y='AveragePrice', hue='type', data=df, ax=ax,\n",
        "            boxprops=dict(alpha=0.9), linewidth=1.5)\n",
        "plt.xlabel('Year', fontweight='bold', fontsize='11', fontfamily='sans-serif')\n",
        "plt.ylabel('Average Price', fontweight='bold', fontsize='11', \n",
        "           fontfamily='sans-serif')\n",
        "plt.xticks(fontsize='8')\n",
        "plt.yticks(fontsize='8')\n",
        "plt.legend(labels=['Conventional','Organic'], title='$\\\\bf{Type}$', fontsize='8', \n",
        "           title_fontsize='9', loc='upper right', frameon=True)\n",
        "plt.grid(axis='y', alpha=0.4)\n",
        "plt.show()"
      ],
      "metadata": {
        "id": "g_32DXYZmkae"
      },
      "execution_count": null,
      "outputs": []
    },
    {
      "cell_type": "code",
      "source": [
        "x0=df.xs('Total Volume', axis=1)[df.type=='conventional']\n",
        "x1=df.xs('Total Volume', axis=1)[df.type=='organic']\n",
        "y0=df.xs('Total Bags', axis=1)[df.type=='conventional']\n",
        "y1=df.xs('Total Bags', axis=1)[df.type=='organic']\n",
        "\n",
        "# --- Creating Scatter Plot ---\n",
        "plt.figure(figsize=(10,8))\n",
        "plt.title('Scatter Plot between Avg. Price and Total Volume', fontweight='bold', \n",
        "          fontsize='14', fontfamily='sans-serif')\n",
        "plt.scatter(x=x0, y=y0, alpha=0.6, linewidths=1)\n",
        "plt.scatter(x=x1, y=y1, alpha=0.6, linewidths=1)\n",
        "plt.legend(['Conventional', 'Organic'], title='$\\\\bf{Type}$', fontsize='7', \n",
        "           title_fontsize='8', loc='upper left', frameon=True)\n",
        "plt.xlabel('Total Volume', fontweight='bold', fontsize='11',\n",
        "           fontfamily='sans-serif')\n",
        "plt.ylabel('Total Bags', fontweight='bold', fontsize='11', \n",
        "           fontfamily='sans-serif')\n",
        "plt.ticklabel_format(style='plain', axis='both')\n",
        "plt.grid(axis='both', alpha=0.5, lw=0.5)\n",
        "plt.show()"
      ],
      "metadata": {
        "id": "3qECZPxQm9fU"
      },
      "execution_count": null,
      "outputs": []
    },
    {
      "cell_type": "code",
      "source": [
        "df.Date = pd.to_datetime(df.Date)\n",
        "\n",
        "# --- Extracting Month Number from `Date`  ---\n",
        "df['month'] = pd.DatetimeIndex(df['Date']).month"
      ],
      "metadata": {
        "id": "F3-nzb9fnFlj"
      },
      "execution_count": null,
      "outputs": []
    },
    {
      "cell_type": "code",
      "source": [
        "df.head()"
      ],
      "metadata": {
        "id": "foUqsxM-nToI"
      },
      "execution_count": null,
      "outputs": []
    },
    {
      "cell_type": "code",
      "source": [
        "avc = setup(data = df, target = 'AveragePrice', train_size = 0.8, \n",
        "            categorical_features = ['type', 'year', 'region', 'month'],\n",
        "            normalize = True, normalize_method = 'robust', silent = True,\n",
        "            ignore_low_variance = True, session_id = 123)"
      ],
      "metadata": {
        "id": "xxBUndaEnUS9"
      },
      "execution_count": null,
      "outputs": []
    },
    {
      "cell_type": "code",
      "source": [
        "models()"
      ],
      "metadata": {
        "id": "zDFGiSvtnXM8"
      },
      "execution_count": null,
      "outputs": []
    },
    {
      "cell_type": "code",
      "source": [
        "best_models = compare_models(sort='R2')"
      ],
      "metadata": {
        "id": "qYc40OBynbTo"
      },
      "execution_count": null,
      "outputs": []
    },
    {
      "cell_type": "code",
      "source": [
        "plot_model(best_models)"
      ],
      "metadata": {
        "id": "VLffLPu0ngom"
      },
      "execution_count": null,
      "outputs": []
    },
    {
      "cell_type": "code",
      "source": [
        "plot_model(best_models, plot = 'error')"
      ],
      "metadata": {
        "id": "JclEn-CTpFr_"
      },
      "execution_count": null,
      "outputs": []
    },
    {
      "cell_type": "code",
      "source": [
        "plot_model(best_models, plot = 'feature')"
      ],
      "metadata": {
        "id": "s54jetaAqK8M"
      },
      "execution_count": null,
      "outputs": []
    },
    {
      "cell_type": "code",
      "source": [
        "rf = create_model('rf')"
      ],
      "metadata": {
        "id": "89NU_2EHqTnM"
      },
      "execution_count": null,
      "outputs": []
    },
    {
      "cell_type": "code",
      "source": [
        "plot_model(rf)"
      ],
      "metadata": {
        "id": "jIOacfRNqWkp"
      },
      "execution_count": null,
      "outputs": []
    },
    {
      "cell_type": "code",
      "source": [
        "plot_model(rf, plot = 'error')"
      ],
      "metadata": {
        "id": "cgitetY00LXI"
      },
      "execution_count": null,
      "outputs": []
    },
    {
      "cell_type": "code",
      "source": [
        "plot_model(rf, plot = 'feature')"
      ],
      "metadata": {
        "id": "wI-AcEy50QLU"
      },
      "execution_count": null,
      "outputs": []
    },
    {
      "cell_type": "code",
      "source": [
        "predict_model(rf)"
      ],
      "metadata": {
        "id": "saVccksy0SXw"
      },
      "execution_count": null,
      "outputs": []
    },
    {
      "cell_type": "code",
      "source": [
        "final_best = finalize_model(rf)\n",
        "\n",
        "# --- Final Best Model Parameters for Deployment ---\n",
        "plot_model(rf, plot='parameter')"
      ],
      "metadata": {
        "id": "qzJvQLay0XQ7"
      },
      "execution_count": null,
      "outputs": []
    },
    {
      "cell_type": "code",
      "source": [
        ""
      ],
      "metadata": {
        "id": "7OHr6Nsc0cnr"
      },
      "execution_count": null,
      "outputs": []
    }
  ]
}