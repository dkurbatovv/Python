{
  "nbformat": 4,
  "nbformat_minor": 0,
  "metadata": {
    "colab": {
      "name": "Untitled36.ipynb",
      "private_outputs": true,
      "provenance": [],
      "authorship_tag": "ABX9TyNKBGtrO4jQJu0cRYectTKh",
      "include_colab_link": true
    },
    "kernelspec": {
      "name": "python3",
      "display_name": "Python 3"
    },
    "language_info": {
      "name": "python"
    }
  },
  "cells": [
    {
      "cell_type": "markdown",
      "metadata": {
        "id": "view-in-github",
        "colab_type": "text"
      },
      "source": [
        "<a href=\"https://colab.research.google.com/github/kurbatovdi/kurbatovdi/blob/main/Car_Purchasing_Data.ipynb\" target=\"_parent\"><img src=\"https://colab.research.google.com/assets/colab-badge.svg\" alt=\"Open In Colab\"/></a>"
      ]
    },
    {
      "cell_type": "code",
      "execution_count": null,
      "metadata": {
        "id": "zDa8KbuHFVMf"
      },
      "outputs": [],
      "source": [
        "import pandas  as pd #Data manipulation\n",
        "import numpy as np #Data manipulation\n",
        "import matplotlib.pyplot as plt # Visualization\n",
        "import seaborn as sns #Visualization"
      ]
    },
    {
      "cell_type": "code",
      "source": [
        "data = pd.read_csv(\"Car_Purchasing_Data.csv\")"
      ],
      "metadata": {
        "id": "bTxlArRjG3fT"
      },
      "execution_count": null,
      "outputs": []
    },
    {
      "cell_type": "code",
      "source": [
        "data.info()"
      ],
      "metadata": {
        "id": "NMGBNerXG-SX"
      },
      "execution_count": null,
      "outputs": []
    },
    {
      "cell_type": "code",
      "source": [
        "data.isnull().sum()"
      ],
      "metadata": {
        "id": "7ALz32RfHCTB"
      },
      "execution_count": null,
      "outputs": []
    },
    {
      "cell_type": "code",
      "source": [
        "data.head()\n"
      ],
      "metadata": {
        "id": "U5yom9HJHEBM"
      },
      "execution_count": null,
      "outputs": []
    },
    {
      "cell_type": "code",
      "source": [
        "corr = data.corr()\n",
        "sns.heatmap(corr, annot=True, cmap=\"BuPu\")"
      ],
      "metadata": {
        "id": "vt3emJ3rHHha"
      },
      "execution_count": null,
      "outputs": []
    },
    {
      "cell_type": "code",
      "source": [
        "data.describe()"
      ],
      "metadata": {
        "id": "uvvSZ-YHHe3Q"
      },
      "execution_count": null,
      "outputs": []
    },
    {
      "cell_type": "code",
      "source": [
        "sns.pairplot(data)"
      ],
      "metadata": {
        "id": "6Lc8AaUpHr2-"
      },
      "execution_count": null,
      "outputs": []
    },
    {
      "cell_type": "code",
      "source": [
        "corr = data.corr()\n",
        "sns.heatmap(corr, annot=True, cmap=\"icefire\")"
      ],
      "metadata": {
        "id": "AmXLVJ9LH6ee"
      },
      "execution_count": null,
      "outputs": []
    },
    {
      "cell_type": "code",
      "source": [
        "X = data[[\"Age\",\"Annual Salary\",\"Net Worth\"]]\n",
        "Y = data[\"Car Purchase Amount\"]"
      ],
      "metadata": {
        "id": "M1peGSolIQWT"
      },
      "execution_count": null,
      "outputs": []
    },
    {
      "cell_type": "code",
      "source": [
        "from sklearn.model_selection import train_test_split\n",
        "X_train, X_test, Y_train, Y_test = train_test_split(X,Y, test_size=0.4,random_state=1)"
      ],
      "metadata": {
        "id": "f9X4rTa4IvCf"
      },
      "execution_count": null,
      "outputs": []
    },
    {
      "cell_type": "code",
      "source": [
        "from sklearn.linear_model import LinearRegression\n",
        "lm = LinearRegression(fit_intercept=True)\n",
        "lm.fit(X_train,Y_train)\n"
      ],
      "metadata": {
        "id": "5M9UHuEKIvEt"
      },
      "execution_count": null,
      "outputs": []
    },
    {
      "cell_type": "code",
      "source": [
        "lm.coef_"
      ],
      "metadata": {
        "id": "lnBAWUeJIvID"
      },
      "execution_count": null,
      "outputs": []
    },
    {
      "cell_type": "code",
      "source": [
        "lm.intercept_"
      ],
      "metadata": {
        "id": "T7Uj3CZnI6vk"
      },
      "execution_count": null,
      "outputs": []
    },
    {
      "cell_type": "code",
      "source": [
        "y_pred = lm.predict(X_train)"
      ],
      "metadata": {
        "id": "hPhiEO-uJOF-"
      },
      "execution_count": null,
      "outputs": []
    },
    {
      "cell_type": "code",
      "source": [
        "sns.set(style=\"darkgrid\")\n",
        "sns.regplot( Y_train,y_pred, line_kws={'color':'red'})"
      ],
      "metadata": {
        "id": "LBncAwvHJOI0"
      },
      "execution_count": null,
      "outputs": []
    },
    {
      "cell_type": "code",
      "source": [
        "from sklearn.metrics import r2_score,mean_squared_error,mean_absolute_error"
      ],
      "metadata": {
        "id": "V2F-FqckJSiA"
      },
      "execution_count": null,
      "outputs": []
    },
    {
      "cell_type": "code",
      "source": [
        "k=3\n",
        "n=300\n",
        "R2 = r2_score(Y_train,y_pred )\n",
        "Mse = mean_squared_error(Y_train,y_pred)\n",
        "Rmse = np.sqrt(Mse)\n",
        "Mae = mean_absolute_error(Y_train,y_pred)\n",
        "adj_r2= 1- ((1-R2)*(n-1)/(n-k-1))"
      ],
      "metadata": {
        "id": "vRa_8XDcJYv0"
      },
      "execution_count": null,
      "outputs": []
    },
    {
      "cell_type": "code",
      "source": [
        "res=Y_train-y_pred"
      ],
      "metadata": {
        "id": "HzA7BsrYJg51"
      },
      "execution_count": null,
      "outputs": []
    },
    {
      "cell_type": "code",
      "source": [
        "pred_y_table = pd.DataFrame({\"Actual Value\":Y_train,\"Predicted Value\":y_pred,\"Difference\":res})\n",
        "pred_y_table"
      ],
      "metadata": {
        "id": "wZLv80NKJllO"
      },
      "execution_count": null,
      "outputs": []
    },
    {
      "cell_type": "code",
      "source": [
        ""
      ],
      "metadata": {
        "id": "fu5l6OGlJmyh"
      },
      "execution_count": null,
      "outputs": []
    },
    {
      "cell_type": "code",
      "source": [
        ""
      ],
      "metadata": {
        "id": "hdB_1AuIJwfu"
      },
      "execution_count": null,
      "outputs": []
    }
  ]
}