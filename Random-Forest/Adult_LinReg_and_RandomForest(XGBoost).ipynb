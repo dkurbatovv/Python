{
  "nbformat": 4,
  "nbformat_minor": 0,
  "metadata": {
    "colab": {
      "name": "Adult_LinReg_and_RandomForest(XGBoost).ipynb",
      "private_outputs": true,
      "provenance": [],
      "authorship_tag": "ABX9TyNjU4yjhBXSe+m6f1WhJu6C",
      "include_colab_link": true
    },
    "kernelspec": {
      "name": "python3",
      "display_name": "Python 3"
    },
    "language_info": {
      "name": "python"
    },
    "accelerator": "GPU"
  },
  "cells": [
    {
      "cell_type": "markdown",
      "metadata": {
        "id": "view-in-github",
        "colab_type": "text"
      },
      "source": [
        "<a href=\"https://colab.research.google.com/github/dkurbatovv/Python/blob/main/Adult_LinReg_and_RandomForest(XGBoost).ipynb\" target=\"_parent\"><img src=\"https://colab.research.google.com/assets/colab-badge.svg\" alt=\"Open In Colab\"/></a>"
      ]
    },
    {
      "cell_type": "code",
      "execution_count": null,
      "metadata": {
        "id": "GpiEcDzw3h2V"
      },
      "outputs": [],
      "source": [
        "import pandas as pd\n",
        "import numpy as np\n",
        "import matplotlib.pyplot as plt\n",
        "import seaborn as sns\n",
        "\n",
        "from sklearn.model_selection import train_test_split\n",
        "from sklearn.preprocessing import LabelEncoder\n",
        "from sklearn.metrics import r2_score, confusion_matrix, accuracy_score, log_loss, classification_report\n",
        "from sklearn.tree import DecisionTreeClassifier\n",
        "from sklearn.linear_model import LinearRegression, LogisticRegression"
      ]
    },
    {
      "cell_type": "code",
      "source": [
        "df = pd.read_csv('adult_train.csv')"
      ],
      "metadata": {
        "id": "5ulZPUyY3mrw"
      },
      "execution_count": null,
      "outputs": []
    },
    {
      "cell_type": "code",
      "source": [
        "df.head()"
      ],
      "metadata": {
        "id": "YYWSAphU3v1U"
      },
      "execution_count": null,
      "outputs": []
    },
    {
      "cell_type": "code",
      "source": [
        "df = df.drop('Education', axis = 1)"
      ],
      "metadata": {
        "id": "d0pYtnZnD8g4"
      },
      "execution_count": null,
      "outputs": []
    },
    {
      "cell_type": "code",
      "source": [
        "df.head()"
      ],
      "metadata": {
        "id": "nC0ltHBj3wVB"
      },
      "execution_count": null,
      "outputs": []
    },
    {
      "cell_type": "code",
      "source": [
        "df.dropna()"
      ],
      "metadata": {
        "id": "WufXLdAy32o9"
      },
      "execution_count": null,
      "outputs": []
    },
    {
      "cell_type": "code",
      "source": [
        "df.info()"
      ],
      "metadata": {
        "id": "thNc4gEg36iD"
      },
      "execution_count": null,
      "outputs": []
    },
    {
      "cell_type": "code",
      "source": [
        "for col in ['Workclass', 'Occupation', 'Country']:\n",
        "  df[col].fillna(df[col].mode()[0], inplace = True)"
      ],
      "metadata": {
        "id": "W-ZRCZ8IRZ9H"
      },
      "execution_count": null,
      "outputs": []
    },
    {
      "cell_type": "code",
      "source": [
        "df.info()"
      ],
      "metadata": {
        "id": "080Or8z1RtmJ"
      },
      "execution_count": null,
      "outputs": []
    },
    {
      "cell_type": "code",
      "source": [
        "for column in df:\n",
        "  unique_val = np.unique(df[column])\n",
        "  nr_val = len(unique_val)\n",
        "  if nr_val < 12:\n",
        "    print('The number of values for feature {} : {} -- :{}'.format(column, nr_val, unique_val))\n",
        "  else:\n",
        "    print('The number of values for feature {} : {}'.format(column, nr_val)) "
      ],
      "metadata": {
        "id": "4cxXxbtS37RQ"
      },
      "execution_count": null,
      "outputs": []
    },
    {
      "cell_type": "code",
      "source": [
        "plt.figure(figsize=(12,10))\n",
        "sns.countplot(x = 'Target', data = df)"
      ],
      "metadata": {
        "id": "rBVt5QDS4GPM"
      },
      "execution_count": null,
      "outputs": []
    },
    {
      "cell_type": "code",
      "source": [
        "df['Target'].value_counts(normalize = True)"
      ],
      "metadata": {
        "id": "ph1Z4GhY4R0G"
      },
      "execution_count": null,
      "outputs": []
    },
    {
      "cell_type": "code",
      "source": [
        "le = LabelEncoder()\n",
        "df['Race'] = le.fit_transform(df['Race'])\n",
        "df['Sex'] = le.fit_transform(df['Sex'])"
      ],
      "metadata": {
        "id": "aWrmAY5N5G82"
      },
      "execution_count": null,
      "outputs": []
    },
    {
      "cell_type": "code",
      "source": [
        "df.head()"
      ],
      "metadata": {
        "id": "oykmKl8u4Gvz"
      },
      "execution_count": null,
      "outputs": []
    },
    {
      "cell_type": "code",
      "source": [
        "X = df.drop('Age', axis = 1)\n",
        "y = df['Age']"
      ],
      "metadata": {
        "id": "yymS9NzX5u28"
      },
      "execution_count": null,
      "outputs": []
    },
    {
      "cell_type": "code",
      "source": [
        "new_df = pd.get_dummies(df, columns = ['Workclass', 'Martial_Status', 'Occupation', 'Relationship', 'Country'])"
      ],
      "metadata": {
        "id": "WBRmbyCa6b4c"
      },
      "execution_count": null,
      "outputs": []
    },
    {
      "cell_type": "code",
      "source": [
        "new_df.head()"
      ],
      "metadata": {
        "id": "oasl4GuD6eiJ"
      },
      "execution_count": null,
      "outputs": []
    },
    {
      "cell_type": "code",
      "source": [
        "new_df['Target'] = le.fit_transform(df['Target'])"
      ],
      "metadata": {
        "id": "FB-JfamP6vP-"
      },
      "execution_count": null,
      "outputs": []
    },
    {
      "cell_type": "code",
      "source": [
        "new_df.head()"
      ],
      "metadata": {
        "id": "NwBJiwD47Esb"
      },
      "execution_count": null,
      "outputs": []
    },
    {
      "cell_type": "code",
      "source": [
        "plt.figure(figsize = (12,10))\n",
        "sns.countplot(data = new_df, x = 'Sex', hue = 'Target')"
      ],
      "metadata": {
        "id": "eXsVbIAd7MyZ"
      },
      "execution_count": null,
      "outputs": []
    },
    {
      "cell_type": "code",
      "source": [
        "plt.figure(figsize = (8,6))\n",
        "sns.countplot(data = new_df, x = 'Race', hue = 'Target', palette = 'Greens_r') "
      ],
      "metadata": {
        "id": "5PnZYYGz7Xah"
      },
      "execution_count": null,
      "outputs": []
    },
    {
      "cell_type": "code",
      "source": [
        "plt.figure(figsize = (8,6))\n",
        "sns.countplot(data = df, x = 'Relationship', hue = 'Target', palette = 'Greens_r') "
      ],
      "metadata": {
        "id": "j31aKyQHnRVN"
      },
      "execution_count": null,
      "outputs": []
    },
    {
      "cell_type": "code",
      "source": [
        "corr = df.corr()\n",
        "plt.figure(figsize = (12,10))\n",
        "sns.heatmap(corr, annot = True)"
      ],
      "metadata": {
        "id": "Xy_oGl4dng-F"
      },
      "execution_count": null,
      "outputs": []
    },
    {
      "cell_type": "code",
      "source": [
        "X = new_df.drop('Target', axis = 1)\n",
        "y = new_df['Target']"
      ],
      "metadata": {
        "id": "w45XZpKVnrf6"
      },
      "execution_count": null,
      "outputs": []
    },
    {
      "cell_type": "code",
      "source": [
        "X.head()"
      ],
      "metadata": {
        "id": "A892fzgIQuGY"
      },
      "execution_count": null,
      "outputs": []
    },
    {
      "cell_type": "code",
      "source": [
        "X_train, X_test, y_train, y_test  = train_test_split(X, y, test_size = 0.3, random_state = 42)"
      ],
      "metadata": {
        "id": "CbPonSy_oMvM"
      },
      "execution_count": null,
      "outputs": []
    },
    {
      "cell_type": "code",
      "source": [
        "model = LogisticRegression(random_state=10, solver = 'lbfgs')"
      ],
      "metadata": {
        "id": "RAF_O2GAoQIi"
      },
      "execution_count": null,
      "outputs": []
    },
    {
      "cell_type": "code",
      "source": [
        "model.fit(X_train, y_train)"
      ],
      "metadata": {
        "id": "Fx5zjhq5oUEA"
      },
      "execution_count": null,
      "outputs": []
    },
    {
      "cell_type": "code",
      "source": [
        "y_pred = model.predict(X_train)"
      ],
      "metadata": {
        "id": "SVfIOZVLoXZZ"
      },
      "execution_count": null,
      "outputs": []
    },
    {
      "cell_type": "code",
      "source": [
        "# Accuracy on Train\n",
        "print(\"The Training Accuracy is: \", model.score(X_train, y_train))\n",
        "\n",
        "# Accuracy on Test\n",
        "print(\"The Testing Accuracy is: \", model.score(X_test, y_test))\n",
        "\n",
        "\n",
        "# Classification Report\n",
        "print(classification_report(y_train, y_pred))"
      ],
      "metadata": {
        "id": "7f3FdhBloaRY"
      },
      "execution_count": null,
      "outputs": []
    },
    {
      "cell_type": "code",
      "source": [
        "def plot_confusion_matrix(cm, classes=None, title='Confusion matrix'):\n",
        "    \"\"\"Plots a confusion matrix.\"\"\"\n",
        "    if classes is not None:\n",
        "        sns.heatmap(cm, cmap=\"YlGnBu\", xticklabels=classes, yticklabels=classes, vmin=0., vmax=1., annot=True, annot_kws={'size':50})\n",
        "    else:\n",
        "        sns.heatmap(cm, vmin=0., vmax=1.)\n",
        "    plt.title(title)\n",
        "    plt.ylabel('True label')\n",
        "    plt.xlabel('Predicted label')"
      ],
      "metadata": {
        "id": "-CzNGWa-qW1i"
      },
      "execution_count": null,
      "outputs": []
    },
    {
      "cell_type": "code",
      "source": [
        "\n",
        "cm = confusion_matrix(y_train, y_pred)\n",
        "cm_norm = cm / cm.sum(axis=1).reshape(-1,1)\n",
        "\n",
        "plot_confusion_matrix(cm_norm, classes = model.classes_, title='Confusion matrix')"
      ],
      "metadata": {
        "id": "JW29k4SkqsAJ"
      },
      "execution_count": null,
      "outputs": []
    },
    {
      "cell_type": "code",
      "source": [
        "pred_proba = model.predict_proba(X_train)"
      ],
      "metadata": {
        "id": "x4aOgyWwqr47"
      },
      "execution_count": null,
      "outputs": []
    },
    {
      "cell_type": "code",
      "source": [
        "# Running Log loss on training\n",
        "print(\"The Log Loss on Training is: \", log_loss(y_train, pred_proba))\n",
        "\n",
        "# Running Log loss on testing\n",
        "pred_proba_t = model.predict_proba(X_test)\n",
        "print(\"The Log Loss on Testing Dataset is: \", log_loss(y_test, pred_proba_t))"
      ],
      "metadata": {
        "id": "SCdcK07wrCmw"
      },
      "execution_count": null,
      "outputs": []
    },
    {
      "cell_type": "markdown",
      "source": [
        "**Hyper Parameter Tuning**"
      ],
      "metadata": {
        "id": "ktKusYDVRTEx"
      }
    },
    {
      "cell_type": "code",
      "source": [
        "plt.plot(np.geomspace(1e-5, 1e5, num=20)) #  uniformly distributed in log space\n",
        "plt.plot(np.linspace(1e-5, 1e5, num=20)) # uniformly distributed in linear space, instead of log space"
      ],
      "metadata": {
        "id": "Q9kAHcYMrcKg"
      },
      "execution_count": null,
      "outputs": []
    },
    {
      "cell_type": "code",
      "source": [
        "C_List = np.geomspace(1e-5, 1e5, num = 20)\n",
        "CA = []\n",
        "Logarithmic_Loss = []\n",
        "for c in C_List:\n",
        "    log_reg2 = LogisticRegression(random_state=10, solver = 'lbfgs', C=c)\n",
        "    log_reg2.fit(X_train, y_train)\n",
        "    score = log_reg2.score(X_test, y_test)\n",
        "    CA.append(score)\n",
        "    print(\"The CA of C parameter {} is {}:\".format(c, score))\n",
        "    pred_proba_t = log_reg2.predict_proba(X_test)\n",
        "    log_loss2 = log_loss(y_test, pred_proba_t)\n",
        "    Logarithmic_Loss.append(log_loss2)\n",
        "    print(\"The Logg Loss of C parameter {} is {}:\".format(c, log_loss2))\n",
        "    print(\"\")"
      ],
      "metadata": {
        "id": "f7lF6FBUSDOG"
      },
      "execution_count": null,
      "outputs": []
    },
    {
      "cell_type": "code",
      "source": [
        "CA2 = np.array(CA).reshape(20,)\n",
        "Logarithmic_Loss2 = np.array(Logarithmic_Loss).reshape(20,)\n",
        "\n",
        "# zip\n",
        "outcomes = zip(C_List, CA2, Logarithmic_Loss2)\n",
        "\n",
        "#df\n",
        "df_outcomes = pd.DataFrame(outcomes, columns = [\"C_List\", 'CA2','Logarithmic_Loss2'])\n",
        "\n",
        "#print\n",
        "df_outcomes\n",
        "\n",
        "# Ordering the data (sort_values)\n",
        "df_outcomes.sort_values(\"Logarithmic_Loss2\", ascending = True).reset_index()"
      ],
      "metadata": {
        "id": "136jAkKMS48c"
      },
      "execution_count": null,
      "outputs": []
    },
    {
      "cell_type": "markdown",
      "source": [
        "Из датафрейма выше, лучше выбирать параметры те, в которых Логарифмические потери меньше, тк это будет лучше для новых, невидимых параметров.\n"
      ],
      "metadata": {
        "id": "TUGgQsNKUPpi"
      }
    },
    {
      "cell_type": "code",
      "source": [
        "# Другой способ сделать вышеописанное\n",
        "# Scikit-learn предлагает модуль LogisticRegressionCV, реализующий логистическую регрессию.\n",
        "# со встроенной перекрестной проверкой для определения оптимального параметра C\n",
        "\n",
        "from sklearn.linear_model import LogisticRegressionCV\n",
        "from sklearn.model_selection import KFold\n",
        "kf = KFold(n_splits=3, random_state=0, shuffle=True)\n",
        "\n",
        "# Logistic Reg CV\n",
        "Log_reg3 = LogisticRegressionCV(random_state=15, Cs = C_List, solver ='lbfgs')\n",
        "Log_reg3.fit(X_train, y_train)\n",
        "print(\"The CA is:\", Log_reg3.score(X_test, y_test))\n",
        "pred_proba_t = Log_reg3.predict_proba(X_test)\n",
        "log_loss3 = log_loss(y_test, pred_proba_t)\n",
        "print(\"The Logistic Loss is: \", log_loss3)\n",
        "\n",
        "print(\"The optimal C parameter is: \", Log_reg3.C_)"
      ],
      "metadata": {
        "id": "u0muiIBfS5pC"
      },
      "execution_count": null,
      "outputs": []
    },
    {
      "cell_type": "code",
      "source": [
        "C_List = np.geomspace(1e-5, 1e5, num=20)\n",
        "CA = []\n",
        "Logarithmic_Loss = []\n",
        "\n",
        "for c in C_List:\n",
        "    log_reg2 = LogisticRegression(random_state=10, solver = 'lbfgs', C=c)\n",
        "    log_reg2.fit(X_train, y_train)\n",
        "    score = log_reg2.score(X_test, y_test)\n",
        "    CA.append(score)\n",
        "    print(\"The CA of C parameter {} is {}:\".format(c, score))\n",
        "    pred_proba_t = log_reg2.predict_proba(X_test)\n",
        "    log_loss2 = log_loss(y_test, pred_proba_t)\n",
        "    Logarithmic_Loss.append(log_loss2)\n",
        "    print(\"The Logg Loss of C parameter {} is {}:\".format(c, log_loss2))\n",
        "    print(\"\")\n",
        "    \n",
        "    y_pred = log_reg2.predict(X_train)\n",
        "    cm = confusion_matrix(y_train, y_pred)\n",
        "    cm_norm = cm / cm.sum(axis=1).reshape(-1,1)\n",
        "    plot_confusion_matrix(cm_norm, classes = model.classes_, title='Confusion matrix')\n",
        "    plt.show()\n",
        "  "
      ],
      "metadata": {
        "id": "lUlpPcpBWOJ_"
      },
      "execution_count": null,
      "outputs": []
    },
    {
      "cell_type": "code",
      "source": [
        "log_reg3 = LogisticRegression(random_state=10, solver = 'lbfgs', C=0.00011288)\n",
        "log_reg3.fit(X_train, y_train)\n",
        "score = log_reg3.score(X_test, y_test)\n",
        "\n",
        "pred_proba_t = log_reg3.predict_proba(X_test)\n",
        "log_loss2 = log_loss(y_test, pred_proba_t)\n",
        "\n",
        "print(\"Testing Acc:\", score)\n",
        "print(\"Log Loss:\", log_loss2)"
      ],
      "metadata": {
        "id": "UMEadokMWOiP"
      },
      "execution_count": null,
      "outputs": []
    },
    {
      "cell_type": "markdown",
      "source": [
        "***Рандомные деревья***"
      ],
      "metadata": {
        "id": "Zxs7ejZUZjgA"
      }
    },
    {
      "cell_type": "code",
      "source": [
        "from sklearn.ensemble import RandomForestClassifier"
      ],
      "metadata": {
        "id": "3g3EJ7duXNmk"
      },
      "execution_count": null,
      "outputs": []
    },
    {
      "cell_type": "code",
      "source": [
        "rf = RandomForestClassifier(criterion='entropy', n_estimators=20)"
      ],
      "metadata": {
        "id": "J5BWHWUsZn_-"
      },
      "execution_count": null,
      "outputs": []
    },
    {
      "cell_type": "code",
      "source": [
        "rf.fit(X_train, y_train)"
      ],
      "metadata": {
        "id": "i1edP4CHZu_n"
      },
      "execution_count": null,
      "outputs": []
    },
    {
      "cell_type": "code",
      "source": [
        "rf_prediction_test = rf.predict(X_test)"
      ],
      "metadata": {
        "id": "EJZ8XBNUZwkK"
      },
      "execution_count": null,
      "outputs": []
    },
    {
      "cell_type": "code",
      "source": [
        "print('The training accuracy is ', rf.score(X_train, y_train))\n",
        "print('The testing accuracy is ', rf.score(X_test, y_test))"
      ],
      "metadata": {
        "id": "7Fw041O9Z0FT"
      },
      "execution_count": null,
      "outputs": []
    },
    {
      "cell_type": "code",
      "source": [
        "cm = confusion_matrix(y_test, rf_prediction_test)\n",
        "cm_norm = cm / cm.sum(axis = 1)[:, np.newaxis]\n",
        "plt.figure()\n",
        "plot_confusion_matrix(cm_norm, classes = rf.classes_)"
      ],
      "metadata": {
        "id": "Wbln9HVpZ_Ix"
      },
      "execution_count": null,
      "outputs": []
    },
    {
      "cell_type": "code",
      "source": [
        "from itertools import product\n",
        "\n",
        "n_estimators = 100\n",
        "max_features = [1, 'sqrt', 'log2']\n",
        "max_depth = [None, 2, 3, 4, 5]\n",
        "for f,d in product(max_features, max_depth):\n",
        "  rf = RandomForestClassifier(n_estimators = n_estimators,\n",
        "                              max_features = f,\n",
        "                              max_depth = d,\n",
        "                              criterion = 'entropy', \n",
        "                              random_state = 120, \n",
        "                              n_jobs = 2)\n",
        "  rf.fit(X_train, y_train)\n",
        "  rf_prediction_test = rf.predict(X_test)\n",
        "  print('Classification accuracy on test set with max features = {} and max_depth = {}: {:.3f}'.format(f,d, accuracy_score(y_test, rf_prediction_test)))\n",
        "  cm = confusion_matrix(y_test, rf_prediction_test)\n",
        "  cm_norm = cm / cm.sum(axis=1)[:, np.newaxis]\n",
        "  plt.figure(figsize = (12,9))\n",
        "  plot_confusion_matrix(cm_norm, classes = rf.classes_,\n",
        "  title='Confusion matrix accuracy on test set with max features = {} and max_depth = {}: {:.3f}'.format(f, d, accuracy_score(y_test,rf_prediction_test)))\n"
      ],
      "metadata": {
        "id": "Emash_GkaW35"
      },
      "execution_count": null,
      "outputs": []
    },
    {
      "cell_type": "code",
      "source": [
        " #%pip install https://s3-us-west-2.amazonaws.com/xgboost-nightly-builds/master/xgboost-1.6.0.dev0%2B1d468e20a4fff83f3149e99371b67e6b31f64152-py3-none-manylinux2014_x86_64.whl\n"
      ],
      "metadata": {
        "id": "txDgXBYqchww"
      },
      "execution_count": null,
      "outputs": []
    },
    {
      "cell_type": "code",
      "source": [
        "from sklearn.model_selection import RandomizedSearchCV\n",
        "import xgboost"
      ],
      "metadata": {
        "id": "Bryb14nueK3X"
      },
      "execution_count": null,
      "outputs": []
    },
    {
      "cell_type": "code",
      "source": [
        "classifier = xgboost.XGBClassifier(tree_method='gpu_hist')\n",
        "\n",
        "params = {\n",
        "          \"learning_rate\":[0.05,0.10,0.15,0.20,0.25,0.30],\n",
        "          \"max_depth\":[2,3,4,5,6,8,10,12,15],\n",
        "          \"min_child_weight\":[1,3,5,7],\n",
        "          \"gamma\":[0.0,0.1,0.2,0.3,0.4],\n",
        "          \"colsample_bytree\":[0.3,0.4,0.5,0.7]\n",
        "}"
      ],
      "metadata": {
        "id": "2nZM0nh6efRV"
      },
      "execution_count": null,
      "outputs": []
    },
    {
      "cell_type": "code",
      "source": [
        "clf = RandomizedSearchCV(classifier, param_distributions = params, n_iter = 5, cv = 5, verbose=2, scoring = 'roc_auc')"
      ],
      "metadata": {
        "id": "zlWAgSAJfF66"
      },
      "execution_count": null,
      "outputs": []
    },
    {
      "cell_type": "code",
      "source": [
        "clf.fit(X,y)"
      ],
      "metadata": {
        "id": "FwjyiIM2fbJ5"
      },
      "execution_count": null,
      "outputs": []
    },
    {
      "cell_type": "code",
      "source": [
        "clf.best_estimator_"
      ],
      "metadata": {
        "id": "PwiBCA56ght_"
      },
      "execution_count": null,
      "outputs": []
    },
    {
      "cell_type": "code",
      "source": [
        "clf.best_params_"
      ],
      "metadata": {
        "id": "mDUj97tngj7L"
      },
      "execution_count": null,
      "outputs": []
    },
    {
      "cell_type": "code",
      "source": [
        "final_model = xgboost.XGBClassifier(colsample_bytree=0.5, gamma=0.1, max_depth=12, min_child_weight=5,\n",
        "              tree_method='gpu_hist')"
      ],
      "metadata": {
        "id": "KMtpXiKPgmsG"
      },
      "execution_count": null,
      "outputs": []
    },
    {
      "cell_type": "code",
      "source": [
        "final_model.fit(X, y)"
      ],
      "metadata": {
        "id": "ooV46W-Pgrj8"
      },
      "execution_count": null,
      "outputs": []
    },
    {
      "cell_type": "code",
      "source": [
        "pred_xgboost = final_model.predict(X)"
      ],
      "metadata": {
        "id": "ZH5yNMbqguII"
      },
      "execution_count": null,
      "outputs": []
    },
    {
      "cell_type": "code",
      "source": [
        "cm = confusion_matrix(y, pred_xgboost)\n",
        "cm_norm = cm/cm.sum(axis=1)[:, np.newaxis]\n",
        "plt.figure()\n",
        "plot_confusion_matrix(cm_norm, classes=rf.classes_)"
      ],
      "metadata": {
        "id": "oWeq8wL6g0Rv"
      },
      "execution_count": null,
      "outputs": []
    },
    {
      "cell_type": "code",
      "source": [
        "print('The testing accuracy is ', final_model.score(X, y))"
      ],
      "metadata": {
        "id": "DnQvVOo-g_9e"
      },
      "execution_count": null,
      "outputs": []
    },
    {
      "cell_type": "code",
      "source": [
        ""
      ],
      "metadata": {
        "id": "FkP0VSHzhDAH"
      },
      "execution_count": null,
      "outputs": []
    }
  ]
}
