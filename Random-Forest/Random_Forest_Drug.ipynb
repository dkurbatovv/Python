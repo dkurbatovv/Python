{
  "nbformat": 4,
  "nbformat_minor": 0,
  "metadata": {
    "colab": {
      "name": "Random_Forest_Drug.ipynb",
      "private_outputs": true,
      "provenance": [],
      "authorship_tag": "ABX9TyM5Lb8Z6p+CZRB+cHUs+QFM",
      "include_colab_link": true
    },
    "kernelspec": {
      "name": "python3",
      "display_name": "Python 3"
    },
    "language_info": {
      "name": "python"
    },
    "accelerator": "GPU"
  },
  "cells": [
    {
      "cell_type": "markdown",
      "metadata": {
        "id": "view-in-github",
        "colab_type": "text"
      },
      "source": [
        "<a href=\"https://colab.research.google.com/github/dkurbatovv/Python/blob/main/Random_Forest_Drug.ipynb\" target=\"_parent\"><img src=\"https://colab.research.google.com/assets/colab-badge.svg\" alt=\"Open In Colab\"/></a>"
      ]
    },
    {
      "cell_type": "code",
      "execution_count": null,
      "metadata": {
        "id": "a3tOm7X-g_Ie"
      },
      "outputs": [],
      "source": [
        "# Packages / libraries\n",
        "import os #provides functions for interacting with the operating system\n",
        "import numpy as np \n",
        "import pandas as pd\n",
        "from matplotlib import pyplot as plt\n",
        "import seaborn as sns\n",
        "\n",
        "%matplotlib inline\n",
        "\n",
        "# To install sklearn type \"pip install numpy scipy scikit-learn\" to the anaconda terminal\n",
        "\n",
        "# To change scientific numbers to float\n",
        "np.set_printoptions(formatter={'float_kind':'{:f}'.format})\n",
        "\n",
        "# Increases the size of sns plots\n",
        "sns.set(rc={'figure.figsize':(8,6)})\n",
        "\n",
        "# Datetime lib\n",
        "from pandas import to_datetime\n",
        "import itertools\n",
        "import warnings\n",
        "import datetime\n",
        "warnings.filterwarnings('ignore')\n",
        "\n",
        "from sklearn.preprocessing import MinMaxScaler\n",
        "from sklearn.model_selection import train_test_split\n",
        "from sklearn import tree\n",
        "from sklearn.tree import DecisionTreeClassifier, export_graphviz\n",
        "from sklearn.ensemble import RandomForestClassifier\n",
        "from sklearn.metrics import accuracy_score, confusion_matrix, r2_score\n",
        "\n",
        "# pip install graphviz\n",
        "# conda install python-graphviz\n"
      ]
    },
    {
      "cell_type": "code",
      "source": [
        "df = pd.read_csv('drug200.csv')"
      ],
      "metadata": {
        "id": "4czxMn-ljyFt"
      },
      "execution_count": null,
      "outputs": []
    },
    {
      "cell_type": "code",
      "source": [
        "df.head()"
      ],
      "metadata": {
        "id": "v0KJXNabj5R1"
      },
      "execution_count": null,
      "outputs": []
    },
    {
      "cell_type": "code",
      "source": [
        "df.info()"
      ],
      "metadata": {
        "id": "9KRpjwIrj6FC"
      },
      "execution_count": null,
      "outputs": []
    },
    {
      "cell_type": "code",
      "source": [
        "for column in df:\n",
        "  unique_value = np.unique(df[column])\n",
        "  nr_value = len(unique_value)\n",
        "\n",
        "  if nr_value < 12:\n",
        "    print('The number of values for feature {} :{} -- {}'.format(column, nr_value,unique_value))\n",
        "  else:\n",
        "    print('The number of values for feature {} :{}'.format(column, nr_value))"
      ],
      "metadata": {
        "id": "oovLwcy_j_v1"
      },
      "execution_count": null,
      "outputs": []
    },
    {
      "cell_type": "code",
      "source": [
        "sns.pairplot(data = df, hue = 'Drug', diag_kws={'bw': 0.2})"
      ],
      "metadata": {
        "id": "OnahISI6kSKl"
      },
      "execution_count": null,
      "outputs": []
    },
    {
      "cell_type": "code",
      "source": [
        "df.head()"
      ],
      "metadata": {
        "id": "5DCf47HlmEJK"
      },
      "execution_count": null,
      "outputs": []
    },
    {
      "cell_type": "code",
      "source": [
        "df['Sex'][df['Sex'] == 'F'] = 0\n",
        "df['Sex'][df['Sex'] == 'M'] = 1"
      ],
      "metadata": {
        "id": "8J8l14qemwsH"
      },
      "execution_count": null,
      "outputs": []
    },
    {
      "cell_type": "code",
      "source": [
        "df['Cholesterol'][df['Cholesterol'] == 'NORMAL'] = 0\n",
        "df['Cholesterol'][df['Cholesterol'] == 'HIGH'] = 1"
      ],
      "metadata": {
        "id": "HkbSh58dm2gW"
      },
      "execution_count": null,
      "outputs": []
    },
    {
      "cell_type": "code",
      "source": [
        "df = pd.get_dummies(df, columns = ['BP'])"
      ],
      "metadata": {
        "id": "AZhji_fknC-e"
      },
      "execution_count": null,
      "outputs": []
    },
    {
      "cell_type": "code",
      "source": [
        "df.head()"
      ],
      "metadata": {
        "id": "L4BUUbO4nVE7"
      },
      "execution_count": null,
      "outputs": []
    },
    {
      "cell_type": "code",
      "source": [
        "df['Drug'][df['Drug'] == 'drugA'] = 0\n",
        "df['Drug'][df['Drug'] == 'drugB'] = 1\n",
        "df['Drug'][df['Drug'] == 'drugC'] = 2\n",
        "df['Drug'][df['Drug'] == 'drugX'] = 3\n",
        "df['Drug'][df['Drug'] == 'DrugY'] = 4\n"
      ],
      "metadata": {
        "id": "4p37f2UHnV6Q"
      },
      "execution_count": null,
      "outputs": []
    },
    {
      "cell_type": "code",
      "source": [
        "df.head()"
      ],
      "metadata": {
        "id": "HFfFuOZ2npnY"
      },
      "execution_count": null,
      "outputs": []
    },
    {
      "cell_type": "code",
      "source": [
        "df = df.astype(float)\n",
        "df['Drug'] = df['Drug'].astype(int)\n",
        "df.info()"
      ],
      "metadata": {
        "id": "LqgkV6wRnrnn"
      },
      "execution_count": null,
      "outputs": []
    },
    {
      "cell_type": "code",
      "source": [
        "df.head()\n"
      ],
      "metadata": {
        "id": "_lEt7vePnvge"
      },
      "execution_count": null,
      "outputs": []
    },
    {
      "cell_type": "code",
      "source": [
        "X = df.drop('Drug', axis = 1)\n",
        "y = df['Drug']\n",
        "\n",
        "print(X.shape, y.shape)"
      ],
      "metadata": {
        "id": "9D97GQmLn-B8"
      },
      "execution_count": null,
      "outputs": []
    },
    {
      "cell_type": "code",
      "source": [
        "X_train, X_test, y_train, y_test = train_test_split(X, y, test_size = 0.3, random_state = 10)\n",
        "\n",
        "\n",
        "dt = DecisionTreeClassifier(criterion = 'gini', max_depth = 7)\n",
        "dt.fit(X_train, y_train)\n",
        "\n",
        "y_pred = dt.predict(X_train)\n",
        "\n",
        "\n",
        "print('The training accyracy is ', dt.score(X_train, y_train))\n",
        "print('The testing accyracy is ', dt.score(X_test, y_test))"
      ],
      "metadata": {
        "id": "RJHItmu4oWcW"
      },
      "execution_count": null,
      "outputs": []
    },
    {
      "cell_type": "code",
      "source": [
        "import graphviz \n",
        "\n",
        "dot_data = tree.export_graphviz(dt, out_file=None, \n",
        "    feature_names=df.drop('Drug', axis=1).columns,    \n",
        "    class_names=df['Drug'].unique().astype(str),  \n",
        "    filled=True, rounded=True,  \n",
        "    special_characters=True)\n",
        "graph = graphviz.Source(dot_data)\n",
        "graph"
      ],
      "metadata": {
        "id": "8s_xM0OFo9oB"
      },
      "execution_count": null,
      "outputs": []
    },
    {
      "cell_type": "code",
      "source": [
        "#del final_fi\n",
        "\n",
        "# Calculating FI\n",
        "for i, column in enumerate(df.drop('Drug', axis=1)):\n",
        "    print('Importance of feature {}:, {:.3f}'.format(column, dt.feature_importances_[i]))\n",
        "    \n",
        "    fi = pd.DataFrame({'Variable': [column], 'Feature Importance Score': [dt.feature_importances_[i]]})\n",
        "    \n",
        "    try:\n",
        "        final_fi = pd.concat([final_fi,fi], ignore_index = True)\n",
        "    except:\n",
        "        final_fi = fi\n",
        "        \n",
        "        \n",
        "# Ordering the data\n",
        "final_fi = final_fi.sort_values('Feature Importance Score', ascending = False).reset_index()            \n",
        "final_fi"
      ],
      "metadata": {
        "id": "VgyD09CapMp7"
      },
      "execution_count": null,
      "outputs": []
    },
    {
      "cell_type": "code",
      "source": [
        "def plot_confusion_matrix(cm, classes=None, title='Confusion Matrix'):\n",
        "  if classes is not None:\n",
        "    sns.heatmap(cm, vmin = 0., vmax = 1.0, annot = True)\n",
        "  else:\n",
        "    sns.heatmap(cm, vmin = 0., vmax = 1.0)\n",
        "  plt.title(title)\n",
        "  plt.ylabel('True label')\n",
        "  plt.xlabel('Predicted label')  "
      ],
      "metadata": {
        "id": "5sfYT9gdpSCD"
      },
      "execution_count": null,
      "outputs": []
    },
    {
      "cell_type": "code",
      "source": [
        "cm = confusion_matrix(y_train, y_pred)\n",
        "cm_norm = cm / cm.sum(axis = 1)[:, np.newaxis]\n",
        "plt.figure()\n",
        "plot_confusion_matrix(cm_norm, classes = dt.classes_)"
      ],
      "metadata": {
        "id": "zC9KR1lTp6Dz"
      },
      "execution_count": null,
      "outputs": []
    },
    {
      "cell_type": "code",
      "source": [
        ""
      ],
      "metadata": {
        "id": "Qs-BYBayqAXD"
      },
      "execution_count": null,
      "outputs": []
    },
    {
      "cell_type": "code",
      "source": [
        "rf = RandomForestClassifier(criterion='gini', n_estimators=200)\n",
        "rf.fit(X_train, y_train)"
      ],
      "metadata": {
        "id": "QILoqw6lsVb3"
      },
      "execution_count": null,
      "outputs": []
    },
    {
      "cell_type": "code",
      "source": [
        "print('The training accyracy is ', rf.score(X_train, y_train))\n",
        "print('The testing accyracy is ', rf.score(X_test, y_test))"
      ],
      "metadata": {
        "id": "BxSQ2AdFsyPr"
      },
      "execution_count": null,
      "outputs": []
    },
    {
      "cell_type": "code",
      "source": [
        "rf_pred = rf.predict(X_test)\n",
        "\n",
        "\n",
        "cm = confusion_matrix(y_test, rf_pred)\n",
        "cm_norm = cm / cm.sum(axis = 1)[:, np.newaxis]\n",
        "plt.figure()\n",
        "plot_confusion_matrix(cm_norm, classes = dt.classes_)\n",
        "\n"
      ],
      "metadata": {
        "id": "rhPSXFocs3Uc"
      },
      "execution_count": null,
      "outputs": []
    },
    {
      "cell_type": "code",
      "source": [
        "from itertools import product\n",
        "\n"
      ],
      "metadata": {
        "id": "auYIEaOqtDaX"
      },
      "execution_count": null,
      "outputs": []
    },
    {
      "cell_type": "code",
      "source": [
        "n_estimators = 100\n",
        "max_depth = [None, 2, 3, 4, 5]\n",
        "max_features = [1, 'sqrt', 'log2']"
      ],
      "metadata": {
        "id": "IwxybPe1tskn"
      },
      "execution_count": null,
      "outputs": []
    },
    {
      "cell_type": "code",
      "source": [
        "for f, d in product(max_features, max_depth):\n",
        "  rf = RandomForestClassifier(criterion = 'entropy', \n",
        "                              max_depth = d,\n",
        "                              max_features = f,\n",
        "                              n_estimators = n_estimators,\n",
        "                              n_jobs = 2,\n",
        "                              random_state = 20)\n",
        "  rf.fit(X_train, y_train)\n",
        "  rf_predict = rf.predict(X_test)\n",
        "  print('Classification accuracy on test set with max features = {} and max_depth = {}: {:.3f}'.format(f, d, accuracy_score(y_test,rf_predict)))\n",
        "  cm = confusion_matrix(y_test, rf_predict)\n",
        "  cm_norm = cm/cm.sum(axis=1)[:, np.newaxis]\n",
        "  plt.figure()\n",
        "  plot_confusion_matrix(cm_norm, classes=rf.classes_,\n",
        "  title='Confusion matrix accuracy on test set with max features = {} and max_depth = {}: {:.3f}'.format(f, d, accuracy_score(y_test,rf_predict)))"
      ],
      "metadata": {
        "id": "6Qg5nsN0t36R"
      },
      "execution_count": null,
      "outputs": []
    },
    {
      "cell_type": "code",
      "source": [
        "from sklearn.model_selection import RandomizedSearchCV\n",
        "import xgboost\n",
        "\n"
      ],
      "metadata": {
        "id": "W45Mml8euovs"
      },
      "execution_count": null,
      "outputs": []
    },
    {
      "cell_type": "code",
      "source": [
        "classifier = xgboost.XGBClassifier(tree_method='gpu_hist')\n",
        "\n",
        "params = {\n",
        "    'learning_rate': [0.05,0.10,0.15,0.20,0.25,0.30],\n",
        "    'max_depth': [2,3,4,5,6,8,10,12,15],\n",
        "    'min_child_weight': [1,3,5,7],\n",
        "    \"gamma\": [0.0,0.1,0.2,0.3,0.4],\n",
        "    \"colsample_bytree\":[0.3,0.4,0.5,0.7]}\n",
        "\n"
      ],
      "metadata": {
        "id": "oPenz3xoByAq"
      },
      "execution_count": null,
      "outputs": []
    },
    {
      "cell_type": "code",
      "source": [
        "clf = RandomizedSearchCV(classifier, param_distributions=params, n_iter = 5, scoring='roc_auc', cv=5, verbose=3)"
      ],
      "metadata": {
        "id": "Ap_ymseZCeUf"
      },
      "execution_count": null,
      "outputs": []
    },
    {
      "cell_type": "code",
      "source": [
        "#%pip install https://s3-us-west-2.amazonaws.com/xgboost-nightly-builds/master/xgboost-1.6.0.dev0%2B1d468e20a4fff83f3149e99371b67e6b31f64152-py3-none-manylinux2014_x86_64.whl"
      ],
      "metadata": {
        "id": "KfHkLNG5DqwL"
      },
      "execution_count": null,
      "outputs": []
    },
    {
      "cell_type": "code",
      "source": [
        "clf.fit(X, y)"
      ],
      "metadata": {
        "id": "zITYzLjlCrtR"
      },
      "execution_count": null,
      "outputs": []
    },
    {
      "cell_type": "code",
      "source": [
        "clf.best_params_"
      ],
      "metadata": {
        "id": "-v9SN9bcCuAp"
      },
      "execution_count": null,
      "outputs": []
    },
    {
      "cell_type": "code",
      "source": [
        "best = clf.best_estimator_"
      ],
      "metadata": {
        "id": "BbB-7WcGEqFj"
      },
      "execution_count": null,
      "outputs": []
    },
    {
      "cell_type": "code",
      "source": [
        "final_model = xgboost.XGBClassifier(colsample_bytree=0.4, gamma=0.3, learning_rate=0.3, max_depth=12,\n",
        "              min_child_weight=3, objective='multi:softprob',\n",
        "              tree_method='gpu_hist')"
      ],
      "metadata": {
        "id": "7SRMhC77EuVl"
      },
      "execution_count": null,
      "outputs": []
    },
    {
      "cell_type": "code",
      "source": [
        "final_model.fit(X, y)"
      ],
      "metadata": {
        "id": "EYE3BOEaE1a7"
      },
      "execution_count": null,
      "outputs": []
    },
    {
      "cell_type": "code",
      "source": [
        "pred_xgboost = final_model.predict(X)\n",
        "\n",
        "# Confusion Matrix\n",
        "cm = confusion_matrix(y, pred_xgboost)\n",
        "cm_norm = cm/cm.sum(axis=1)[:, np.newaxis]\n",
        "plt.figure()\n",
        "plot_confusion_matrix(cm_norm, classes=rf.classes_)"
      ],
      "metadata": {
        "id": "iwiqyednFIHr"
      },
      "execution_count": null,
      "outputs": []
    },
    {
      "cell_type": "code",
      "source": [
        ""
      ],
      "metadata": {
        "id": "ZA786cseFK7U"
      },
      "execution_count": null,
      "outputs": []
    }
  ]
}
