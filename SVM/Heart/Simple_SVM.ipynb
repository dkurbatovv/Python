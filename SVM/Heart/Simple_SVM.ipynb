{
  "nbformat": 4,
  "nbformat_minor": 0,
  "metadata": {
    "colab": {
      "name": "Untitled38.ipynb",
      "private_outputs": true,
      "provenance": [],
      "authorship_tag": "ABX9TyN1lJAMPyPafi0RAsZB7AFh",
      "include_colab_link": true
    },
    "kernelspec": {
      "name": "python3",
      "display_name": "Python 3"
    },
    "language_info": {
      "name": "python"
    }
  },
  "cells": [
    {
      "cell_type": "markdown",
      "metadata": {
        "id": "view-in-github",
        "colab_type": "text"
      },
      "source": [
        "<a href=\"https://colab.research.google.com/github/kurbatovdi/kurbatovdi/blob/main/Simple_SVM.ipynb\" target=\"_parent\"><img src=\"https://colab.research.google.com/assets/colab-badge.svg\" alt=\"Open In Colab\"/></a>"
      ]
    },
    {
      "cell_type": "code",
      "execution_count": null,
      "metadata": {
        "id": "6bemiOY8NuE2"
      },
      "outputs": [],
      "source": [
        "#Import python packages\n",
        "import numpy as np \n",
        "import pandas as pd \n",
        "import seaborn as sns\n",
        "import matplotlib.pyplot as plt\n",
        "from sklearn.model_selection import train_test_split # Import train_test_split function\n",
        "from sklearn import svm #Import svm model\n",
        "from sklearn import metrics #Import scikit-learn metrics module for accuracy calculation\n",
        "from sklearn.metrics import confusion_matrix"
      ]
    },
    {
      "cell_type": "code",
      "source": [
        "data = pd.read_csv(\"heart.csv\")\n",
        "data.head()"
      ],
      "metadata": {
        "id": "Xzc8gB3DNwX5"
      },
      "execution_count": null,
      "outputs": []
    },
    {
      "cell_type": "code",
      "source": [
        "data.describe()"
      ],
      "metadata": {
        "id": "YF3WtFE0OF-p"
      },
      "execution_count": null,
      "outputs": []
    },
    {
      "cell_type": "code",
      "source": [
        "data.info()"
      ],
      "metadata": {
        "id": "cW43wHudOMhk"
      },
      "execution_count": null,
      "outputs": []
    },
    {
      "cell_type": "code",
      "source": [
        "data.isnull().sum()"
      ],
      "metadata": {
        "id": "MCVFRFJ-OQ55"
      },
      "execution_count": null,
      "outputs": []
    },
    {
      "cell_type": "code",
      "source": [
        "corr = data.corr()\n",
        "f = plt.figure(figsize=(12,10))\n",
        "sns.heatmap(corr, cmap='inferno', annot=True, )"
      ],
      "metadata": {
        "id": "NnmG9qhZOUyQ"
      },
      "execution_count": null,
      "outputs": []
    },
    {
      "cell_type": "code",
      "source": [
        "x = data.drop([\"target\"], axis = 1)\n",
        "y = data[\"target\"]"
      ],
      "metadata": {
        "id": "FfW-awcROsKP"
      },
      "execution_count": null,
      "outputs": []
    },
    {
      "cell_type": "code",
      "source": [
        "y.head()"
      ],
      "metadata": {
        "id": "qb-e70CSPKDd"
      },
      "execution_count": null,
      "outputs": []
    },
    {
      "cell_type": "code",
      "source": [
        "x_train, x_test, y_train, y_test = train_test_split(x, y, test_size=0.3, random_state = 109)"
      ],
      "metadata": {
        "id": "2ZDFLjb-PLxY"
      },
      "execution_count": null,
      "outputs": []
    },
    {
      "cell_type": "code",
      "source": [
        "#Тренируем и тестируем нашу модель Методом главных компонент"
      ],
      "metadata": {
        "id": "Zgq2a7H-PaSV"
      },
      "execution_count": null,
      "outputs": []
    },
    {
      "cell_type": "code",
      "source": [
        "model = svm.SVC(kernel=\"linear\")\n",
        "model.fit(x_train, y_train)"
      ],
      "metadata": {
        "id": "zl9TPawNPfTC"
      },
      "execution_count": null,
      "outputs": []
    },
    {
      "cell_type": "code",
      "source": [
        "y_pred = model.predict(x_test)"
      ],
      "metadata": {
        "id": "Rhkdp-MmPpwQ"
      },
      "execution_count": null,
      "outputs": []
    },
    {
      "cell_type": "code",
      "source": [
        "print(model.score(x_test, y_test))   #насколько наша модель точна"
      ],
      "metadata": {
        "id": "giaSgbVjP4QX"
      },
      "execution_count": null,
      "outputs": []
    },
    {
      "cell_type": "code",
      "source": [
        "confusion_matrix(y_test,y_pred)"
      ],
      "metadata": {
        "id": "N8GoC7XDQCCC"
      },
      "execution_count": null,
      "outputs": []
    },
    {
      "cell_type": "code",
      "source": [
        "#35 пациентам было предсказано, что у них будет болезнь сердца, прогноз был ПРАВИЛЬНЫМ (истинно-положительным)\n",
        "#47 пациентам было предсказано, что у них НЕ будет сердечных заболеваний, прогноз был ПРАВИЛЬНЫМ (Истинно-Отрицательный)\n",
        "#5 пациентам было предсказано, что у них будет болезнь сердца, но предсказание было НЕПРАВИЛЬНЫМ (ложноположительным)\n",
        "#4 пациентам было предсказано, что у них НЕ будет сердечных заболеваний, но прогноз был НЕПРАВИЛЬНЫМ (ложноотрицательный)\n"
      ],
      "metadata": {
        "id": "SIGwXwaHQKGc"
      },
      "execution_count": null,
      "outputs": []
    }
  ]
}
