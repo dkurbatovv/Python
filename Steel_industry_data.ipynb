{
  "nbformat": 4,
  "nbformat_minor": 0,
  "metadata": {
    "colab": {
      "name": "Steel_industry_data.ipynb",
      "private_outputs": true,
      "provenance": [],
      "authorship_tag": "ABX9TyNR89E3d1IMK42lKgh2qa8o",
      "include_colab_link": true
    },
    "kernelspec": {
      "name": "python3",
      "display_name": "Python 3"
    },
    "language_info": {
      "name": "python"
    }
  },
  "cells": [
    {
      "cell_type": "markdown",
      "metadata": {
        "id": "view-in-github",
        "colab_type": "text"
      },
      "source": [
        "<a href=\"https://colab.research.google.com/github/dkurbatovv/Python/blob/main/Steel_industry_data.ipynb\" target=\"_parent\"><img src=\"https://colab.research.google.com/assets/colab-badge.svg\" alt=\"Open In Colab\"/></a>"
      ]
    },
    {
      "cell_type": "code",
      "execution_count": null,
      "metadata": {
        "id": "P--JyoGX972f"
      },
      "outputs": [],
      "source": [
        "#import library\n",
        "import numpy as np\n",
        "import math\n",
        "import pandas as pd\n",
        "import seaborn as sns\n",
        "import matplotlib.pyplot as plt\n",
        "from sklearn.model_selection import train_test_split\n",
        "from sklearn.linear_model import LinearRegression\n",
        "from sklearn.metrics import classification_report, confusion_matrix, r2_score"
      ]
    },
    {
      "cell_type": "code",
      "source": [
        "df = pd.read_csv('Steel_industry_data.csv')"
      ],
      "metadata": {
        "id": "EktwiLEd-MTY"
      },
      "execution_count": null,
      "outputs": []
    },
    {
      "cell_type": "code",
      "source": [
        "df.head()"
      ],
      "metadata": {
        "id": "sm6xwXlK-U8W"
      },
      "execution_count": null,
      "outputs": []
    },
    {
      "cell_type": "code",
      "source": [
        "df.info()"
      ],
      "metadata": {
        "id": "JQXyHN9t-VZL"
      },
      "execution_count": null,
      "outputs": []
    },
    {
      "cell_type": "code",
      "source": [
        "df.dropna()"
      ],
      "metadata": {
        "id": "KKcHzaQ9CS_w"
      },
      "execution_count": null,
      "outputs": []
    },
    {
      "cell_type": "code",
      "source": [
        "for column in df:\n",
        "  unique_val = np.unique(df[column])\n",
        "  nr_val = len(unique_val)\n",
        "  if nr_val < 12:\n",
        "    print('The number of values for feature {} : {} -- :{}'.format(column, nr_val, unique_val))\n",
        "  else:\n",
        "    print('The number of values for feature {} : {}'.format(column, nr_val)) "
      ],
      "metadata": {
        "id": "AEEw4H9mCu_G"
      },
      "execution_count": null,
      "outputs": []
    },
    {
      "cell_type": "code",
      "source": [
        "df = df.rename(columns = {'Lagging_Current_Reactive.Power_kVarh' : 'Lagging_Current_Reactive_Power_kVarh', \n",
        "                          'CO2(tCO2)' : 'CO2'})"
      ],
      "metadata": {
        "id": "ShnwmAoeC-mq"
      },
      "execution_count": null,
      "outputs": []
    },
    {
      "cell_type": "code",
      "source": [
        "df.head()"
      ],
      "metadata": {
        "id": "CuyQC_G3C__H"
      },
      "execution_count": null,
      "outputs": []
    },
    {
      "cell_type": "code",
      "source": [
        "df.columns"
      ],
      "metadata": {
        "id": "OXSO6OIwDAtg"
      },
      "execution_count": null,
      "outputs": []
    },
    {
      "cell_type": "code",
      "source": [
        "df =df.rename(columns = { 'Usage_kWh' : 'Usage kWh', 'Lagging_Current_Reactive_Power_kVarh' : 'Lagging Current Reactive Power kVarh',\n",
        "       'Leading_Current_Reactive_Power_kVarh' : 'Leading Current Reactive Power kVarh', \n",
        "       'Lagging_Current_Power_Factor' : 'Lagging Current Power Factor', 'Leading_Current_Power_Factor' : 'Leading Current Power Factor',\n",
        "        'Day_of_week': 'Day of week', 'Load_Type' : 'Load Type'})"
      ],
      "metadata": {
        "id": "tUTRbfdMDEu0"
      },
      "execution_count": null,
      "outputs": []
    },
    {
      "cell_type": "code",
      "source": [
        "df.head()"
      ],
      "metadata": {
        "id": "oU20cbOiDtjk"
      },
      "execution_count": null,
      "outputs": []
    },
    {
      "cell_type": "code",
      "source": [
        "plt.figure(figsize=(12,8))\n",
        "x = df['Usage kWh'].values\n",
        "sns.distplot(x, color = 'blue')"
      ],
      "metadata": {
        "id": "rLFH5RWLDybo"
      },
      "execution_count": null,
      "outputs": []
    },
    {
      "cell_type": "code",
      "source": [
        "most_energy_consumption = pd.pivot_table(data = df, index = 'date', values = 'Usage kWh', aggfunc = {'Usage kWh' : np.max})"
      ],
      "metadata": {
        "id": "SDiAS0PrD_Pd"
      },
      "execution_count": null,
      "outputs": []
    },
    {
      "cell_type": "code",
      "source": [
        "most_energy_consumption.head()"
      ],
      "metadata": {
        "id": "nSeCiSNrErPh"
      },
      "execution_count": null,
      "outputs": []
    },
    {
      "cell_type": "code",
      "source": [
        "#visualize energy consumption based on week status and load type\n",
        "plt.figure(figsize = (7,5))\n",
        "chart = df.groupby(['WeekStatus','Load Type'])['Usage kWh'].mean().unstack().plot(kind = 'bar')\n",
        "chart.set_xticklabels(chart.get_xticklabels(), rotation = 0)\n",
        "plt.title('Energy Consumption based on Week Status and Load Type')\n",
        "plt.xlabel('Week Status')\n",
        "plt.ylabel('Energy Consumption')\n",
        "plt.legend(bbox_to_anchor = (1.3, 1), borderaxespad = 0)\n",
        "plt.show()"
      ],
      "metadata": {
        "id": "iqpssNedEvRZ"
      },
      "execution_count": null,
      "outputs": []
    },
    {
      "cell_type": "code",
      "source": [
        "#distribution of each variable\n",
        "df.hist(figsize = (15,10))\n",
        "plt.show()"
      ],
      "metadata": {
        "id": "_j21Y6mQE85M"
      },
      "execution_count": null,
      "outputs": []
    },
    {
      "cell_type": "code",
      "source": [
        "df = df.set_index('date')"
      ],
      "metadata": {
        "id": "qRDHiUyTFjQE"
      },
      "execution_count": null,
      "outputs": []
    },
    {
      "cell_type": "code",
      "source": [
        "df = pd.get_dummies(df, drop_first = True)\n",
        "df.head()"
      ],
      "metadata": {
        "id": "sAqStpkDFqbc"
      },
      "execution_count": null,
      "outputs": []
    },
    {
      "cell_type": "code",
      "source": [
        "X = df.drop('Usage kWh', axis = 1)\n",
        "y = df['Usage kWh']"
      ],
      "metadata": {
        "id": "XGwAC_g2FyWR"
      },
      "execution_count": null,
      "outputs": []
    },
    {
      "cell_type": "code",
      "source": [
        "X_train, X_test, y_train, y_test = train_test_split(X, y, test_size = 0.3, random_state = 42)"
      ],
      "metadata": {
        "id": "sWyNnjlxF4kY"
      },
      "execution_count": null,
      "outputs": []
    },
    {
      "cell_type": "code",
      "source": [
        "lr = LinearRegression()\n",
        "lr.fit(X_train, y_train)"
      ],
      "metadata": {
        "id": "Gs5RKqlQF8NY"
      },
      "execution_count": null,
      "outputs": []
    },
    {
      "cell_type": "code",
      "source": [
        "lr_pred = lr.predict(X_train)"
      ],
      "metadata": {
        "id": "TQ17RSuvF_Pz"
      },
      "execution_count": null,
      "outputs": []
    },
    {
      "cell_type": "code",
      "source": [
        "print('The training accuracy is:', lr.score(X_train, y_train))"
      ],
      "metadata": {
        "id": "9NltuU2FGCev"
      },
      "execution_count": null,
      "outputs": []
    },
    {
      "cell_type": "code",
      "source": [
        "print('The testing accuracy is:', lr.score(X_test, y_test))"
      ],
      "metadata": {
        "id": "ih18vxvgGI-6"
      },
      "execution_count": null,
      "outputs": []
    },
    {
      "cell_type": "code",
      "source": [
        ""
      ],
      "metadata": {
        "id": "s6EwuMuRNarq"
      },
      "execution_count": null,
      "outputs": []
    }
  ]
}