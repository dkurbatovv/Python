{
  "nbformat": 4,
  "nbformat_minor": 0,
  "metadata": {
    "colab": {
      "name": "Abalone_Age_predict.ipynb",
      "private_outputs": true,
      "provenance": [],
      "authorship_tag": "ABX9TyMxXtIWFwvsmJaIEFZXdusP",
      "include_colab_link": true
    },
    "kernelspec": {
      "name": "python3",
      "display_name": "Python 3"
    },
    "language_info": {
      "name": "python"
    }
  },
  "cells": [
    {
      "cell_type": "markdown",
      "metadata": {
        "id": "view-in-github",
        "colab_type": "text"
      },
      "source": [
        "<a href=\"https://colab.research.google.com/github/dkurbatovv/Python/blob/main/Abalone_Age_predict.ipynb\" target=\"_parent\"><img src=\"https://colab.research.google.com/assets/colab-badge.svg\" alt=\"Open In Colab\"/></a>"
      ]
    },
    {
      "cell_type": "code",
      "execution_count": null,
      "metadata": {
        "id": "QSMqCzHZLSWK"
      },
      "outputs": [],
      "source": [
        "import pandas as pd\n",
        "import numpy as np\n",
        "import matplotlib.pyplot as plt\n",
        "import seaborn as sns\n",
        "\n",
        "from sklearn.model_selection import train_test_split\n",
        "from sklearn.preprocessing import LabelEncoder\n",
        "from sklearn.metrics import r2_score, confusion_matrix, accuracy_score, log_loss, classification_report\n",
        "from sklearn.tree import DecisionTreeClassifier\n",
        "from sklearn.linear_model import LinearRegression, LogisticRegression"
      ]
    },
    {
      "cell_type": "code",
      "source": [
        "columns_name = ['Sex', 'Length', 'Diameter', 'Height', 'Whole weight', 'Shucked weight', 'Viscera weigh', 'Shell weight', 'Rings']"
      ],
      "metadata": {
        "id": "MFd_w90EMPZ5"
      },
      "execution_count": null,
      "outputs": []
    },
    {
      "cell_type": "code",
      "source": [
        "df = pd.read_csv('abalone.data', names = columns_name, header = None)"
      ],
      "metadata": {
        "id": "9actmDq0M1pQ"
      },
      "execution_count": null,
      "outputs": []
    },
    {
      "cell_type": "code",
      "source": [
        "df.head()"
      ],
      "metadata": {
        "id": "Xq_ziO0sM8bC"
      },
      "execution_count": null,
      "outputs": []
    },
    {
      "cell_type": "code",
      "source": [
        "df.info()"
      ],
      "metadata": {
        "id": "A-2B7gKFNDxh"
      },
      "execution_count": null,
      "outputs": []
    },
    {
      "cell_type": "code",
      "source": [
        "df.isnull().sum()"
      ],
      "metadata": {
        "id": "6hVnJaE-OVjU"
      },
      "execution_count": null,
      "outputs": []
    },
    {
      "cell_type": "code",
      "source": [
        "df.dropna()"
      ],
      "metadata": {
        "id": "KKxJQnMjOY2G"
      },
      "execution_count": null,
      "outputs": []
    },
    {
      "cell_type": "code",
      "source": [
        "plt.figure(figsize=(12,10))\n",
        "sns.countplot(data = df, x = 'Sex', palette = 'Set1')"
      ],
      "metadata": {
        "id": "3rtCdHY0OaGs"
      },
      "execution_count": null,
      "outputs": []
    },
    {
      "cell_type": "code",
      "source": [
        "df.hist(bins = 50, figsize = (12,10))\n",
        "plt.show()"
      ],
      "metadata": {
        "id": "69NOFmeeOlhl"
      },
      "execution_count": null,
      "outputs": []
    },
    {
      "cell_type": "code",
      "source": [
        "df['age'] = df['Rings'] + 1.5"
      ],
      "metadata": {
        "id": "TfjoknOeR7JS"
      },
      "execution_count": null,
      "outputs": []
    },
    {
      "cell_type": "code",
      "source": [
        "plt.figure(figsize=(12,8))\n",
        "sn = sns.countplot(x='age',data=df, hue='Sex', palette=['pink','crimson',\"Yellow\"])"
      ],
      "metadata": {
        "id": "yzaSduEqQAq0"
      },
      "execution_count": null,
      "outputs": []
    },
    {
      "cell_type": "code",
      "source": [
        "le = LabelEncoder()\n",
        "df['Sex'] = le.fit_transform(df['Sex'])"
      ],
      "metadata": {
        "id": "pxS8riysTda3"
      },
      "execution_count": null,
      "outputs": []
    },
    {
      "cell_type": "code",
      "source": [
        "df.head()"
      ],
      "metadata": {
        "id": "ksqW-QVGThSh"
      },
      "execution_count": null,
      "outputs": []
    },
    {
      "cell_type": "code",
      "source": [
        "new_df = df.drop('Rings', axis = 1)"
      ],
      "metadata": {
        "id": "cl5wmreJTh-a"
      },
      "execution_count": null,
      "outputs": []
    },
    {
      "cell_type": "code",
      "source": [
        "new_df.head()\n",
        "\n"
      ],
      "metadata": {
        "id": "6KzVtTIEc7WM"
      },
      "execution_count": null,
      "outputs": []
    },
    {
      "cell_type": "code",
      "source": [
        "model = LinearRegression()"
      ],
      "metadata": {
        "id": "KkiGce53c87p"
      },
      "execution_count": null,
      "outputs": []
    },
    {
      "cell_type": "code",
      "source": [
        "X = new_df.drop('age', axis = 1)\n",
        "y = new_df['age']"
      ],
      "metadata": {
        "id": "panjqVrmdMZU"
      },
      "execution_count": null,
      "outputs": []
    },
    {
      "cell_type": "code",
      "source": [
        "X_train, X_test, y_train, y_test  = train_test_split(X, y, test_size = 0.2, random_state = 42)"
      ],
      "metadata": {
        "id": "jsOXvjRbdHcC"
      },
      "execution_count": null,
      "outputs": []
    },
    {
      "cell_type": "code",
      "source": [
        "model.fit(X_train, y_train)"
      ],
      "metadata": {
        "id": "seRNK2fDdVnl"
      },
      "execution_count": null,
      "outputs": []
    },
    {
      "cell_type": "code",
      "source": [
        "y_pred = model.predict(X_train)"
      ],
      "metadata": {
        "id": "9BdtdLo6daR6"
      },
      "execution_count": null,
      "outputs": []
    },
    {
      "cell_type": "code",
      "source": [
        "print('The Accuracy  on the training dataset is: ', model.score(X_train, y_train) )\n",
        "print('The Accuracy r2  on the training dataset is: ',r2_score(y_train,y_pred) )   "
      ],
      "metadata": {
        "id": "doxjKHFWd282"
      },
      "execution_count": null,
      "outputs": []
    },
    {
      "cell_type": "code",
      "source": [
        "print('The Accuracy  on the training dataset is: ', model.score(X_test, y_test) )\n",
        "print('The Accuracy r2  on the training dataset is: ',r2_score(y_test,model.predict(X_test)) )   "
      ],
      "metadata": {
        "id": "jSaDNlEcd8gs"
      },
      "execution_count": null,
      "outputs": []
    },
    {
      "cell_type": "code",
      "source": [
        "df.describe()"
      ],
      "metadata": {
        "id": "14h37foveFwJ"
      },
      "execution_count": null,
      "outputs": []
    },
    {
      "cell_type": "code",
      "source": [
        "Age = []\n",
        "for i in df['age']:\n",
        "  if i > 11.4:\n",
        "    Age.append('1')\n",
        "  else:\n",
        "    Age.append('0')\n",
        "\n",
        "new_df['Age'] = Age\n",
        "new_df.drop('age', axis = 1)"
      ],
      "metadata": {
        "id": "QxY7bDUwe7zP"
      },
      "execution_count": null,
      "outputs": []
    },
    {
      "cell_type": "code",
      "source": [
        "X_new = new_df.drop('Age', axis = 1)\n",
        "y_new = new_df['Age']\n",
        "\n",
        "X_train_new, X_test_new, y_train_new, y_test_new  = train_test_split(X_new, y_new, test_size = 0.2, random_state = 42)"
      ],
      "metadata": {
        "id": "lPS3-t_ofl6H"
      },
      "execution_count": null,
      "outputs": []
    },
    {
      "cell_type": "code",
      "source": [
        "lr = LogisticRegression()"
      ],
      "metadata": {
        "id": "wtWhHMNYf6gm"
      },
      "execution_count": null,
      "outputs": []
    },
    {
      "cell_type": "code",
      "source": [
        "lr.fit(X_train_new, y_train_new)"
      ],
      "metadata": {
        "id": "VPbqxhl2gAtV"
      },
      "execution_count": null,
      "outputs": []
    },
    {
      "cell_type": "code",
      "source": [
        "lr_pred = lr.predict(X_train_new)"
      ],
      "metadata": {
        "id": "zejaGvsfgb6g"
      },
      "execution_count": null,
      "outputs": []
    },
    {
      "cell_type": "code",
      "source": [
        "lr_pred_proba = lr.predict_proba(X_train_new)"
      ],
      "metadata": {
        "id": "E50gs3mOgn_I"
      },
      "execution_count": null,
      "outputs": []
    },
    {
      "cell_type": "code",
      "source": [
        "lr.coef_"
      ],
      "metadata": {
        "id": "igpVyKEnhZtG"
      },
      "execution_count": null,
      "outputs": []
    },
    {
      "cell_type": "code",
      "source": [
        "# Accuracy on Train\n",
        "print(\"The Training Accuracy is: \", lr.score(X_train_new, y_train_new))\n",
        "\n",
        "# Accuracy on Test\n",
        "print(\"The Testing Accuracy is: \", lr.score(X_test_new, y_test_new))\n",
        "\n",
        "\n",
        "# Classification Report\n",
        "print(classification_report(y_train_new, lr_pred))"
      ],
      "metadata": {
        "id": "wtxP7lAphcSg"
      },
      "execution_count": null,
      "outputs": []
    },
    {
      "cell_type": "code",
      "source": [
        "# Confusion Matrix function\n",
        "\n",
        "def plot_confusion_matrix(cm, classes=None, title='Confusion matrix'):\n",
        "    \"\"\"Plots a confusion matrix.\"\"\"\n",
        "    if classes is not None:\n",
        "        sns.heatmap(cm, cmap=\"YlGnBu\", xticklabels=classes, yticklabels=classes, vmin=0., vmax=1., annot=True, annot_kws={'size':50})\n",
        "    else:\n",
        "        sns.heatmap(cm, vmin=0., vmax=1.)\n",
        "    plt.title(title)\n",
        "    plt.ylabel('True label')\n",
        "    plt.xlabel('Predicted label')"
      ],
      "metadata": {
        "id": "gOh0KU_Yhnmw"
      },
      "execution_count": null,
      "outputs": []
    },
    {
      "cell_type": "code",
      "source": [
        "cm = confusion_matrix(y_train_new, lr_pred)\n",
        "cm_norm = cm / cm.sum(axis=1).reshape(-1,1)\n",
        "\n",
        "plot_confusion_matrix(cm_norm, classes = lr.classes_, title='Confusion matrix')"
      ],
      "metadata": {
        "id": "0IQs-b6NhvXW"
      },
      "execution_count": null,
      "outputs": []
    },
    {
      "cell_type": "code",
      "source": [
        "new_df['Age'].value_counts()"
      ],
      "metadata": {
        "id": "EbOEPdsNiG2d"
      },
      "execution_count": null,
      "outputs": []
    },
    {
      "cell_type": "code",
      "source": [
        "print('Confusion Matrix: \\n', confusion_matrix(y_test_new, lr.predict(X_test_new)))"
      ],
      "metadata": {
        "id": "7dvz2NwZiTlg"
      },
      "execution_count": null,
      "outputs": []
    },
    {
      "cell_type": "code",
      "source": [
        ""
      ],
      "metadata": {
        "id": "sT9lTVTWisG1"
      },
      "execution_count": null,
      "outputs": []
    }
  ]
}