{
  "nbformat": 4,
  "nbformat_minor": 0,
  "metadata": {
    "colab": {
      "name": "Real and Fake Pokemon Cards.ipynb",
      "private_outputs": true,
      "provenance": [],
      "authorship_tag": "ABX9TyOXIShJvG8qoQxRtXnhezLr",
      "include_colab_link": true
    },
    "kernelspec": {
      "name": "python3",
      "display_name": "Python 3"
    },
    "language_info": {
      "name": "python"
    },
    "accelerator": "GPU"
  },
  "cells": [
    {
      "cell_type": "markdown",
      "metadata": {
        "id": "view-in-github",
        "colab_type": "text"
      },
      "source": [
        "<a href=\"https://colab.research.google.com/github/dkurbatovv/Python/blob/main/Real_and_Fake_Pokemon_Cards.ipynb\" target=\"_parent\"><img src=\"https://colab.research.google.com/assets/colab-badge.svg\" alt=\"Open In Colab\"/></a>"
      ]
    },
    {
      "cell_type": "code",
      "execution_count": null,
      "metadata": {
        "id": "P63PRwQfUfJK"
      },
      "outputs": [],
      "source": [
        "!pip install kaggle"
      ]
    },
    {
      "cell_type": "code",
      "source": [
        "from google.colab import files\n",
        "\n",
        "uploaded = files.upload()\n",
        "\n",
        "for fn in uploaded.keys():\n",
        "  print('User uploaded file \"{name}\" with length {length} bytes'.format(\n",
        "      name=fn, length=len(uploaded[fn])))"
      ],
      "metadata": {
        "id": "cCthIwNjUlj4"
      },
      "execution_count": null,
      "outputs": []
    },
    {
      "cell_type": "code",
      "source": [
        "!mkdir -p ~/.kaggle/"
      ],
      "metadata": {
        "id": "p-2_TthaUu8M"
      },
      "execution_count": null,
      "outputs": []
    },
    {
      "cell_type": "code",
      "source": [
        "! cp kaggle.json ~/.kaggle/"
      ],
      "metadata": {
        "id": "FJEqW5PbUv3u"
      },
      "execution_count": null,
      "outputs": []
    },
    {
      "cell_type": "code",
      "source": [
        "! chmod 600 ~/.kaggle/kaggle.json"
      ],
      "metadata": {
        "id": "GX8UbYPFUxUf"
      },
      "execution_count": null,
      "outputs": []
    },
    {
      "cell_type": "code",
      "source": [
        "! kaggle datasets download -d ongshujian/real-and-fake-pokemon-cards"
      ],
      "metadata": {
        "id": "OhwaG442U2GV"
      },
      "execution_count": null,
      "outputs": []
    },
    {
      "cell_type": "code",
      "source": [
        "import numpy as np \n",
        "import pandas as pd \n",
        "import matplotlib.pyplot as plt\n",
        "\n",
        "import keras\n",
        "from keras.models import Sequential\n",
        "from keras.layers import Dense, Dropout, Flatten, Conv2D, MaxPooling2D, BatchNormalization\n",
        "from tensorflow.keras.optimizers import Adam\n",
        "import glob as gb\n",
        "\n",
        "import os\n",
        "import cv2\n",
        "from sklearn import preprocessing\n",
        "from pathlib import Path"
      ],
      "metadata": {
        "id": "q4U2lc1gU-Wk"
      },
      "execution_count": null,
      "outputs": []
    },
    {
      "cell_type": "code",
      "source": [
        "images = []\n",
        "\n",
        "dataset = \"/content/image/\"\n",
        "\n",
        "for folder in os.listdir(dataset):\n",
        "  files = gb.glob(pathname=str(dataset + folder + \"/*.JPG\"))\n",
        "  for file in files:\n",
        "    image = cv2.imread(file)\n",
        "    image = cv2.cvtColor(image, cv2.COLOR_BGR2RGB)\n",
        "\n",
        "    image = cv2.resize(image, (256,256))\n",
        "\n",
        "    images.append(image)\n",
        "\n",
        "images = np.array(images)\n",
        "\n",
        " "
      ],
      "metadata": {
        "id": "gfKqjk2OVDKL"
      },
      "execution_count": null,
      "outputs": []
    },
    {
      "cell_type": "code",
      "source": [
        "images"
      ],
      "metadata": {
        "id": "xfn24-mRWnqp"
      },
      "execution_count": null,
      "outputs": []
    },
    {
      "cell_type": "code",
      "source": [
        "labels = pd.read_csv('train_labels.csv')"
      ],
      "metadata": {
        "id": "r-rYyGneWp2b"
      },
      "execution_count": null,
      "outputs": []
    },
    {
      "cell_type": "code",
      "source": [
        "labels['id'] = labels['id'].astype('str')\n",
        "labels = labels.sort_values(by=['id'], ignore_index = True)"
      ],
      "metadata": {
        "id": "keWnLh8LeHoC"
      },
      "execution_count": null,
      "outputs": []
    },
    {
      "cell_type": "code",
      "source": [
        "labels.drop('id', axis = 1)"
      ],
      "metadata": {
        "id": "wy4kQntQeI2z"
      },
      "execution_count": null,
      "outputs": []
    },
    {
      "cell_type": "code",
      "source": [
        "labels['categotical'] = labels['label'].apply(lambda x : 'fake' if x == 0 else 'real')"
      ],
      "metadata": {
        "id": "cuiD2mT_fIdu"
      },
      "execution_count": null,
      "outputs": []
    },
    {
      "cell_type": "code",
      "source": [
        "labels = labels.drop(['id', 'label'], axis = 1)"
      ],
      "metadata": {
        "id": "kPk5NttXgREv"
      },
      "execution_count": null,
      "outputs": []
    },
    {
      "cell_type": "code",
      "source": [
        "unique, counts = np.unique(labels, return_counts = True)"
      ],
      "metadata": {
        "id": "-Rc33V8dez_X"
      },
      "execution_count": null,
      "outputs": []
    },
    {
      "cell_type": "code",
      "source": [
        "counts"
      ],
      "metadata": {
        "id": "Tde-MlOifB01"
      },
      "execution_count": null,
      "outputs": []
    },
    {
      "cell_type": "code",
      "source": [
        "import seaborn as sns\n",
        "sns.barplot(x = unique, y = counts)\n"
      ],
      "metadata": {
        "id": "LPzUpfbPgeNy"
      },
      "execution_count": null,
      "outputs": []
    },
    {
      "cell_type": "code",
      "source": [
        "labels = np.array(pd.get_dummies(labels))"
      ],
      "metadata": {
        "id": "HJrY6YDKhSMi"
      },
      "execution_count": null,
      "outputs": []
    },
    {
      "cell_type": "code",
      "source": [
        "from sklearn.model_selection import train_test_split\n",
        "X_train, X_Test, y_train, y_Test = train_test_split(images, labels, test_size = 0.3, random_state = 100)\n"
      ],
      "metadata": {
        "id": "ka7puZgZg512"
      },
      "execution_count": null,
      "outputs": []
    },
    {
      "cell_type": "code",
      "source": [
        "plt.imshow(X_train[100])\n",
        "plt.title('Its a '+ str(y_train[100]))"
      ],
      "metadata": {
        "id": "m8WjSeUAhAkm"
      },
      "execution_count": null,
      "outputs": []
    },
    {
      "cell_type": "code",
      "source": [
        "plt.imshow(X_train[15])\n",
        "plt.title('Its a '+ str(y_train[15]))"
      ],
      "metadata": {
        "id": "telRdFbfhI8l"
      },
      "execution_count": null,
      "outputs": []
    },
    {
      "cell_type": "code",
      "source": [
        "X_train = X_train / 255.0\n",
        "X_Test = X_Test / 255.0"
      ],
      "metadata": {
        "id": "LlUfhrlsiAfp"
      },
      "execution_count": null,
      "outputs": []
    },
    {
      "cell_type": "code",
      "source": [
        "model = Sequential()\n",
        "\n",
        "model.add(Conv2D(filters = 32, kernel_size = (3,3), input_shape = (256,256, 3), activation = 'relu', padding = 'same'))\n",
        "model.add(Conv2D(filters = 32, kernel_size = (3,3), activation = 'relu', padding = 'same'))\n",
        "model.add(BatchNormalization())\n",
        "model.add(MaxPooling2D(2,2))\n",
        "model.add(Dropout(0.2))\n",
        "\n",
        "model.add(Conv2D(filters = 64, kernel_size = (3,3), activation = 'relu', padding = 'same'))\n",
        "model.add(Conv2D(filters = 64, kernel_size = (3,3), activation = 'relu', padding = 'same'))\n",
        "model.add(BatchNormalization())\n",
        "model.add(MaxPooling2D(2,2))\n",
        "model.add(Dropout(0.2))\n",
        "\n",
        "model.add(Conv2D(filters = 128, kernel_size = (3,3), activation = 'relu', padding = 'same'))\n",
        "model.add(Conv2D(filters = 128, kernel_size = (3,3), activation = 'relu', padding = 'same'))\n",
        "model.add(BatchNormalization())\n",
        "model.add(MaxPooling2D(2,2))\n",
        "model.add(Dropout(0.2))\n",
        "\n",
        "\n",
        "model.add(Flatten())\n",
        "model.add(Dense(256, activation = 'relu'))\n",
        "model.add(BatchNormalization())\n",
        "model.add(Dropout(0.5))\n",
        "model.add(Dense(2, activation = 'softmax')) #тк у нас либо фейк либо не фейк берем функцию сигмоиды, либо 1 либо 0"
      ],
      "metadata": {
        "id": "Ft4ujRjPhjqS"
      },
      "execution_count": null,
      "outputs": []
    },
    {
      "cell_type": "code",
      "source": [
        "opt = Adam(lr = 0.01)"
      ],
      "metadata": {
        "id": "uXQpVdKFjUVG"
      },
      "execution_count": null,
      "outputs": []
    },
    {
      "cell_type": "code",
      "source": [
        "model.summary()"
      ],
      "metadata": {
        "id": "pKvh9u9OjgZJ"
      },
      "execution_count": null,
      "outputs": []
    },
    {
      "cell_type": "code",
      "source": [
        "from keras.callbacks import EarlyStopping, ReduceLROnPlateau\n",
        "earlystopper = EarlyStopping(monitor = 'val_loss', patience=2, verbose=1, restore_best_weights=True)\n",
        "reducel = ReduceLROnPlateau(monitor = 'val_loss', patience=1, verbose=1, factor=0.1)"
      ],
      "metadata": {
        "id": "yWHDlq_Tjx8E"
      },
      "execution_count": null,
      "outputs": []
    },
    {
      "cell_type": "code",
      "source": [
        "model.compile(optimizer = opt, loss = 'binary_crossentropy', metrics = ['accuracy'])"
      ],
      "metadata": {
        "id": "sese8IrUj9O6"
      },
      "execution_count": null,
      "outputs": []
    },
    {
      "cell_type": "code",
      "source": [
        "history = model.fit(X_train, y_train, epochs = 50, validation_split = 0.25)"
      ],
      "metadata": {
        "id": "VWVtP1l4jiNh"
      },
      "execution_count": null,
      "outputs": []
    },
    {
      "cell_type": "code",
      "source": [
        ""
      ],
      "metadata": {
        "id": "prOdTiU-j6Vy"
      },
      "execution_count": null,
      "outputs": []
    }
  ]
}