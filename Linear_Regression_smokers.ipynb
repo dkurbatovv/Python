{
  "nbformat": 4,
  "nbformat_minor": 0,
  "metadata": {
    "colab": {
      "name": "Linear_Regression_smokers.ipynb",
      "private_outputs": true,
      "provenance": [],
      "authorship_tag": "ABX9TyNlC6bakK5WsEq7gFO/i8Iq",
      "include_colab_link": true
    },
    "kernelspec": {
      "name": "python3",
      "display_name": "Python 3"
    },
    "language_info": {
      "name": "python"
    }
  },
  "cells": [
    {
      "cell_type": "markdown",
      "metadata": {
        "id": "view-in-github",
        "colab_type": "text"
      },
      "source": [
        "<a href=\"https://colab.research.google.com/github/dkurbatovv/Python/blob/main/Linear_Regression_smokers.ipynb\" target=\"_parent\"><img src=\"https://colab.research.google.com/assets/colab-badge.svg\" alt=\"Open In Colab\"/></a>"
      ]
    },
    {
      "cell_type": "code",
      "execution_count": null,
      "metadata": {
        "id": "l5IU1erGVfha"
      },
      "outputs": [],
      "source": [
        "import pandas as pd\n",
        "import numpy as np\n",
        "import matplotlib.pyplot as plt\n",
        "import seaborn as sns\n",
        "\n",
        "from sklearn.model_selection import train_test_split\n",
        "from sklearn.linear_model import LinearRegression"
      ]
    },
    {
      "cell_type": "code",
      "source": [
        "df = pd.read_csv('Страховка.csv')"
      ],
      "metadata": {
        "id": "wydBgC0BVwRz"
      },
      "execution_count": null,
      "outputs": []
    },
    {
      "cell_type": "code",
      "source": [
        "df.head()"
      ],
      "metadata": {
        "id": "-cHr2_yZV5Pt"
      },
      "execution_count": null,
      "outputs": []
    },
    {
      "cell_type": "code",
      "source": [
        "df.isnull().sum()"
      ],
      "metadata": {
        "id": "xrUmrmOAV5xs"
      },
      "execution_count": null,
      "outputs": []
    },
    {
      "cell_type": "code",
      "source": [
        "df.info()"
      ],
      "metadata": {
        "id": "oLrjWjQkV9l7"
      },
      "execution_count": null,
      "outputs": []
    },
    {
      "cell_type": "code",
      "source": [
        "df['sex'][df['sex'] == 'male'] = 0\n",
        "df['sex'][df['sex'] == 'female'] = 1"
      ],
      "metadata": {
        "id": "T9s7YS7hWBZw"
      },
      "execution_count": null,
      "outputs": []
    },
    {
      "cell_type": "code",
      "source": [
        "df.head()"
      ],
      "metadata": {
        "id": "SOX0YMKUWIX-"
      },
      "execution_count": null,
      "outputs": []
    },
    {
      "cell_type": "code",
      "source": [
        "df['smoker'][df['smoker'] == 'yes'] = 1\n",
        "df['smoker'][df['smoker'] == 'no'] = 0\n"
      ],
      "metadata": {
        "id": "JMQZmBWnWJJz"
      },
      "execution_count": null,
      "outputs": []
    },
    {
      "cell_type": "code",
      "source": [
        "df.head()"
      ],
      "metadata": {
        "id": "PKkgfNfYW4zj"
      },
      "execution_count": null,
      "outputs": []
    },
    {
      "cell_type": "code",
      "source": [
        "plt.figure(figsize = (10,8))\n",
        "sns.countplot(x = 'smoker', data = df, palette = 'Set3')"
      ],
      "metadata": {
        "id": "OSMZ-KJ0W5Xn"
      },
      "execution_count": null,
      "outputs": []
    },
    {
      "cell_type": "code",
      "source": [
        "plt.figure()\n",
        "sns.displot(data = df, x = 'age', bins = 20)"
      ],
      "metadata": {
        "id": "ejtohLzIXElc"
      },
      "execution_count": null,
      "outputs": []
    },
    {
      "cell_type": "code",
      "source": [
        "sns.countplot(x = 'region', data = df)"
      ],
      "metadata": {
        "id": "UksYVECxXxCg"
      },
      "execution_count": null,
      "outputs": []
    },
    {
      "cell_type": "code",
      "source": [
        "plt.figure(figsize=(15, 12))\n",
        "sns.scatterplot(x = 'region', y = 'age', hue = 'smoker', data = df)"
      ],
      "metadata": {
        "id": "hJvy26oPZhTX"
      },
      "execution_count": null,
      "outputs": []
    },
    {
      "cell_type": "code",
      "source": [
        "df['sex'] = df['sex'].astype(int)\n",
        "df['smoker'] = df['smoker'].astype(int)\n",
        "df.info()\n",
        "df.head()"
      ],
      "metadata": {
        "id": "HniX5f_maZVE"
      },
      "execution_count": null,
      "outputs": []
    },
    {
      "cell_type": "code",
      "source": [
        "categorical_region  = ['region']\n",
        "new_df = pd.get_dummies(df, columns = categorical_region)"
      ],
      "metadata": {
        "id": "Y5FMDN2Sajyk"
      },
      "execution_count": null,
      "outputs": []
    },
    {
      "cell_type": "code",
      "source": [
        "new_df.head()"
      ],
      "metadata": {
        "id": "hwu69LHNaqUj"
      },
      "execution_count": null,
      "outputs": []
    },
    {
      "cell_type": "code",
      "source": [
        "new_df.info()"
      ],
      "metadata": {
        "id": "WjcDj-kGbJIi"
      },
      "execution_count": null,
      "outputs": []
    },
    {
      "cell_type": "code",
      "source": [
        "new_df.head()"
      ],
      "metadata": {
        "id": "p9GNCjixbL47"
      },
      "execution_count": null,
      "outputs": []
    },
    {
      "cell_type": "code",
      "source": [
        "X = new_df.drop('charges', axis = 1)\n",
        "y = new_df['charges']\n",
        "X_train, X_test, y_train, y_test = train_test_split(X, y, test_size = 0.3, random_state = 40)"
      ],
      "metadata": {
        "id": "FKvWAufFcdlP"
      },
      "execution_count": null,
      "outputs": []
    },
    {
      "cell_type": "code",
      "source": [
        "model = LinearRegression()\n",
        "model.fit(X_train, y_train)"
      ],
      "metadata": {
        "id": "V__OUN7KcrJb"
      },
      "execution_count": null,
      "outputs": []
    },
    {
      "cell_type": "code",
      "source": [
        "y_pred = model.predict(X_test)"
      ],
      "metadata": {
        "id": "A_b6lHAucy8L"
      },
      "execution_count": null,
      "outputs": []
    },
    {
      "cell_type": "code",
      "source": [
        "from sklearn.metrics import r2_score,mean_squared_error,mean_absolute_error"
      ],
      "metadata": {
        "id": "gNNc2g3Hc2vB"
      },
      "execution_count": null,
      "outputs": []
    },
    {
      "cell_type": "code",
      "source": [
        "print(r2_score(y_test, y_pred))"
      ],
      "metadata": {
        "id": "4C4kC3O8dBnb"
      },
      "execution_count": null,
      "outputs": []
    },
    {
      "cell_type": "code",
      "source": [
        "Mse = mean_squared_error(y_test,y_pred)\n",
        "Rmse = np.sqrt(Mse)\n",
        "Mae = mean_absolute_error(y_test,y_pred)"
      ],
      "metadata": {
        "id": "QAM8b7ZHdFHe"
      },
      "execution_count": null,
      "outputs": []
    },
    {
      "cell_type": "code",
      "source": [
        "\n",
        "from sklearn.preprocessing import MinMaxScaler\n",
        "\n",
        "scaler = MinMaxScaler()\n",
        "\n",
        "\n",
        "scalers_columns = ['bmi', 'charges']\n",
        "new_df[scalers_columns]= scaler.fit_transform(new_df[scalers_columns])"
      ],
      "metadata": {
        "id": "dPHHrWNSdRX4"
      },
      "execution_count": null,
      "outputs": []
    },
    {
      "cell_type": "code",
      "source": [
        "new_df.head()"
      ],
      "metadata": {
        "id": "A6MTMenleVT2"
      },
      "execution_count": null,
      "outputs": []
    },
    {
      "cell_type": "code",
      "source": [
        "X_scaler = new_df.drop('charges', axis = 1)\n",
        "y_scaler = new_df['charges']\n",
        "X_train_scaler, X_test_scaler, y_train_scaler, y_test_scaler = train_test_split(X_scaler, y_scaler, test_size = 0.3, random_state = 40)"
      ],
      "metadata": {
        "id": "XM4DflZmePs8"
      },
      "execution_count": null,
      "outputs": []
    },
    {
      "cell_type": "code",
      "source": [
        "model_scaler = LinearRegression()\n",
        "model.fit(X_train_scaler, y_train_scaler)"
      ],
      "metadata": {
        "id": "lV5uFhRdeuKp"
      },
      "execution_count": null,
      "outputs": []
    },
    {
      "cell_type": "code",
      "source": [
        "y_pred_scaler = model.predict(X_test_scaler)"
      ],
      "metadata": {
        "id": "yG6Z_w-fe0c-"
      },
      "execution_count": null,
      "outputs": []
    },
    {
      "cell_type": "code",
      "source": [
        "print(r2_score(y_test_scaler, y_pred_scaler))"
      ],
      "metadata": {
        "id": "hPI_KmmJe537"
      },
      "execution_count": null,
      "outputs": []
    },
    {
      "cell_type": "code",
      "source": [
        "Mse = mean_squared_error(y_test_scaler,y_pred_scaler)\n",
        "Rmse = np.sqrt(Mse)\n",
        "Mae = mean_absolute_error(y_test_scaler,y_pred_scaler)\n",
        "print(Mse, Rmse, Mae)"
      ],
      "metadata": {
        "id": "94rR_tx8e_vG"
      },
      "execution_count": null,
      "outputs": []
    },
    {
      "cell_type": "code",
      "source": [
        ""
      ],
      "metadata": {
        "id": "obBgOvLSfHNh"
      },
      "execution_count": null,
      "outputs": []
    }
  ]
}