{
  "nbformat": 4,
  "nbformat_minor": 0,
  "metadata": {
    "colab": {
      "name": "Untitled41.ipynb",
      "private_outputs": true,
      "provenance": [],
      "authorship_tag": "ABX9TyPzYPlcJZZLD4fZT2G1hYvD",
      "include_colab_link": true
    },
    "kernelspec": {
      "name": "python3",
      "display_name": "Python 3"
    },
    "language_info": {
      "name": "python"
    }
  },
  "cells": [
    {
      "cell_type": "markdown",
      "metadata": {
        "id": "view-in-github",
        "colab_type": "text"
      },
      "source": [
        "<a href=\"https://colab.research.google.com/github/kurbatovdi/Neural-Network/blob/main/Spisok_i_Stack.ipynb\" target=\"_parent\"><img src=\"https://colab.research.google.com/assets/colab-badge.svg\" alt=\"Open In Colab\"/></a>"
      ]
    },
    {
      "cell_type": "code",
      "execution_count": null,
      "metadata": {
        "id": "Oba3FJvIX70_"
      },
      "outputs": [],
      "source": [
        "class Node:\n",
        "  def __init__(self, data):\n",
        "    self.next = None\n",
        "    self.data = data\n",
        "\n",
        "  def append(self, value):\n",
        "    end = Node(value)\n",
        "    n = self\n",
        "    while(n.next):\n",
        "      n = next\n",
        "    n.next = end  \n",
        "\n"
      ]
    },
    {
      "cell_type": "code",
      "source": [
        "my_stack = []"
      ],
      "metadata": {
        "id": "aA61WlqAYTlk"
      },
      "execution_count": null,
      "outputs": []
    },
    {
      "cell_type": "code",
      "source": [
        "my_stack.append('x')\n",
        "my_stack.append('q')\n",
        "my_stack.append('t')"
      ],
      "metadata": {
        "id": "FroOlqRd32G4"
      },
      "execution_count": null,
      "outputs": []
    },
    {
      "cell_type": "code",
      "source": [
        "print(my_stack)"
      ],
      "metadata": {
        "id": "yryzOM4D35Ls"
      },
      "execution_count": null,
      "outputs": []
    },
    {
      "cell_type": "code",
      "source": [
        "my_stack.pop()"
      ],
      "metadata": {
        "id": "sCDocgoi3-Jl"
      },
      "execution_count": null,
      "outputs": []
    },
    {
      "cell_type": "code",
      "source": [
        ""
      ],
      "metadata": {
        "id": "8W1yuLUb5Sm7"
      },
      "execution_count": null,
      "outputs": []
    },
    {
      "cell_type": "code",
      "source": [
        "print(my_stack)\n"
      ],
      "metadata": {
        "id": "cADdjaYP4D-J"
      },
      "execution_count": null,
      "outputs": []
    },
    {
      "cell_type": "code",
      "source": [
        "import math \n",
        "math.gcd(16,44)"
      ],
      "metadata": {
        "id": "WQMl1Qyb5UFT"
      },
      "execution_count": null,
      "outputs": []
    },
    {
      "cell_type": "code",
      "source": [
        ""
      ],
      "metadata": {
        "id": "sywxRKL-5ZxO"
      },
      "execution_count": null,
      "outputs": []
    }
  ]
}
