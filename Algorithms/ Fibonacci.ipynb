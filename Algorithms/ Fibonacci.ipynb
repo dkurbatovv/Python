{
  "nbformat": 4,
  "nbformat_minor": 0,
  "metadata": {
    "colab": {
      "name": "Untitled42.ipynb",
      "private_outputs": true,
      "provenance": [],
      "authorship_tag": "ABX9TyPyuJVmN94b2/Dh8S5LgHUh",
      "include_colab_link": true
    },
    "kernelspec": {
      "name": "python3",
      "display_name": "Python 3"
    },
    "language_info": {
      "name": "python"
    }
  },
  "cells": [
    {
      "cell_type": "markdown",
      "metadata": {
        "id": "view-in-github",
        "colab_type": "text"
      },
      "source": [
        "<a href=\"https://colab.research.google.com/github/kurbatovdi/Python/blob/main/Fibonacci.ipynb\" target=\"_parent\"><img src=\"https://colab.research.google.com/assets/colab-badge.svg\" alt=\"Open In Colab\"/></a>"
      ]
    },
    {
      "cell_type": "code",
      "execution_count": null,
      "metadata": {
        "id": "w1_nZ8Yb7f1P"
      },
      "outputs": [],
      "source": [
        "fib1 = fib2 = 1\n",
        "for i in range(2, 10):\n",
        "    fib1, fib2 = fib2, fib1 + fib2\n",
        "    print(fib2, end=' ')"
      ]
    },
    {
      "cell_type": "code",
      "source": [
        "def fibonachi(n):\n",
        "  if n in (1,2):\n",
        "    return 1\n",
        "  return fibonachi(n-1) + fibonachi(n-2)\n",
        "\n",
        "print(fibonachi(1))\n",
        "print(fibonachi(2))\n",
        "print(fibonachi(3))\n",
        "print(fibonachi(4))\n"
      ],
      "metadata": {
        "id": "9BfJpnXR7llL"
      },
      "execution_count": null,
      "outputs": []
    },
    {
      "cell_type": "code",
      "source": [
        ""
      ],
      "metadata": {
        "id": "ke0-ulYNE6cE"
      },
      "execution_count": null,
      "outputs": []
    }
  ]
}
