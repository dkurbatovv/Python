{
  "nbformat": 4,
  "nbformat_minor": 0,
  "metadata": {
    "colab": {
      "name": "Untitled40.ipynb",
      "private_outputs": true,
      "provenance": [],
      "authorship_tag": "ABX9TyPoAslNKE/9jqxVObge1R7P",
      "include_colab_link": true
    },
    "kernelspec": {
      "name": "python3",
      "display_name": "Python 3"
    },
    "language_info": {
      "name": "python"
    }
  },
  "cells": [
    {
      "cell_type": "markdown",
      "metadata": {
        "id": "view-in-github",
        "colab_type": "text"
      },
      "source": [
        "<a href=\"https://colab.research.google.com/github/kurbatovdi/Neural-Network/blob/main/Sortirovki.ipynb\" target=\"_parent\"><img src=\"https://colab.research.google.com/assets/colab-badge.svg\" alt=\"Open In Colab\"/></a>"
      ]
    },
    {
      "cell_type": "code",
      "execution_count": null,
      "metadata": {
        "id": "y3BCB3tF99S-"
      },
      "outputs": [],
      "source": [
        "import array\n",
        "import numpy as np\n",
        "#пузырьковая сортировка\n",
        "def bubblesort(arr):\n",
        "  for i in range(len(arr)-1, 0, -1):\n",
        "    for j in range(i):\n",
        "      if arr[j]>arr[j+1]:\n",
        "        arr[j], arr[j+1] = arr[j+1], arr[j]    \n",
        "  return print(arr)            \n",
        "\n",
        "arr1 = np.array([5,8,1,4])  \n",
        "bubblesort(arr1)"
      ]
    },
    {
      "cell_type": "code",
      "source": [
        "#сортировка выбором\n",
        "def min_sort(array):\n",
        "  for i in range(len(array)-1):\n",
        "    m = i\n",
        "    j = i+1\n",
        "    while(j < len(array)):\n",
        "      if array[j]<array[m]:\n",
        "        m = j\n",
        "      j = j + 1;\n",
        "    array[i], array[m] = array[m], array[i]\n",
        "  return print(array)  \n",
        "\n",
        "arr1 = np.array([5,8,1,4])  \n",
        "min_sort(arr1)      "
      ],
      "metadata": {
        "id": "d8E-Dk_W-Iuz"
      },
      "execution_count": null,
      "outputs": []
    },
    {
      "cell_type": "code",
      "source": [
        "#сортировка вставками\n",
        "def insertionSort(array):\n",
        "    for i in range(1, len(array)):\n",
        "      key = array[i];\n",
        "      j = i - 1;\n",
        "      while (array[j]>key and j>=0):\n",
        "        array[j+1] = array[j]\n",
        "        j = j - 1\n",
        "      array[j+1] = key\n",
        "    return print(array) \n",
        "\n",
        "\n",
        "arr1 = np.array([5,8,1,4])  \n",
        "insertionSort(arr1)      "
      ],
      "metadata": {
        "id": "fZOhLwrPCsJS"
      },
      "execution_count": null,
      "outputs": []
    },
    {
      "cell_type": "code",
      "source": [
        ""
      ],
      "metadata": {
        "id": "cV6E5APTHuhp"
      },
      "execution_count": null,
      "outputs": []
    }
  ]
}
