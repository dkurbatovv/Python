{
  "nbformat": 4,
  "nbformat_minor": 0,
  "metadata": {
    "colab": {
      "name": "House price predict using Neural Network.ipynb",
      "private_outputs": true,
      "provenance": [],
      "authorship_tag": "ABX9TyOQ1ulq3XThoe+yjLZcfFCM",
      "include_colab_link": true
    },
    "kernelspec": {
      "name": "python3",
      "display_name": "Python 3"
    },
    "language_info": {
      "name": "python"
    },
    "accelerator": "GPU"
  },
  "cells": [
    {
      "cell_type": "markdown",
      "metadata": {
        "id": "view-in-github",
        "colab_type": "text"
      },
      "source": [
        "<a href=\"https://colab.research.google.com/github/dkurbatovv/Python/blob/main/House_price_predict_using_Neural_Network.ipynb\" target=\"_parent\"><img src=\"https://colab.research.google.com/assets/colab-badge.svg\" alt=\"Open In Colab\"/></a>"
      ]
    },
    {
      "cell_type": "code",
      "execution_count": null,
      "metadata": {
        "id": "RNf9n4D7VsuI"
      },
      "outputs": [],
      "source": [
        "import numpy as np # linear algebra\n",
        "import pandas as pd # data processing\n",
        "import matplotlib.pyplot as plt # data visualization\n",
        "import seaborn as sns # advanced data visualization\n",
        "\n",
        "from sklearn.model_selection import train_test_split # split data into train and test\n",
        "from sklearn.preprocessing import MinMaxScaler # scale the data between 0 - 1\n",
        "from tensorflow.keras.models import Sequential # initiate the mode \n",
        "from tensorflow.keras.layers import Dense, Activation # add the layers\n",
        "from tensorflow.keras.optimizers import Adam # optimizer \n",
        "from sklearn.metrics import mean_squared_error,mean_absolute_error,explained_variance_score "
      ]
    },
    {
      "cell_type": "code",
      "source": [
        "df = pd.read_csv('kc_house_data.csv')"
      ],
      "metadata": {
        "id": "AYcX2MHMV6L5"
      },
      "execution_count": null,
      "outputs": []
    },
    {
      "cell_type": "code",
      "source": [
        "df.head()"
      ],
      "metadata": {
        "id": "XDOgg1MJV99s"
      },
      "execution_count": null,
      "outputs": []
    },
    {
      "cell_type": "code",
      "source": [
        "df.tail()"
      ],
      "metadata": {
        "id": "AopCD7k8V-bF"
      },
      "execution_count": null,
      "outputs": []
    },
    {
      "cell_type": "code",
      "source": [
        "df = df.drop('id', axis = 1)"
      ],
      "metadata": {
        "id": "nqo4KBBpV_q-"
      },
      "execution_count": null,
      "outputs": []
    },
    {
      "cell_type": "code",
      "source": [
        "plt.figure(figsize = (12,10))\n",
        "sns.distplot(df['price'])"
      ],
      "metadata": {
        "id": "R27PIx-UWCeC"
      },
      "execution_count": null,
      "outputs": []
    },
    {
      "cell_type": "code",
      "source": [
        "plt.figure(figsize = (10,6))\n",
        "sns.countplot(data = df, x = 'bedrooms')"
      ],
      "metadata": {
        "id": "_n1z-IRAWJuv"
      },
      "execution_count": null,
      "outputs": []
    },
    {
      "cell_type": "code",
      "source": [
        "plt.figure(figsize = (10,6))\n",
        "sns.boxplot(data = df, x = 'bedrooms', y = 'price')"
      ],
      "metadata": {
        "id": "zraNXZF5WStP"
      },
      "execution_count": null,
      "outputs": []
    },
    {
      "cell_type": "code",
      "source": [
        "plt.figure(figsize = (10,6))\n",
        "sns.boxplot(data = df, x = 'bathrooms', y = 'price')"
      ],
      "metadata": {
        "id": "xZwecOuVWgOq"
      },
      "execution_count": null,
      "outputs": []
    },
    {
      "cell_type": "code",
      "source": [
        "plt.figure(figsize = (10,6))\n",
        "sns.scatterplot(data = df, x = 'price', y = 'sqft_living')"
      ],
      "metadata": {
        "id": "LNFQsNiYWmJy"
      },
      "execution_count": null,
      "outputs": []
    },
    {
      "cell_type": "code",
      "source": [
        "plt.figure(figsize=(8,4))\n",
        "sns.boxplot(x = 'waterfront', y = 'price', data = df)\n",
        "plt.show()"
      ],
      "metadata": {
        "id": "ltqRtJogXHug"
      },
      "execution_count": null,
      "outputs": []
    },
    {
      "cell_type": "code",
      "source": [
        "df['date'] = pd.to_datetime(df['date'])"
      ],
      "metadata": {
        "id": "k2hxmHRaXWeX"
      },
      "execution_count": null,
      "outputs": []
    },
    {
      "cell_type": "code",
      "source": [
        "df.head()"
      ],
      "metadata": {
        "id": "ai7eOupWXlMe"
      },
      "execution_count": null,
      "outputs": []
    },
    {
      "cell_type": "code",
      "source": [
        "df['year'] = df['date'].apply(lambda x: x.year)\n",
        "df['month'] = df['date'].apply(lambda x: x.month)"
      ],
      "metadata": {
        "id": "xaox6DjyXmFD"
      },
      "execution_count": null,
      "outputs": []
    },
    {
      "cell_type": "code",
      "source": [
        "df.head()"
      ],
      "metadata": {
        "id": "D86dg3AJXwp_"
      },
      "execution_count": null,
      "outputs": []
    },
    {
      "cell_type": "code",
      "source": [
        "df = df.drop('date', axis = 1)"
      ],
      "metadata": {
        "id": "lbn-biBqXxnS"
      },
      "execution_count": null,
      "outputs": []
    },
    {
      "cell_type": "code",
      "source": [
        "df['renovated'] = df['year'] - df['yr_renovated']"
      ],
      "metadata": {
        "id": "1RNp9VfCX1Sr"
      },
      "execution_count": null,
      "outputs": []
    },
    {
      "cell_type": "code",
      "source": [
        "df.head()"
      ],
      "metadata": {
        "id": "qa9x2G1WYB_C"
      },
      "execution_count": null,
      "outputs": []
    },
    {
      "cell_type": "code",
      "source": [
        "df['renovated'] = df['yr_renovated'].apply(lambda yr: 0 if yr == 0 else 1)"
      ],
      "metadata": {
        "id": "UFnOhFmgYCsR"
      },
      "execution_count": null,
      "outputs": []
    },
    {
      "cell_type": "code",
      "source": [
        "df.head()"
      ],
      "metadata": {
        "id": "H2DeFnYmZBR1"
      },
      "execution_count": null,
      "outputs": []
    },
    {
      "cell_type": "code",
      "source": [
        "df = df.drop(['zipcode', 'lat', 'long'], axis = 1)"
      ],
      "metadata": {
        "id": "n48omd18aGRr"
      },
      "execution_count": null,
      "outputs": []
    },
    {
      "cell_type": "code",
      "source": [
        "X = df.drop('price', axis = 1).values \n",
        "y = df['price'].values"
      ],
      "metadata": {
        "id": "g-o_uHBNaTZO"
      },
      "execution_count": null,
      "outputs": []
    },
    {
      "cell_type": "code",
      "source": [
        ""
      ],
      "metadata": {
        "id": "eW3xIZPCaW2o"
      },
      "execution_count": null,
      "outputs": []
    },
    {
      "cell_type": "code",
      "source": [
        "X_train, X_test, y_train, y_test = train_test_split(X, y, test_size=0.3, random_state=101)"
      ],
      "metadata": {
        "id": "FSwgkQB4aXXk"
      },
      "execution_count": null,
      "outputs": []
    },
    {
      "cell_type": "code",
      "source": [
        "scaler = MinMaxScaler()\n",
        "X_train = scaler.fit_transform(X_train)\n",
        "X_test = scaler.fit_transform(X_test)"
      ],
      "metadata": {
        "id": "zBNyKpKlaeIz"
      },
      "execution_count": null,
      "outputs": []
    },
    {
      "cell_type": "code",
      "source": [
        "df.head()"
      ],
      "metadata": {
        "id": "R0T-MkA_al25"
      },
      "execution_count": null,
      "outputs": []
    },
    {
      "cell_type": "code",
      "source": [
        "model = Sequential()\n",
        "model.add(Dense(18,activation='relu'))\n",
        "model.add(Dense(64,activation='relu'))\n",
        "model.add(Dense(64,activation='relu'))\n",
        "model.add(Dense(128,activation='relu'))\n",
        "model.add(Dense(64,activation='relu'))\n",
        "model.add(Dense(64,activation='relu'))\n",
        "model.add(Dense(19,activation='relu'))\n",
        "model.add(Dense(1))\n",
        "# compile the model\n",
        "model.compile(optimizer='adam',loss='mae');"
      ],
      "metadata": {
        "id": "EtHUSxwBaqPx"
      },
      "execution_count": null,
      "outputs": []
    },
    {
      "cell_type": "code",
      "source": [
        "model.fit(x = X_train, y = y_train,\n",
        "          validation_data=(X_test,y_test),\n",
        "          batch_size=128,epochs=300)"
      ],
      "metadata": {
        "id": "KAZCjHZPa6ei"
      },
      "execution_count": null,
      "outputs": []
    },
    {
      "cell_type": "code",
      "source": [
        "losses = pd.DataFrame( model.history.history )\n",
        "losses.plot()"
      ],
      "metadata": {
        "id": "ITH_PQXEa_bu"
      },
      "execution_count": null,
      "outputs": []
    },
    {
      "cell_type": "code",
      "source": [
        "y_predictions = model.predict(X_test)\n",
        "# evaluate the model\n",
        "print(mean_absolute_error(y_test,y_predictions))\n",
        "print(np.sqrt(mean_squared_error(y_test,y_predictions)))"
      ],
      "metadata": {
        "id": "NWCfCAvVbMdu"
      },
      "execution_count": null,
      "outputs": []
    },
    {
      "cell_type": "code",
      "source": [
        "explained_variance_score(y_test, y_predictions) * 100"
      ],
      "metadata": {
        "id": "bZAob4UZbQp6"
      },
      "execution_count": null,
      "outputs": []
    },
    {
      "cell_type": "code",
      "source": [
        "plt.figure(figsize = (8, 4), dpi = 100)\n",
        "plt.scatter(y_test, y_predictions)\n",
        "\n",
        "# Perfect predictions\n",
        "plt.plot(y_test, y_test, 'r');"
      ],
      "metadata": {
        "id": "ZJGcQlOXbUOn"
      },
      "execution_count": null,
      "outputs": []
    },
    {
      "cell_type": "code",
      "source": [
        ""
      ],
      "metadata": {
        "id": "wpAbTzBEcblK"
      },
      "execution_count": null,
      "outputs": []
    }
  ]
}