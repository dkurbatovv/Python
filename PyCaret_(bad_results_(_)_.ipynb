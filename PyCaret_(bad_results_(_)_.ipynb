{
  "nbformat": 4,
  "nbformat_minor": 0,
  "metadata": {
    "colab": {
      "name": "PyCaret (bad results :( ) .ipynb",
      "private_outputs": true,
      "provenance": [],
      "authorship_tag": "ABX9TyMvZeUwohc7Ny+Lz/Lyvk1Q",
      "include_colab_link": true
    },
    "kernelspec": {
      "name": "python3",
      "display_name": "Python 3"
    },
    "language_info": {
      "name": "python"
    },
    "accelerator": "GPU"
  },
  "cells": [
    {
      "cell_type": "markdown",
      "metadata": {
        "id": "view-in-github",
        "colab_type": "text"
      },
      "source": [
        "<a href=\"https://colab.research.google.com/github/dkurbatovv/Python/blob/main/PyCaret_(bad_results_(_)_.ipynb\" target=\"_parent\"><img src=\"https://colab.research.google.com/assets/colab-badge.svg\" alt=\"Open In Colab\"/></a>"
      ]
    },
    {
      "cell_type": "code",
      "execution_count": null,
      "metadata": {
        "id": "JothlHhmufVf"
      },
      "outputs": [],
      "source": [
        "!pip install pycaret"
      ]
    },
    {
      "cell_type": "code",
      "source": [
        "!pip install kaggle"
      ],
      "metadata": {
        "id": "U1J7-P42ulAV"
      },
      "execution_count": null,
      "outputs": []
    },
    {
      "cell_type": "code",
      "source": [
        "from google.colab import files\n",
        "\n",
        "uploaded = files.upload()\n",
        "\n",
        "for fn in uploaded.keys():\n",
        "  print('User uploaded file \"{name}\" with length {length} bytes'.format(\n",
        "      name=fn, length=len(uploaded[fn])))"
      ],
      "metadata": {
        "id": "C1avAao-u8hG"
      },
      "execution_count": null,
      "outputs": []
    },
    {
      "cell_type": "code",
      "source": [
        "!mkdir -p ~/.kaggle/\n",
        "! cp kaggle.json ~/.kaggle/\n",
        "! chmod 600 ~/.kaggle/kaggle.json"
      ],
      "metadata": {
        "id": "ngCIGp4Lu-AH"
      },
      "execution_count": null,
      "outputs": []
    },
    {
      "cell_type": "code",
      "source": [
        "! kaggle competitions download -c house-prices-advanced-regression-techniques"
      ],
      "metadata": {
        "id": "hiAGDnuSvCEP"
      },
      "execution_count": null,
      "outputs": []
    },
    {
      "cell_type": "code",
      "source": [
        "! unzip house-prices-advanced-regression-techniques.zip"
      ],
      "metadata": {
        "id": "8_jRtnc8vHtG"
      },
      "execution_count": null,
      "outputs": []
    },
    {
      "cell_type": "code",
      "source": [
        "from pycaret.regression import *"
      ],
      "metadata": {
        "id": "rT3OJNxsvLzP"
      },
      "execution_count": null,
      "outputs": []
    },
    {
      "cell_type": "code",
      "source": [
        "import numpy as np \n",
        "import pandas as pd \n",
        "import seaborn as sns\n",
        "import matplotlib.pyplot as plt"
      ],
      "metadata": {
        "id": "Kpxz4tdAvQQR"
      },
      "execution_count": null,
      "outputs": []
    },
    {
      "cell_type": "code",
      "source": [
        "train = pd.read_csv('/content/train.csv')\n",
        "test  = pd.read_csv('/content/test.csv')\n",
        "sample= pd.read_csv('/content/sample_submission.csv')"
      ],
      "metadata": {
        "id": "90Oah0d_vS_Q"
      },
      "execution_count": null,
      "outputs": []
    },
    {
      "cell_type": "code",
      "source": [
        "sns.set_style(\"white\")\n",
        "sns.set_color_codes(palette='deep')\n",
        "f, ax = plt.subplots(figsize=(8, 7))\n",
        "#Check the new distribution \n",
        "sns.distplot(train['SalePrice'], color=\"b\");\n",
        "ax.xaxis.grid(False)\n",
        "ax.set(ylabel=\"Frequency\")\n",
        "ax.set(xlabel=\"SalePrice\")\n",
        "ax.set(title=\"SalePrice distribution\")\n",
        "sns.despine(trim=True, left=True)\n",
        "plt.show()"
      ],
      "metadata": {
        "id": "PAW5j81JTA48"
      },
      "execution_count": null,
      "outputs": []
    },
    {
      "cell_type": "code",
      "source": [
        "# Finding numeric features\n",
        "numeric_dtypes = ['int16', 'int32', 'int64', 'float16', 'float32', 'float64']\n",
        "numeric = []\n",
        "for i in train.columns:\n",
        "    if train[i].dtype in numeric_dtypes:\n",
        "        if i in ['TotalSF', 'Total_Bathrooms','Total_porch_sf','haspool','hasgarage','hasbsmt','hasfireplace']:\n",
        "            pass\n",
        "        else:\n",
        "            numeric.append(i)     \n",
        "# visualising some more outliers in the data values\n",
        "fig, axs = plt.subplots(ncols=2, nrows=0, figsize=(12, 120))\n",
        "plt.subplots_adjust(right=2)\n",
        "plt.subplots_adjust(top=2)\n",
        "sns.color_palette(\"husl\", 8)\n",
        "for i, feature in enumerate(list(train[numeric]), 1):\n",
        "    if(feature=='MiscVal'):\n",
        "        break\n",
        "    plt.subplot(len(list(numeric)), 3, i)\n",
        "    sns.scatterplot(x=feature, y='SalePrice', hue='SalePrice', palette='Blues', data=train)\n",
        "        \n",
        "    plt.xlabel('{}'.format(feature), size=15,labelpad=12.5)\n",
        "    plt.ylabel('SalePrice', size=15, labelpad=12.5)\n",
        "    \n",
        "    for j in range(2):\n",
        "        plt.tick_params(axis='x', labelsize=12)\n",
        "        plt.tick_params(axis='y', labelsize=12)\n",
        "    \n",
        "    plt.legend(loc='best', prop={'size': 10})\n",
        "        \n",
        "plt.show()"
      ],
      "metadata": {
        "id": "MZGG4LOxTIfH"
      },
      "execution_count": null,
      "outputs": []
    },
    {
      "cell_type": "code",
      "source": [
        "train_ID = train['Id']\n",
        "test_ID = test['Id']\n",
        "train.drop(['Id'], axis=1, inplace=True)\n",
        "test.drop(['Id'], axis=1, inplace=True)\n",
        "train.shape, test.shape"
      ],
      "metadata": {
        "id": "AN6fk9m9TMM5"
      },
      "execution_count": null,
      "outputs": []
    },
    {
      "cell_type": "code",
      "source": [
        "train[\"SalePrice\"] = np.log1p(train[\"SalePrice\"])\n",
        "\n"
      ],
      "metadata": {
        "id": "2wb02FYKTSSl"
      },
      "execution_count": null,
      "outputs": []
    },
    {
      "cell_type": "code",
      "source": [
        "sns.set_style(\"white\")\n",
        "sns.set_color_codes(palette='deep')\n",
        "f, ax = plt.subplots(figsize=(8, 7))\n",
        "#Check the new distribution \n",
        "sns.distplot(train['SalePrice'] , fit=norm, color=\"b\");\n",
        "\n",
        "# Get the fitted parameters used by the function\n",
        "(mu, sigma) = norm.fit(train['SalePrice'])\n",
        "print( '\\n mu = {:.2f} and sigma = {:.2f}\\n'.format(mu, sigma))\n",
        "\n",
        "#Now plot the distribution\n",
        "plt.legend(['Normal dist. ($\\mu=$ {:.2f} and $\\sigma=$ {:.2f} )'.format(mu, sigma)],\n",
        "            loc='best')\n",
        "ax.xaxis.grid(False)\n",
        "ax.set(ylabel=\"Frequency\")\n",
        "ax.set(xlabel=\"SalePrice\")\n",
        "ax.set(title=\"SalePrice distribution\")\n",
        "sns.despine(trim=True, left=True)\n",
        "\n",
        "plt.show()"
      ],
      "metadata": {
        "id": "9dwxcsxRTfzp"
      },
      "execution_count": null,
      "outputs": []
    },
    {
      "cell_type": "code",
      "source": [
        "train.drop(train[(train['OverallQual']<5) & (train['SalePrice']>200000)].index, inplace=True)\n",
        "train.drop(train[(train['GrLivArea']>4500) & (train['SalePrice']<300000)].index, inplace=True)\n",
        "train.reset_index(drop=True, inplace=True)"
      ],
      "metadata": {
        "id": "oGsmzsMVTia-"
      },
      "execution_count": null,
      "outputs": []
    },
    {
      "cell_type": "code",
      "source": [
        "train['MSSubClass'] = train['MSSubClass'].apply(str)\n",
        "train['YrSold'] = train['YrSold'].astype(str)\n",
        "train['MoSold'] = train['MoSold'].astype(str)"
      ],
      "metadata": {
        "id": "rZHrBDFKT_6B"
      },
      "execution_count": null,
      "outputs": []
    },
    {
      "cell_type": "code",
      "source": [
        "test['MSSubClass'] = test['MSSubClass'].apply(str)\n",
        "test['YrSold'] = test['YrSold'].astype(str)\n",
        "test['MoSold'] = test['MoSold'].astype(str)"
      ],
      "metadata": {
        "id": "aapfwKP3UHcd"
      },
      "execution_count": null,
      "outputs": []
    },
    {
      "cell_type": "code",
      "source": [
        "def handle_missing(features):\n",
        "    # the data description states that NA refers to typical ('Typ') values\n",
        "    features['Functional'] = features['Functional'].fillna('Typ')\n",
        "    # Replace the missing values in each of the columns below with their mode\n",
        "    features['Electrical'] = features['Electrical'].fillna(\"SBrkr\")\n",
        "    features['KitchenQual'] = features['KitchenQual'].fillna(\"TA\")\n",
        "    features['Exterior1st'] = features['Exterior1st'].fillna(features['Exterior1st'].mode()[0])\n",
        "    features['Exterior2nd'] = features['Exterior2nd'].fillna(features['Exterior2nd'].mode()[0])\n",
        "    features['SaleType'] = features['SaleType'].fillna(features['SaleType'].mode()[0])\n",
        "    features['MSZoning'] = features.groupby('MSSubClass')['MSZoning'].transform(lambda x: x.fillna(x.mode()[0]))\n",
        "    \n",
        "    # the data description stats that NA refers to \"No Pool\"\n",
        "    features[\"PoolQC\"] = features[\"PoolQC\"].fillna(\"None\")\n",
        "    # Replacing the missing values with 0, since no garage = no cars in garage\n",
        "    for col in ('GarageYrBlt', 'GarageArea', 'GarageCars'):\n",
        "        features[col] = features[col].fillna(0)\n",
        "    # Replacing the missing values with None\n",
        "    for col in ['GarageType', 'GarageFinish', 'GarageQual', 'GarageCond']:\n",
        "        features[col] = features[col].fillna('None')\n",
        "    # NaN values for these categorical basement features, means there's no basement\n",
        "    for col in ('BsmtQual', 'BsmtCond', 'BsmtExposure', 'BsmtFinType1', 'BsmtFinType2'):\n",
        "        features[col] = features[col].fillna('None')\n",
        "        \n",
        "    # Group the by neighborhoods, and fill in missing value by the median LotFrontage of the neighborhood\n",
        "    features['LotFrontage'] = features.groupby('Neighborhood')['LotFrontage'].transform(lambda x: x.fillna(x.median()))\n",
        "\n",
        "    # We have no particular intuition around how to fill in the rest of the categorical features\n",
        "    # So we replace their missing values with None\n",
        "    objects = []\n",
        "    for i in features.columns:\n",
        "        if features[i].dtype == object:\n",
        "            objects.append(i)\n",
        "    features.update(features[objects].fillna('None'))\n",
        "        \n",
        "    # And we do the same thing for numerical features, but this time with 0s\n",
        "    numeric_dtypes = ['int16', 'int32', 'int64', 'float16', 'float32', 'float64']\n",
        "    numeric = []\n",
        "    for i in features.columns:\n",
        "        if features[i].dtype in numeric_dtypes:\n",
        "            numeric.append(i)\n",
        "    features.update(features[numeric].fillna(0))    \n",
        "    return features\n",
        "\n",
        "train = handle_missing(train)\n",
        "\n",
        "test = handle_missing(test)"
      ],
      "metadata": {
        "id": "qpCvIESVUKjG"
      },
      "execution_count": null,
      "outputs": []
    },
    {
      "cell_type": "code",
      "source": [
        "numeric_dtypes = ['int16', 'int32', 'int64', 'float16', 'float32', 'float64']\n",
        "numeric = []\n",
        "for i in train.columns:\n",
        "    if train[i].dtype in numeric_dtypes:\n",
        "        numeric.append(i)"
      ],
      "metadata": {
        "id": "I3ckGHcIUR4I"
      },
      "execution_count": null,
      "outputs": []
    },
    {
      "cell_type": "code",
      "source": [
        "numeric_dtypes = ['int16', 'int32', 'int64', 'float16', 'float32', 'float64']\n",
        "numeric = []\n",
        "for i in test.columns:\n",
        "    if test[i].dtype in numeric_dtypes:\n",
        "        numeric.append(i)"
      ],
      "metadata": {
        "id": "t6S95RxDUVTI"
      },
      "execution_count": null,
      "outputs": []
    },
    {
      "cell_type": "code",
      "source": [
        "from scipy.stats import skew, norm\n",
        "from scipy.special import boxcox1p\n",
        "from scipy.stats import boxcox_normmax\n",
        "\n",
        "skew_features = train[numeric].apply(lambda x: skew(x)).sort_values(ascending=False)\n",
        "\n",
        "high_skew = skew_features[skew_features > 0.5]\n",
        "skew_index = high_skew.index\n",
        "\n",
        "print(\"There are {} numerical features with Skew > 0.5 :\".format(high_skew.shape[0]))\n",
        "skewness = pd.DataFrame({'Skew' :high_skew})\n",
        "skew_features.head(10)"
      ],
      "metadata": {
        "id": "HbUWIP1uUXZ7"
      },
      "execution_count": null,
      "outputs": []
    },
    {
      "cell_type": "code",
      "source": [
        "skew_features = test[numeric].apply(lambda x: skew(x)).sort_values(ascending=False)\n",
        "\n",
        "high_skew = skew_features[skew_features > 0.5]\n",
        "skew_index = high_skew.index\n",
        "\n",
        "print(\"There are {} numerical features with Skew > 0.5 :\".format(high_skew.shape[0]))\n",
        "skewness = pd.DataFrame({'Skew' :high_skew})\n",
        "skew_features.head(10)"
      ],
      "metadata": {
        "id": "6ztelV75Ueh3"
      },
      "execution_count": null,
      "outputs": []
    },
    {
      "cell_type": "code",
      "source": [
        "for i in skew_index:\n",
        "    train[i] = boxcox1p(train[i], boxcox_normmax(train[i] + 1))"
      ],
      "metadata": {
        "id": "0wTcLIfMUg5W"
      },
      "execution_count": null,
      "outputs": []
    },
    {
      "cell_type": "code",
      "source": [
        "for i in skew_index:\n",
        "    test[i] = boxcox1p(test[i], boxcox_normmax(test[i] + 1))"
      ],
      "metadata": {
        "id": "KG97pSnsUmjo"
      },
      "execution_count": null,
      "outputs": []
    },
    {
      "cell_type": "code",
      "source": [
        "train['BsmtFinType1_Unf'] = 1*(train['BsmtFinType1'] == 'Unf')\n",
        "train['HasWoodDeck'] = (train['WoodDeckSF'] == 0) * 1\n",
        "train['HasOpenPorch'] = (train['OpenPorchSF'] == 0) * 1\n",
        "train['HasEnclosedPorch'] = (train['EnclosedPorch'] == 0) * 1\n",
        "train['Has3SsnPorch'] = (train['3SsnPorch'] == 0) * 1\n",
        "train['HasScreenPorch'] = (train['ScreenPorch'] == 0) * 1\n",
        "train['YearsSinceRemodel'] = train['YrSold'].astype(int) - train['YearRemodAdd'].astype(int)\n",
        "train['Total_Home_Quality'] = train['OverallQual'] + train['OverallCond']\n",
        "train = train.drop(['Utilities', 'Street', 'PoolQC',], axis=1)\n",
        "train['TotalSF'] = train['TotalBsmtSF'] + train['1stFlrSF'] + train['2ndFlrSF']\n",
        "train['YrBltAndRemod'] = train['YearBuilt'] + train['YearRemodAdd']\n",
        "\n",
        "train['Total_sqr_footage'] = (train['BsmtFinSF1'] + train['BsmtFinSF2'] +\n",
        "                                 train['1stFlrSF'] + train['2ndFlrSF'])\n",
        "train['Total_Bathrooms'] = (train['FullBath'] + (0.5 * train['HalfBath']) +\n",
        "                               train['BsmtFullBath'] + (0.5 * train['BsmtHalfBath']))\n",
        "train['Total_porch_sf'] = (train['OpenPorchSF'] + train['3SsnPorch'] +\n",
        "                              train['EnclosedPorch'] + train['ScreenPorch'] +\n",
        "                              train['WoodDeckSF'])\n",
        "train['TotalBsmtSF'] = train['TotalBsmtSF'].apply(lambda x: np.exp(6) if x <= 0.0 else x)\n",
        "train['2ndFlrSF'] = train['2ndFlrSF'].apply(lambda x: np.exp(6.5) if x <= 0.0 else x)\n",
        "train['GarageArea'] = train['GarageArea'].apply(lambda x: np.exp(6) if x <= 0.0 else x)\n",
        "train['GarageCars'] = train['GarageCars'].apply(lambda x: 0 if x <= 0.0 else x)\n",
        "train['LotFrontage'] = train['LotFrontage'].apply(lambda x: np.exp(4.2) if x <= 0.0 else x)\n",
        "train['MasVnrArea'] = train['MasVnrArea'].apply(lambda x: np.exp(4) if x <= 0.0 else x)\n",
        "train['BsmtFinSF1'] = train['BsmtFinSF1'].apply(lambda x: np.exp(6.5) if x <= 0.0 else x)\n",
        "\n",
        "train['haspool'] = train['PoolArea'].apply(lambda x: 1 if x > 0 else 0)\n",
        "train['has2ndfloor'] = train['2ndFlrSF'].apply(lambda x: 1 if x > 0 else 0)\n",
        "train['hasgarage'] = train['GarageArea'].apply(lambda x: 1 if x > 0 else 0)\n",
        "train['hasbsmt'] = train['TotalBsmtSF'].apply(lambda x: 1 if x > 0 else 0)\n",
        "train['hasfireplace'] = train['Fireplaces'].apply(lambda x: 1 if x > 0 else 0)"
      ],
      "metadata": {
        "id": "IWAlkEsCUpaZ"
      },
      "execution_count": null,
      "outputs": []
    },
    {
      "cell_type": "code",
      "source": [
        "test['BsmtFinType1_Unf'] = 1*(test['BsmtFinType1'] == 'Unf')\n",
        "test['HasWoodDeck'] = (test['WoodDeckSF'] == 0) * 1\n",
        "test['HasOpenPorch'] = (test['OpenPorchSF'] == 0) * 1\n",
        "test['HasEnclosedPorch'] = (test['EnclosedPorch'] == 0) * 1\n",
        "test['Has3SsnPorch'] = (test['3SsnPorch'] == 0) * 1\n",
        "test['HasScreenPorch'] = (test['ScreenPorch'] == 0) * 1\n",
        "test['YearsSinceRemodel'] = test['YrSold'].astype(int) - test['YearRemodAdd'].astype(int)\n",
        "test['Total_Home_Quality'] = test['OverallQual'] + test['OverallCond']\n",
        "test = test.drop(['Utilities', 'Street', 'PoolQC',], axis=1)\n",
        "test['TotalSF'] = test['TotalBsmtSF'] + test['1stFlrSF'] + test['2ndFlrSF']\n",
        "test['YrBltAndRemod'] = test['YearBuilt'] + test['YearRemodAdd']\n",
        "\n",
        "test['Total_sqr_footage'] = (test['BsmtFinSF1'] + test['BsmtFinSF2'] +\n",
        "                                 test['1stFlrSF'] + test['2ndFlrSF'])\n",
        "test['Total_Bathrooms'] = (test['FullBath'] + (0.5 * test['HalfBath']) +\n",
        "                               test['BsmtFullBath'] + (0.5 * test['BsmtHalfBath']))\n",
        "test['Total_porch_sf'] = (test['OpenPorchSF'] + test['3SsnPorch'] +\n",
        "                              test['EnclosedPorch'] + test['ScreenPorch'] +\n",
        "                              test['WoodDeckSF'])\n",
        "test['TotalBsmtSF'] = test['TotalBsmtSF'].apply(lambda x: np.exp(6) if x <= 0.0 else x)\n",
        "test['2ndFlrSF'] = test['2ndFlrSF'].apply(lambda x: np.exp(6.5) if x <= 0.0 else x)\n",
        "test['GarageArea'] = test['GarageArea'].apply(lambda x: np.exp(6) if x <= 0.0 else x)\n",
        "test['GarageCars'] = test['GarageCars'].apply(lambda x: 0 if x <= 0.0 else x)\n",
        "test['LotFrontage'] = test['LotFrontage'].apply(lambda x: np.exp(4.2) if x <= 0.0 else x)\n",
        "test['MasVnrArea'] = test['MasVnrArea'].apply(lambda x: np.exp(4) if x <= 0.0 else x)\n",
        "test['BsmtFinSF1'] = test['BsmtFinSF1'].apply(lambda x: np.exp(6.5) if x <= 0.0 else x)\n",
        "\n",
        "test['haspool'] = test['PoolArea'].apply(lambda x: 1 if x > 0 else 0)\n",
        "test['has2ndfloor'] = test['2ndFlrSF'].apply(lambda x: 1 if x > 0 else 0)\n",
        "test['hasgarage'] = test['GarageArea'].apply(lambda x: 1 if x > 0 else 0)\n",
        "test['hasbsmt'] = test['TotalBsmtSF'].apply(lambda x: 1 if x > 0 else 0)\n",
        "test['hasfireplace'] = test['Fireplaces'].apply(lambda x: 1 if x > 0 else 0)"
      ],
      "metadata": {
        "id": "IKSr8qoOUyeU"
      },
      "execution_count": null,
      "outputs": []
    },
    {
      "cell_type": "code",
      "source": [
        "def logs(res, ls):\n",
        "    m = res.shape[1]\n",
        "    for l in ls:\n",
        "        res = res.assign(newcol=pd.Series(np.log(1.01+res[l])).values)   \n",
        "        res.columns.values[m] = l + '_log'\n",
        "        m += 1\n",
        "    return res\n",
        "\n",
        "log_features = ['LotFrontage','LotArea','MasVnrArea','BsmtFinSF1','BsmtFinSF2','BsmtUnfSF',\n",
        "                 'TotalBsmtSF','1stFlrSF','2ndFlrSF','LowQualFinSF','GrLivArea',\n",
        "                 'BsmtFullBath','BsmtHalfBath','FullBath','HalfBath','BedroomAbvGr','KitchenAbvGr',\n",
        "                 'TotRmsAbvGrd','Fireplaces','GarageCars','GarageArea','WoodDeckSF','OpenPorchSF',\n",
        "                 'EnclosedPorch','3SsnPorch','ScreenPorch','PoolArea','MiscVal','YearRemodAdd','TotalSF']\n",
        "\n",
        "train = logs(train, log_features)\n",
        "\n",
        "test = logs(test, log_features)"
      ],
      "metadata": {
        "id": "187JsBiEU5XX"
      },
      "execution_count": null,
      "outputs": []
    },
    {
      "cell_type": "code",
      "source": [
        "def squares(res, ls):\n",
        "    m = res.shape[1]\n",
        "    for l in ls:\n",
        "        res = res.assign(newcol=pd.Series(res[l]*res[l]).values)   \n",
        "        res.columns.values[m] = l + '_sq'\n",
        "        m += 1\n",
        "    return res \n",
        "\n",
        "squared_features = ['YearRemodAdd', 'LotFrontage_log', \n",
        "              'TotalBsmtSF_log', '1stFlrSF_log', '2ndFlrSF_log', 'GrLivArea_log',\n",
        "              'GarageCars_log', 'GarageArea_log']\n",
        "\n",
        "train = squares(train, squared_features)\n",
        "\n",
        "test = squares(test, squared_features)"
      ],
      "metadata": {
        "id": "YEkYj5cDVByh"
      },
      "execution_count": null,
      "outputs": []
    },
    {
      "cell_type": "code",
      "source": [
        "train = pd.get_dummies(train).reset_index(drop=True)\n",
        "train.shape"
      ],
      "metadata": {
        "id": "LZLUYd61VLa6"
      },
      "execution_count": null,
      "outputs": []
    },
    {
      "cell_type": "code",
      "source": [
        "test = pd.get_dummies(test).reset_index(drop=True)"
      ],
      "metadata": {
        "id": "xjGMQ3KgVPBo"
      },
      "execution_count": null,
      "outputs": []
    },
    {
      "cell_type": "code",
      "source": [
        "train = train.loc[:,~train.columns.duplicated()]\n",
        "\n",
        "test = test.loc[:,~test.columns.duplicated()]"
      ],
      "metadata": {
        "id": "bR9mw4BJVRiw"
      },
      "execution_count": null,
      "outputs": []
    },
    {
      "cell_type": "code",
      "source": [
        "reg = setup(data = train, \n",
        "             target = 'SalePrice',\n",
        "             numeric_imputation = 'mean',\n",
        "             normalize = True,\n",
        "             ignore_features = ['Condition2_RRAe', 'Condition2_RRAn', 'Condition2_RRNn', 'HouseStyle_2.5Fin', \n",
        "                               'RoofMatl_Membran', 'RoofMatl_Metal', 'RoofMatl_Roll', 'Exterior1st_ImStucc', \n",
        "                               'Exterior1st_Stone', 'Exterior2nd_Other', 'Heating_Floor', 'Heating_OthW', \n",
        "                               'Electrical_Mix', 'GarageQual_Ex', 'MiscFeature_TenC'],\n",
        "             silent = True)"
      ],
      "metadata": {
        "id": "jMO5YQxhVZZr"
      },
      "execution_count": null,
      "outputs": []
    },
    {
      "cell_type": "code",
      "source": [
        "compare_models()"
      ],
      "metadata": {
        "id": "v-4R9I8AVg6Y"
      },
      "execution_count": null,
      "outputs": []
    },
    {
      "cell_type": "code",
      "source": [
        "br = create_model('br')\n",
        "lightgbm = create_model('lightgbm')\n",
        "rf = create_model('rf')"
      ],
      "metadata": {
        "id": "k3e4suRwVn5Y"
      },
      "execution_count": null,
      "outputs": []
    },
    {
      "cell_type": "code",
      "source": [
        "tuned_lgb = tune_model(br)\n",
        "tuned_lgb = tune_model(lightgbm)\n",
        "tuned_lgb = tune_model(rf)"
      ],
      "metadata": {
        "id": "Gz2EG1zAWHjU"
      },
      "execution_count": null,
      "outputs": []
    },
    {
      "cell_type": "code",
      "source": [
        "print(train.shape, test.shape)"
      ],
      "metadata": {
        "id": "8MVQyGrQWeYb"
      },
      "execution_count": null,
      "outputs": []
    },
    {
      "cell_type": "code",
      "source": [
        "predictions = predict_model(tuned_lgb, data = test)\n",
        "sample['SalePrice'] = predictions['Label']\n",
        "sample.to_csv('submission_house_price.csv', index=False)\n",
        "sample.head()"
      ],
      "metadata": {
        "id": "D0JurC3zWPti"
      },
      "execution_count": null,
      "outputs": []
    },
    {
      "cell_type": "code",
      "source": [
        ""
      ],
      "metadata": {
        "id": "gJJF3Ln5WZGe"
      },
      "execution_count": null,
      "outputs": []
    }
  ]
}