{
  "nbformat": 4,
  "nbformat_minor": 0,
  "metadata": {
    "colab": {
      "name": "Bank Loan (LogRegression and RandomForest :) .ipynb",
      "private_outputs": true,
      "provenance": [],
      "authorship_tag": "ABX9TyPtaweiUlZJyEgESyxVKWZv",
      "include_colab_link": true
    },
    "kernelspec": {
      "name": "python3",
      "display_name": "Python 3"
    },
    "language_info": {
      "name": "python"
    },
    "accelerator": "GPU"
  },
  "cells": [
    {
      "cell_type": "markdown",
      "metadata": {
        "id": "view-in-github",
        "colab_type": "text"
      },
      "source": [
        "<a href=\"https://colab.research.google.com/github/dkurbatovv/Python/blob/main/Bank_Loan_(LogRegression_and_RandomForest_)_.ipynb\" target=\"_parent\"><img src=\"https://colab.research.google.com/assets/colab-badge.svg\" alt=\"Open In Colab\"/></a>"
      ]
    },
    {
      "cell_type": "code",
      "execution_count": null,
      "metadata": {
        "id": "KPjFpqqAVErr"
      },
      "outputs": [],
      "source": [
        "#%pip install https://s3-us-west-2.amazonaws.com/xgboost-nightly-builds/master/xgboost-1.6.0.dev0%2B1d468e20a4fff83f3149e99371b67e6b31f64152-py3-none-manylinux2014_x86_64.whl\n"
      ]
    },
    {
      "cell_type": "code",
      "source": [
        "import pandas as pd\n",
        "import numpy as np\n",
        "import matplotlib.pyplot as plt\n",
        "import seaborn as sns\n",
        "\n",
        "from sklearn.model_selection import train_test_split\n",
        "from sklearn.preprocessing import LabelEncoder\n",
        "from sklearn.metrics import r2_score, confusion_matrix, accuracy_score, log_loss, classification_report\n",
        "from sklearn.tree import DecisionTreeClassifier\n",
        "from sklearn.linear_model import LinearRegression, LogisticRegression"
      ],
      "metadata": {
        "id": "dt4_GwPvVV1T"
      },
      "execution_count": null,
      "outputs": []
    },
    {
      "cell_type": "code",
      "source": [
        "df = pd.read_csv('lending_club_loan_dataset.csv')"
      ],
      "metadata": {
        "id": "Jykz_V5KVWtD"
      },
      "execution_count": null,
      "outputs": []
    },
    {
      "cell_type": "code",
      "source": [
        "df.head()\n",
        "df = df.drop('id', axis = 1)\n"
      ],
      "metadata": {
        "id": "pdmnVyGJVZO0"
      },
      "execution_count": null,
      "outputs": []
    },
    {
      "cell_type": "code",
      "source": [
        "df = df.dropna(subset = ['dti'])\n",
        "df = df.dropna(subset = ['home_ownership'])\n",
        "df.info()"
      ],
      "metadata": {
        "id": "GgKr4MsmValZ"
      },
      "execution_count": null,
      "outputs": []
    },
    {
      "cell_type": "code",
      "source": [
        "plt.figure(figsize=(12,10))\n",
        "sns.heatmap(df.corr(), annot = True, cmap = 'seismic')"
      ],
      "metadata": {
        "id": "uhfFvH0qVc50"
      },
      "execution_count": null,
      "outputs": []
    },
    {
      "cell_type": "code",
      "source": [
        "df = df.drop('last_major_derog_none', axis = 1)\n",
        "#df = df.dropna(subset = ['last_major_derog_none'])"
      ],
      "metadata": {
        "id": "TEVMfXEXVfV_"
      },
      "execution_count": null,
      "outputs": []
    },
    {
      "cell_type": "code",
      "source": [
        "plt.figure(figsize=(12,10))\n",
        "sns.countplot(x = 'bad_loan', data = df)"
      ],
      "metadata": {
        "id": "7PNQDXNJVgsW"
      },
      "execution_count": null,
      "outputs": []
    },
    {
      "cell_type": "code",
      "source": [
        "features = ['grade',  'short_emp', 'emp_length_num', 'home_ownership',\n",
        "            'purpose', 'term', 'last_delinq_none']\n",
        "for f in features:\n",
        "    plt.figure(figsize = (12,6))\n",
        "    sns.countplot(x = f, data = df, palette = 'Set3', hue = 'bad_loan')\n",
        "    plt.show()"
      ],
      "metadata": {
        "id": "7QQ22mNIViZT"
      },
      "execution_count": null,
      "outputs": []
    },
    {
      "cell_type": "code",
      "source": [
        "for column in df:\n",
        "    unique_val = np.unique(df[column])\n",
        "    nr_val = len(unique_val)\n",
        "    if nr_val < 12:\n",
        "        print('The number of values for feature {} : {} -- :{}'.format(column, nr_val, unique_val))\n",
        "    else:\n",
        "        print('The number of values for feature {} : {}'.format(column, nr_val)) "
      ],
      "metadata": {
        "id": "Emd0bkzqVkwH"
      },
      "execution_count": null,
      "outputs": []
    },
    {
      "cell_type": "code",
      "source": [
        "new_df = pd.get_dummies(df, columns = ['grade', 'home_ownership', 'term', 'purpose', 'emp_length_num'])"
      ],
      "metadata": {
        "id": "N5RRhf-gVmso"
      },
      "execution_count": null,
      "outputs": []
    },
    {
      "cell_type": "code",
      "source": [
        "X = new_df.drop('bad_loan', axis = 1).values\n",
        "y = new_df['bad_loan'].values"
      ],
      "metadata": {
        "id": "W9SoTeizVoOx"
      },
      "execution_count": null,
      "outputs": []
    },
    {
      "cell_type": "code",
      "source": [
        "X_train, X_test, y_train, y_test = train_test_split(X, y, train_size = 0.8, test_size=0.2, random_state=15)\n"
      ],
      "metadata": {
        "id": "NNg2ec5EVpqS"
      },
      "execution_count": null,
      "outputs": []
    },
    {
      "cell_type": "code",
      "source": [
        "lr = LogisticRegression()\n",
        "lr.fit(X_train, y_train)\n",
        "lr.predict(X_train)\n",
        "y_pred = lr.predict(X_train)\n",
        "\n",
        "pred_proba = lr.predict_proba(X_train)\n",
        "\n",
        "\n",
        "print('The training accuracy is ', lr.score(X_train, y_train))\n",
        "print('The testing accuracy is ', lr.score(X_test, y_test))\n",
        "\n",
        "print(classification_report(y_train, y_pred))"
      ],
      "metadata": {
        "id": "NvaKHNXkVrEc"
      },
      "execution_count": null,
      "outputs": []
    },
    {
      "cell_type": "code",
      "source": [
        "def plot_confusion_matrix(cm, classes=None, title='Confusion matrix'):\n",
        "    \"\"\"Plots a confusion matrix.\"\"\"\n",
        "    if classes is not None:\n",
        "        sns.heatmap(cm, cmap=\"YlGnBu\", xticklabels=classes, yticklabels=classes, vmin=0., vmax=1., annot=True, annot_kws={'size':50})\n",
        "    else:\n",
        "        sns.heatmap(cm, vmin=0., vmax=1.)\n",
        "    plt.title(title)\n",
        "    plt.ylabel('True label')\n",
        "    plt.xlabel('Predicted label')"
      ],
      "metadata": {
        "id": "paifnXJkVshZ"
      },
      "execution_count": null,
      "outputs": []
    },
    {
      "cell_type": "code",
      "source": [
        "cm = confusion_matrix(y_train, y_pred)\n",
        "cm_norm = cm / cm.sum(axis=1).reshape(-1,1)\n",
        "\n",
        "plot_confusion_matrix(cm_norm, classes = lr.classes_, title='Confusion matrix')"
      ],
      "metadata": {
        "id": "cX_TMSRzVunc"
      },
      "execution_count": null,
      "outputs": []
    },
    {
      "cell_type": "code",
      "source": [
        "from sklearn.ensemble import RandomForestClassifier"
      ],
      "metadata": {
        "id": "BITNo2FHVvzV"
      },
      "execution_count": null,
      "outputs": []
    },
    {
      "cell_type": "code",
      "source": [
        "rf = RandomForestClassifier(criterion='entropy', n_estimators = 20)"
      ],
      "metadata": {
        "id": "x4YCt0dnVxHj"
      },
      "execution_count": null,
      "outputs": []
    },
    {
      "cell_type": "code",
      "source": [
        "rf.fit(X_train, y_train)\n",
        "rf_prediction_test = rf.predict(X_test)"
      ],
      "metadata": {
        "id": "fk4Tq30FVx9A"
      },
      "execution_count": null,
      "outputs": []
    },
    {
      "cell_type": "code",
      "source": [
        "print('The training accuracy is ', rf.score(X_train, y_train))\n",
        "print('The testing accuracy is ', rf.score(X_test, y_test))"
      ],
      "metadata": {
        "id": "z3OQuUKbVy0p"
      },
      "execution_count": null,
      "outputs": []
    },
    {
      "cell_type": "code",
      "source": [
        "cm = confusion_matrix(y_test, rf_prediction_test)\n",
        "cm_norm = cm / cm.sum(axis = 1)[:, np.newaxis]\n",
        "plt.figure()\n",
        "plot_confusion_matrix(cm_norm, classes = rf.classes_)"
      ],
      "metadata": {
        "id": "Bjj17UpcVz3G"
      },
      "execution_count": null,
      "outputs": []
    },
    {
      "cell_type": "code",
      "source": [
        "from sklearn.model_selection import RandomizedSearchCV\n",
        "import xgboost"
      ],
      "metadata": {
        "id": "OkLFa4WmV7jQ"
      },
      "execution_count": null,
      "outputs": []
    },
    {
      "cell_type": "code",
      "source": [
        "classifier = xgboost.XGBClassifier(tree_method='gpu_hist')\n",
        "\n",
        "params = {\n",
        "          \"learning_rate\":[0.05,0.10,0.15,0.20,0.25,0.30],\n",
        "          \"max_depth\":[2,3,4,5,6,8,10,12,15],\n",
        "          \"min_child_weight\":[1,3,5,7],\n",
        "          \"gamma\":[0.0,0.1,0.2,0.3,0.4],\n",
        "          \"colsample_bytree\":[0.3,0.4,0.5,0.7]\n",
        "}"
      ],
      "metadata": {
        "id": "fwYJwmtdV1P7"
      },
      "execution_count": null,
      "outputs": []
    },
    {
      "cell_type": "code",
      "source": [
        "clf = RandomizedSearchCV(classifier, param_distributions = params, n_iter = 5, cv = 5, verbose=2, scoring = 'roc_auc')"
      ],
      "metadata": {
        "id": "oyRSKO3nV6Jr"
      },
      "execution_count": null,
      "outputs": []
    },
    {
      "cell_type": "code",
      "source": [
        "clf.fit(X,y)"
      ],
      "metadata": {
        "id": "QAMEJCzfV-Ay"
      },
      "execution_count": null,
      "outputs": []
    },
    {
      "cell_type": "code",
      "source": [
        "clf.best_estimator_"
      ],
      "metadata": {
        "id": "BphNhS3uV_Bw"
      },
      "execution_count": null,
      "outputs": []
    },
    {
      "cell_type": "code",
      "source": [
        "clf.best_params_"
      ],
      "metadata": {
        "id": "dnpXscNUWwRX"
      },
      "execution_count": null,
      "outputs": []
    },
    {
      "cell_type": "code",
      "source": [
        "final_model = xgboost.XGBClassifier(colsample_bytree=0.3, gamma=0.4, learning_rate=0.05, max_depth=5,\n",
        "              min_child_weight=3, tree_method='gpu_hist')"
      ],
      "metadata": {
        "id": "UmBKJKjKWxsF"
      },
      "execution_count": null,
      "outputs": []
    },
    {
      "cell_type": "code",
      "source": [
        "final_model.fit(X, y)"
      ],
      "metadata": {
        "id": "SqUEMZ_tW402"
      },
      "execution_count": null,
      "outputs": []
    },
    {
      "cell_type": "code",
      "source": [
        "pred_xgboost = final_model.predict(X)"
      ],
      "metadata": {
        "id": "CEiIiRr1W5Ld"
      },
      "execution_count": null,
      "outputs": []
    },
    {
      "cell_type": "code",
      "source": [
        "cm = confusion_matrix(y, pred_xgboost)\n",
        "cm_norm = cm/cm.sum(axis=1)[:, np.newaxis]\n",
        "plt.figure()\n",
        "plot_confusion_matrix(cm_norm, classes=rf.classes_)"
      ],
      "metadata": {
        "id": "sSi36aq1W62Z"
      },
      "execution_count": null,
      "outputs": []
    },
    {
      "cell_type": "code",
      "source": [
        "print('The testing accuracy is ', final_model.score(X, y))"
      ],
      "metadata": {
        "id": "apGufIadW74o"
      },
      "execution_count": null,
      "outputs": []
    },
    {
      "cell_type": "code",
      "source": [
        " "
      ],
      "metadata": {
        "id": "67VBxfF_W_eK"
      },
      "execution_count": null,
      "outputs": []
    }
  ]
}